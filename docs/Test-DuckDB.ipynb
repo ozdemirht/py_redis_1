{
 "cells": [
  {
   "metadata": {},
   "cell_type": "markdown",
   "source": "## Spatial Hierarchical Indexing for Nearest Neighbor Query (NNQ)",
   "id": "b6424fbe41632ace"
  },
  {
   "metadata": {},
   "cell_type": "markdown",
   "source": [
    "Objective of this notebook is to explore Uber H3 Index with DuckDB.\n",
    "<br>"
   ],
   "id": "ce091eb0b2a19a77"
  },
  {
   "metadata": {},
   "cell_type": "code",
   "source": [
    "\n",
    "%pip install duckdb\n",
    "%pip install geopandas\n",
    "%pip install tabulate\n",
    "%pip install matplotlib\n",
    "%pip install contextily"
   ],
   "id": "5b12921f3113d245",
   "outputs": [],
   "execution_count": null
  },
  {
   "metadata": {
    "collapsed": true
   },
   "cell_type": "code",
   "source": [
    "import duckdb\n",
    "import h3\n",
    "import folium\n",
    "#from shapely.geometry import MultiPolygon, Polygon\n",
    "from IPython.display import display\n",
    "import pandas as pd\n",
    "import json\n",
    "#from prompt_toolkit.formatted_text import to_plain_text"
   ],
   "id": "initial_id",
   "outputs": [],
   "execution_count": null
  },
  {
   "metadata": {},
   "cell_type": "markdown",
   "source": "Read restaurant locations",
   "id": "f1a872905fd4cbbf"
  },
  {
   "metadata": {},
   "cell_type": "code",
   "source": [
    "filename=\"./restaurants.json\"\n",
    "lines=[]\n",
    "N=5000\n",
    "with open(filename, 'r') as infile:\n",
    "    lines = [line for line in infile][:N]\n",
    "#print(lines)\n",
    "\n",
    "for line in lines:\n",
    "    json_line = json.loads(line)\n",
    "    #print(f\"name: {json_line['name']} , location: {json_line['location']['coordinates']}\")\n",
    "\n",
    "# Define DataFrame\n",
    "df = pd.DataFrame(columns=[\"Name\", \"Lon\", \"Lat\"])\n",
    "\n",
    "# Parse each line and add to DataFrame\n",
    "for line in lines:\n",
    "    json_line = json.loads(line)\n",
    "    df.loc[len(df)]={\"Name\":json_line['name'], \"Lon\":json_line['location']['coordinates'][0], \"Lat\":json_line['location']['coordinates'][1] }\n",
    "\n",
    "#from tabulate import tabulate\n",
    "#print(tabulate(df, headers = 'keys', tablefmt = 'psql'))\n",
    "df.head(10)\n",
    "\n"
   ],
   "id": "185e197b882cb3ab",
   "outputs": [],
   "execution_count": null
  },
  {
   "metadata": {},
   "cell_type": "markdown",
   "source": "",
   "id": "edbe3305e8b773a1"
  },
  {
   "metadata": {},
   "cell_type": "markdown",
   "source": "Store restaurant data set into CSV file so that we can upload to DuckDB",
   "id": "c76e630bf514ae8c"
  },
  {
   "metadata": {},
   "cell_type": "code",
   "source": "df.to_csv(\"./restaurants.csv\",index=False)",
   "id": "1b01017ebc1322aa",
   "outputs": [],
   "execution_count": null
  },
  {
   "metadata": {},
   "cell_type": "code",
   "source": [
    "from os import listdir\n",
    "from os.path import isfile, join\n",
    "mypath=\"./\"\n",
    "onlyfiles = [f for f in listdir(mypath) if isfile(join(mypath, f)) and f.endswith(\".csv\")]\n",
    "onlyfiles"
   ],
   "id": "33b7b9cee9318d",
   "outputs": [],
   "execution_count": null
  },
  {
   "metadata": {},
   "cell_type": "markdown",
   "source": "",
   "id": "afbbfe1ceca628db"
  },
  {
   "metadata": {},
   "cell_type": "code",
   "source": [
    "def listFilesInWithExtension(target_path, target_ext=\".csv\"):\n",
    "    if target_path:\n",
    "        return [f for f in listdir(target_path) if isfile(join(target_path, f)) and f.endswith(target_ext)]\n",
    "    else:\n",
    "        return None"
   ],
   "id": "3aee9dc9b376adb3",
   "outputs": [],
   "execution_count": null
  },
  {
   "metadata": {},
   "cell_type": "code",
   "source": "duckdb.sql(\"SELECT 'whistling_duck' AS waterfowl, 'whistle' AS call\")",
   "id": "53e2b9ac2075306f",
   "outputs": [],
   "execution_count": null
  },
  {
   "metadata": {},
   "cell_type": "markdown",
   "source": "Let's load restaurants.csv file as a table to food-delivery.db",
   "id": "503b2db9e340733f"
  },
  {
   "metadata": {},
   "cell_type": "code",
   "source": [
    "with duckdb.connect(database=\"food-delivery.db\") as conn:\n",
    "    conn.read_csv(\"./restaurants.csv\").to_table(\"restaurants\")\n",
    "    conn.close()\n"
   ],
   "id": "350e6991f7bfd0e9",
   "outputs": [],
   "execution_count": null
  },
  {
   "metadata": {},
   "cell_type": "markdown",
   "source": "Validate that DuckDB created .db file",
   "id": "c9f7f877218776ac"
  },
  {
   "metadata": {},
   "cell_type": "code",
   "source": "listFilesInWithExtension(\"./\",target_ext=\".db\")",
   "id": "27d85ce44235b7b1",
   "outputs": [],
   "execution_count": null
  },
  {
   "metadata": {},
   "cell_type": "markdown",
   "source": "Validate restaurants table",
   "id": "73969c9a5b18544e"
  },
  {
   "metadata": {},
   "cell_type": "code",
   "source": [
    "answer=None\n",
    "\n",
    "with duckdb.connect(database=\"food-delivery.db\") as conn:\n",
    "    answer=conn.sql(\"SELECT * FROM restaurants\")\n",
    "    conn.close()\n"
   ],
   "id": "1c5bc9dec11b90ec",
   "outputs": [],
   "execution_count": null
  },
  {
   "metadata": {},
   "cell_type": "code",
   "source": [
    "con = duckdb.connect('food-delivery.db')\n",
    "\n",
    "results = con.sql(\"SHOW ALL TABLES\").fetchall()\n",
    "print(type(results))\n",
    "for result in results:\n",
    "    print(result)\n",
    "\n",
    "results = con.sql(\"SELECT Name, Lon, Lat FROM restaurants\").fetchall()\n",
    "print(type(results))\n",
    "for result in results:\n",
    "    print(result)"
   ],
   "id": "e5139c88e0170534",
   "outputs": [],
   "execution_count": null
  },
  {
   "metadata": {},
   "cell_type": "markdown",
   "source": [
    "Let's add new geom column to restaurants table.\n",
    "<br> ST_Transform()\n",
    "<br> ST_Point()\n",
    "\n"
   ],
   "id": "a07a240de4f54538"
  },
  {
   "metadata": {},
   "cell_type": "markdown",
   "source": [
    "Installs and Loads spatial\n",
    "<br>Adds new geom column to restaurants table."
   ],
   "id": "18cd378ae5e4a709"
  },
  {
   "metadata": {},
   "cell_type": "code",
   "source": [
    "%%time\n",
    "con = duckdb.connect('food-delivery.db')\n",
    "query = \"\"\"\n",
    "INSTALL spatial; LOAD spatial;\n",
    "ALTER TABLE restaurants ADD COLUMN geom GEOMETRY;\n",
    "\"\"\"\n",
    "con.sql(query)"
   ],
   "id": "6d5f057d6e2ccc47",
   "outputs": [],
   "execution_count": null
  },
  {
   "metadata": {},
   "cell_type": "markdown",
   "source": "Update geom column values from lat and lon columns by using ST_Point.\n",
   "id": "f56a2fdf73e3faf0"
  },
  {
   "metadata": {},
   "cell_type": "code",
   "source": [
    "%%time\n",
    "con = duckdb.connect('food-delivery.db')\n",
    "query = \"\"\"\n",
    "UPDATE restaurants\n",
    "    SET geom = ST_Point(lat, lon);\n",
    "\"\"\"\n",
    "con.sql(query)"
   ],
   "id": "68b09a2ee31543f7",
   "outputs": [],
   "execution_count": null
  },
  {
   "metadata": {},
   "cell_type": "markdown",
   "source": "Let's retrieve the name and location of restaurants",
   "id": "7dab3eae7f8f203d"
  },
  {
   "metadata": {},
   "cell_type": "code",
   "source": [
    "%%time\n",
    "con = duckdb.connect('food-delivery.db')\n",
    "query = f\"\"\"\n",
    "SELECT name, Lon, Lat, geom FROM restaurants;\n",
    "\"\"\"\n",
    "df_select = con.sql(query).df()"
   ],
   "id": "6a0071dd493c3cac",
   "outputs": [],
   "execution_count": null
  },
  {
   "metadata": {},
   "cell_type": "markdown",
   "source": "Let's display 10 rows",
   "id": "4fbf7b4aae3447ac"
  },
  {
   "metadata": {},
   "cell_type": "code",
   "source": "df_select[:10]",
   "id": "68d53529b4813bf8",
   "outputs": [],
   "execution_count": null
  },
  {
   "metadata": {},
   "cell_type": "markdown",
   "source": [
    "The following functions are helpers for visualization\n",
    "<br>vis_add_circle() adds a circle [center:(lat,lon), radius:r] to folium.Map\n",
    "<br>visualize_poi() adds point of interests to folium.Map\n",
    "<br>"
   ],
   "id": "8ccebaae65b4fc26"
  },
  {
   "metadata": {
    "ExecuteTime": {
     "end_time": "2025-10-02T01:09:17.134035Z",
     "start_time": "2025-10-02T01:09:17.125344Z"
    }
   },
   "cell_type": "code",
   "source": [
    "def vis_add_circle(mymap, lat, lon, r,color=\"cornflowerblue\"):\n",
    "    circle = folium.CircleMarker(\n",
    "                location=[lat, lon],\n",
    "                radius=r,\n",
    "                color=color,\n",
    "                stroke=False,\n",
    "                fill=True,\n",
    "                fill_opacity=0.6,\n",
    "                opacity=1,\n",
    "                popup=\"{} pixels\".format(r),\n",
    "                tooltip=\"I am NNQ\",\n",
    "    )\n",
    "    mymap.add_child(circle)\n",
    "\n",
    "\n",
    "def visualize_poi(df_selected, nnq_lon=None, nnq_lat=None, radius=10, color=\"red\"):\n",
    "    \"\"\"\n",
    "    Visualize  by using folium map\n",
    "\n",
    "    :param df_selected:\n",
    "    :param nnq_lon:\n",
    "    :param nnq_lat:\n",
    "    :param radius:\n",
    "    :param color:\n",
    "    :return:\n",
    "    \"\"\"\n",
    "\n",
    "    fm_map = folium.Map(location=[sum(df_selected.Lat)/len(df_selected.Lat), sum(df_selected.Lon)/len(df_selected.Lon)], zoom_start=10, tiles='Cartodb Positron')\n",
    "    if nnq_lat and nnq_lon:\n",
    "        vis_add_circle(fm_map, nnq_lat, nnq_lon, radius, color=\"red\")\n",
    "    #my_PolyLine=folium.PolyLine(locations=polyline,weight=8,color=color)\n",
    "    #m.add_child(my_PolyLine)\n",
    "    for index, row in df.iterrows():\n",
    "        r=2\n",
    "        circle = folium.CircleMarker(\n",
    "                location=[row['Lat'], row['Lon']],\n",
    "                radius=r,\n",
    "                color=\"cornflowerblue\",\n",
    "                stroke=False,\n",
    "                fill=True,\n",
    "                fill_opacity=0.6,\n",
    "                opacity=1,\n",
    "                popup=\"{} pixels\".format(r),\n",
    "                tooltip=row['Name'],\n",
    "            )\n",
    "        fm_map.add_child(circle)\n",
    "\n",
    "    return m\n"
   ],
   "id": "bd1ccc1d0cddab19",
   "outputs": [],
   "execution_count": 240
  },
  {
   "metadata": {},
   "cell_type": "markdown",
   "source": "Let's see the locations on a map",
   "id": "b4a6118757b62fc4"
  },
  {
   "metadata": {},
   "cell_type": "code",
   "source": [
    "m = visualize_poi(df_select,None,None)\n",
    "display(m)"
   ],
   "id": "3406f465a21967f2",
   "outputs": [],
   "execution_count": null
  },
  {
   "metadata": {},
   "cell_type": "markdown",
   "source": [
    "If it does not display the map, here it is.\n",
    "![](./md-1.png)"
   ],
   "id": "18d950b37eafcddd"
  },
  {
   "metadata": {},
   "cell_type": "markdown",
   "source": [
    "## NNQ Query\n",
    "<br> Let's define a NNQ with center location and distance (radius)"
   ],
   "id": "dc18f99e95f788f9"
  },
  {
   "metadata": {},
   "cell_type": "code",
   "source": [
    "NNQ_LON=-73.8601152\n",
    "NNQ_LAT= 40.7311739\n",
    "NNQ_RADIUS = 110\n"
   ],
   "id": "581f7cf35508c849",
   "outputs": [],
   "execution_count": null
  },
  {
   "metadata": {},
   "cell_type": "markdown",
   "source": "LLet's see the NNQ on the map with restaurants",
   "id": "657d149870d3065f"
  },
  {
   "metadata": {},
   "cell_type": "code",
   "source": [
    "m = visualize_poi(df_select, NNQ_LON, NNQ_LAT, NNQ_RADIUS*0.005)\n",
    "display(m)"
   ],
   "id": "45dbef8532963f34",
   "outputs": [],
   "execution_count": null
  },
  {
   "metadata": {},
   "cell_type": "markdown",
   "source": [
    "The circle in red denotes the range of query.\n",
    "<br>If it does not display the map, here it is.\n",
    "![](./md-2.png)"
   ],
   "id": "4fe65448385a2dc1"
  },
  {
   "metadata": {},
   "cell_type": "markdown",
   "source": [
    "Let's find the distance between query center and each restaurant.\n",
    "<br>This query has to scan the table."
   ],
   "id": "9da79a541ce17b03"
  },
  {
   "metadata": {},
   "cell_type": "code",
   "source": [
    "%%time\n",
    "con = duckdb.connect('food-delivery.db')\n",
    "query = f\"\"\"\n",
    "SELECT name\n",
    "    , Lon\n",
    "    , Lat\n",
    "    , ST_Distance(geom, ST_Point({NNQ_LON}, {NNQ_LAT})) AS dist2NNQ\n",
    "FROM restaurants\n",
    "\"\"\"\n",
    "df_select = con.sql(query).df()"
   ],
   "id": "8d4a9a119d6a95a5",
   "outputs": [],
   "execution_count": null
  },
  {
   "metadata": {},
   "cell_type": "markdown",
   "source": "Let's sort these and display",
   "id": "eb12da0f4ffa83bc"
  },
  {
   "metadata": {},
   "cell_type": "code",
   "source": [
    "df_select.sort_values(by='dist2NNQ', ascending=True, inplace=True)\n",
    "df_select"
   ],
   "id": "8174971faa0e932f",
   "outputs": [],
   "execution_count": null
  },
  {
   "metadata": {},
   "cell_type": "markdown",
   "source": [
    "Let's find restaurant locations without any index.\n",
    "<br>It uses ST_DWithin() spatial function to select the locations within the radius."
   ],
   "id": "2a05ea37e431c84c"
  },
  {
   "metadata": {},
   "cell_type": "code",
   "source": [
    "%%time\n",
    "con = duckdb.connect('food-delivery.db')\n",
    "query = f\"\"\"\n",
    "SELECT name, Lon, Lat FROM restaurants\n",
    "WHERE ST_DWithin(geom, ST_Point({NNQ_LON}, {NNQ_LAT}), {NNQ_RADIUS}*0.016195);\n",
    "\"\"\"\n",
    "df_select = con.sql(query).df()"
   ],
   "id": "941f1b4c7a349ca7",
   "outputs": [],
   "execution_count": null
  },
  {
   "metadata": {},
   "cell_type": "code",
   "source": "df_select",
   "id": "d29fc704be4b5a1d",
   "outputs": [],
   "execution_count": null
  },
  {
   "metadata": {},
   "cell_type": "code",
   "source": [
    "m = visualize_poi(df_select, NNQ_LON, NNQ_LAT, NNQ_RADIUS*0.005)\n",
    "display(m)"
   ],
   "id": "2705b52cb076be13",
   "outputs": [],
   "execution_count": null
  },
  {
   "metadata": {},
   "cell_type": "markdown",
   "source": [
    "<br>If it does not display the map, here it is.\n",
    "![](./md-3.png)"
   ],
   "id": "c841522e5ffe8496"
  },
  {
   "metadata": {},
   "cell_type": "markdown",
   "source": [
    "## No Index\n",
    "Let's analyze the query plan to verify table scan"
   ],
   "id": "eefae5e943f13c33"
  },
  {
   "metadata": {},
   "cell_type": "code",
   "source": [
    "%%time\n",
    "con = duckdb.connect('food-delivery.db')\n",
    "query = f\"\"\"\n",
    "EXPLAIN ANALYZE\n",
    "SELECT name, Lon, Lat FROM restaurants\n",
    "WHERE ST_DWithin(geom, ST_Point({NNQ_LON}, {NNQ_LAT}), {NNQ_RADIUS}*1.4734);\n",
    "\"\"\"\n",
    "query_plan = con.sql(query).fetchall()"
   ],
   "id": "93eefdd08ac862be",
   "outputs": [],
   "execution_count": null
  },
  {
   "metadata": {},
   "cell_type": "code",
   "source": [
    "analyzed_plan = query_plan[0][1]\n",
    "\n",
    "for line in analyzed_plan.split('\\n'):\n",
    "    print(line)\n",
    "\n",
    "with open('./qa_st_dwithin.txt', 'w', encoding=\"utf-8\") as f:\n",
    "    f.writelines(analyzed_plan)\n",
    "    f.close()\n"
   ],
   "id": "e4dd11e4a93e7b85",
   "outputs": [],
   "execution_count": null
  },
  {
   "metadata": {},
   "cell_type": "markdown",
   "source": [
    "As the query plan shows, it scans the table sequentially (Type: Sequential Scan). The time complexity is O(N) where N is the number of restaurants in the table.\n",
    "<br> It is suitable for sharding and applying scatter-gather query. In that case the time complexity will be O(N/S) (following Amhdal's Law). Gatherer/broker needs to apply multi-way merge sort before returning the final query result.\n",
    "<br> Here is the output image.<br>\n",
    "![](md-4.png)"
   ],
   "id": "393bc769c449b624",
   "attachments": {
    "03f163bc-cef6-403a-9305-d4e1474df590.png": {
     "image/png": "[encoded data removed]"
    }
   }
  },
  {
   "metadata": {},
   "cell_type": "markdown",
   "source": [
    "## R-Tree Index\n",
    "Let's use R-Tree index on geom column."
   ],
   "id": "b3e2c5a0fb23955f"
  },
  {
   "metadata": {},
   "cell_type": "code",
   "source": [
    "%%time\n",
    "query = \"CREATE INDEX spatial_index_rtree ON restaurants USING RTREE (geom);\"\n",
    "con.sql(query)\n"
   ],
   "id": "37994488cd5d14c9",
   "outputs": [],
   "execution_count": null
  },
  {
   "metadata": {},
   "cell_type": "code",
   "source": [
    "# \\TODO Fix mapping to spherical coordinate system\n",
    "MNNQ_RADIUS = (NNQ_RADIUS*1.4734)*0.7075"
   ],
   "id": "2b0128d785f4c22f",
   "outputs": [],
   "execution_count": null
  },
  {
   "metadata": {},
   "cell_type": "markdown",
   "source": [
    "Let's define a bounding box around the (center, radius) so that it can be used in the query to utilize R-Tree index.\n",
    "<br> GEOMETRY ST_MakeEnvelope (min_x DOUBLE, min_y DOUBLE, max_x DOUBLE, max_y DOUBLE)\n",
    "<br> \\TODO ST_MaximumInscribedCircle"
   ],
   "id": "461b477d25bfc77c"
  },
  {
   "metadata": {},
   "cell_type": "code",
   "source": [
    "%%time\n",
    "query = f\"SELECT ST_MakeEnvelope({NNQ_LON}-{MNNQ_RADIUS}, {NNQ_LAT}-{MNNQ_RADIUS},{NNQ_LON}+{MNNQ_RADIUS}, {NNQ_LAT}+{MNNQ_RADIUS}) AS envelope;\"\n",
    "dfr = con.sql(query).df()\n",
    "dfr"
   ],
   "id": "bbba4fb531bcc07d",
   "outputs": [],
   "execution_count": null
  },
  {
   "metadata": {},
   "cell_type": "markdown",
   "source": [
    "Query engine will consider R-Tree index if the predicates (conditions in WHERE clause) have one of the following spatial operations<br>\n",
    " - ST_Equals\n",
    " - ST_Intersects\n",
    " - ST_Touches\n",
    " - ST_Crosses\n",
    " - ST_Within\n",
    " - ST_Contains\n",
    " - ST_Overlaps\n",
    " - ST_Covers\n",
    " - ST_CoveredBy\n",
    " - ST_ContainsProperly\n"
   ],
   "id": "fbed4a291439386a"
  },
  {
   "metadata": {},
   "cell_type": "markdown",
   "source": [
    "This implementation is based on ST_Within() function\n",
    "<br>\n",
    "<br>BOOLEAN ST_Within (geom1 POINT_2D, geom2 POLYGON_2D)\n",
    "<br>BOOLEAN ST_Within (geom1 GEOMETRY, geom2 GEOMETRY)\n",
    "<br>\n",
    "<br> reference: https://duckdb.org/docs/stable/core_extensions/spatial/functions#st_within"
   ],
   "id": "b200644a0ba1afc2"
  },
  {
   "metadata": {
    "ExecuteTime": {
     "end_time": "2025-10-02T01:09:38.717372Z",
     "start_time": "2025-10-02T01:09:38.711047Z"
    }
   },
   "cell_type": "code",
   "source": [
    "MNNQ_RADIUS = NNQ_RADIUS * 0.011455\n",
    "print(\" %16.12f\" % MNNQ_RADIUS)"
   ],
   "id": "e067269254508842",
   "outputs": [
    {
     "name": "stdout",
     "output_type": "stream",
     "text": [
      " 114.550000000000\n"
     ]
    }
   ],
   "execution_count": 241
  },
  {
   "metadata": {},
   "cell_type": "code",
   "source": [
    "%%time\n",
    "con = duckdb.connect('food-delivery.db')\n",
    "query = f\"\"\"\n",
    "SET VARIABLE envelope = ST_MakeEnvelope({NNQ_LON}-{MNNQ_RADIUS}, {NNQ_LAT}-{MNNQ_RADIUS},{NNQ_LON}+{MNNQ_RADIUS}, {NNQ_LAT}+{MNNQ_RADIUS});\n",
    "SELECT name, Lon, Lat\n",
    "FROM restaurants\n",
    "WHERE ST_Within(geom,getvariable('envelope'));\n",
    "\"\"\"\n",
    "df_select = con.sql(query).df()"
   ],
   "id": "5b5c093d0f9ff27a",
   "outputs": [],
   "execution_count": null
  },
  {
   "metadata": {},
   "cell_type": "code",
   "source": "df_select",
   "id": "7b7cf0af7ee3cbbd",
   "outputs": [],
   "execution_count": null
  },
  {
   "metadata": {},
   "cell_type": "markdown",
   "source": "Let's analyze the query plan",
   "id": "de9d7a7f55ded109"
  },
  {
   "metadata": {},
   "cell_type": "code",
   "source": [
    "%%time\n",
    "con = duckdb.connect('food-delivery.db')\n",
    "query = f\"\"\"\n",
    "SET VARIABLE envelope = ST_MakeEnvelope({NNQ_LON}-{MNNQ_RADIUS}, {NNQ_LAT}-{MNNQ_RADIUS},{NNQ_LON}+{MNNQ_RADIUS}, {NNQ_LAT}+{MNNQ_RADIUS});\n",
    "\n",
    "EXPLAIN ANALYZE\n",
    "SELECT name, Lon, Lat\n",
    "FROM restaurants\n",
    "WHERE ST_Within(geom, getvariable('envelope'));\n",
    "--WHERE ST_Contains(getvariable('envelope'),geom);\n",
    "\"\"\"\n",
    "query_plan = con.sql(query).fetchall()"
   ],
   "id": "7617c0eb5297b63c",
   "outputs": [],
   "execution_count": null
  },
  {
   "metadata": {},
   "cell_type": "code",
   "source": [
    "analyzed_plan = query_plan[0][1]\n",
    "\n",
    "for line in analyzed_plan.split('\\n'):\n",
    "    print(line)\n",
    "\n",
    "with open('./qa_st_dwithin_rtree.txt', 'w', encoding=\"utf-8\") as f:\n",
    "    f.writelines(analyzed_plan)\n",
    "    f.close()"
   ],
   "id": "67ccfffe0fcc6f67",
   "outputs": [],
   "execution_count": null
  },
  {
   "metadata": {},
   "cell_type": "markdown",
   "source": [
    "Now, it uses Index: spatial_index_rtree when scanning the table.\n",
    "<br> here is part of analysis<br>\n",
    "![](md-5.png)"
   ],
   "id": "d9948aa90d36561a"
  },
  {
   "metadata": {},
   "cell_type": "code",
   "source": [
    "%%time\n",
    "con = duckdb.connect('food-delivery.db')\n",
    "query = f\"\"\"\n",
    "SELECT name, Lon, Lat\n",
    "FROM restaurants\n",
    "WHERE ST_DWithin(geom, ST_Point({NNQ_LON}, {NNQ_LAT}), {MNNQ_RADIUS});\n",
    "\"\"\"\n",
    "df_select = con.sql(query).df()"
   ],
   "id": "73267ce611d96405",
   "outputs": [],
   "execution_count": null
  },
  {
   "metadata": {},
   "cell_type": "code",
   "source": "df_select",
   "id": "1cee7a562484afe",
   "outputs": [],
   "execution_count": null
  },
  {
   "metadata": {},
   "cell_type": "code",
   "source": [
    "%%time\n",
    "con = duckdb.connect('food-delivery.db')\n",
    "query = f\"\"\"\n",
    "EXPLAIN ANALYZE\n",
    "SELECT name, Lon, Lat FROM restaurants\n",
    "WHERE ST_DWithin(geom, ST_Point({NNQ_LON}, {NNQ_LAT}), {MNNQ_RADIUS});\n",
    "\"\"\"\n",
    "query_plan = con.sql(query).fetchall()"
   ],
   "id": "80458a7d1addfa9b",
   "outputs": [],
   "execution_count": null
  },
  {
   "metadata": {},
   "cell_type": "code",
   "source": [
    "analyzed_plan = query_plan[0][1]\n",
    "\n",
    "for line in analyzed_plan.split('\\n'):\n",
    "    print(line)\n",
    "\n",
    "with open('./qa_st_dwithin_rtree.txt', 'w', encoding=\"utf-8\") as f:\n",
    "    f.writelines(analyzed_plan)\n",
    "    f.close()"
   ],
   "id": "2f79af7ee033095f",
   "outputs": [],
   "execution_count": null
  },
  {
   "metadata": {},
   "cell_type": "markdown",
   "source": "Because ST_DWithin() function does not exploit R-Tree index, query falls back to sequential scan.",
   "id": "5338ab1b9bfa3e1a"
  },
  {
   "metadata": {},
   "cell_type": "markdown",
   "source": "## H3 Index\n",
   "id": "261b2f4685f42077"
  },
  {
   "metadata": {},
   "cell_type": "markdown",
   "source": "Let's drop the R-Tree index on geom column.",
   "id": "b4ad46c46ed7959a"
  },
  {
   "metadata": {},
   "cell_type": "code",
   "source": [
    "con = duckdb.connect('food-delivery.db')\n",
    "query = \"\"\"\n",
    "DROP INDEX IF EXISTS spatial_index_rtree;\"\"\"\n",
    "con.sql(query)"
   ],
   "id": "fa48478291b27797",
   "outputs": [],
   "execution_count": null
  },
  {
   "metadata": {},
   "cell_type": "markdown",
   "source": "Let's install h3",
   "id": "99747e0366572ead"
  },
  {
   "metadata": {},
   "cell_type": "code",
   "source": [
    "query = \"\"\"\n",
    "INSTALL h3 FROM community; LOAD h3;\"\"\"\n",
    "con.sql(query)"
   ],
   "id": "501fe81c54add2ea",
   "outputs": [],
   "execution_count": null
  },
  {
   "metadata": {},
   "cell_type": "markdown",
   "source": [
    "Let's add a column to restaurants table to store H3 Cell Identifier..\n",
    "<br>\n",
    "<br>h3_latlng_to_cell(Lat, Lon, RESOLUTION): Returns the H3 Cell Identifier of location(Lat,Lon) at given RESOLUTION level"
   ],
   "id": "3aaee6105444f526"
  },
  {
   "metadata": {},
   "cell_type": "code",
   "source": [
    "%%time\n",
    "RESOLUTION=7\n",
    "query = f\"\"\"\n",
    "ALTER TABLE restaurants ADD COLUMN IF NOT EXISTS h3_cell_id BIGINT;\n",
    "UPDATE restaurants\n",
    "  SET h3_cell_id = h3_latlng_to_cell(Lat, Lon, {RESOLUTION});\n",
    "CREATE INDEX spatial_index_h3 ON restaurants (h3_cell_id)\"\"\"\n",
    "con.sql(query)"
   ],
   "id": "af2a40963ec98952",
   "outputs": [],
   "execution_count": null
  },
  {
   "metadata": {},
   "cell_type": "markdown",
   "source": "Let's see how H3 Cells are organized",
   "id": "cf7fd88897b26406"
  },
  {
   "metadata": {},
   "cell_type": "code",
   "source": [
    "RESOLUTION = 7\n",
    "NNQ_RADIUS = 10000\n",
    "\n",
    "h3_cell = h3.latlng_to_cell(NNQ_LAT, NNQ_LON, RESOLUTION)\n",
    "print(f\" LAT:{NNQ_LAT} LON:{NNQ_LON} resolution:{RESOLUTION} -> {h3_cell}\")\n",
    "\n",
    "h3_neighbors = h3.grid_disk(h3_cell, 1)  # Center + 1st ring\n",
    "print(type(h3_neighbors))\n",
    "h3_neighbors"
   ],
   "id": "6a9b8693104b0a58",
   "outputs": [],
   "execution_count": null
  },
  {
   "metadata": {},
   "cell_type": "markdown",
   "source": [
    "h3.grid_disk(h3_cell, 1) returns the first layer of H3 Cells surrounding the h3_cell.\n",
    "<br>Let's validate that it will produce the same when used in SQL"
   ],
   "id": "6ee3e9b044a0140e"
  },
  {
   "metadata": {},
   "cell_type": "code",
   "source": [
    "%%time\n",
    "query = f\"\"\"\n",
    "WITH query_h3 AS (\n",
    "  SELECT h3_latlng_to_cell({NNQ_LAT}, {NNQ_LON}, {RESOLUTION}) AS h3\n",
    "),\n",
    "nearby_h3 AS (\n",
    "  SELECT CAST(unnest(h3_grid_disk(h3, 1)) AS BIGINT) AS h3_cell_id\n",
    "  FROM query_h3\n",
    ")\n",
    "SELECT * FROM nearby_h3;\n",
    "\"\"\"\n",
    "df_select = con.sql(query).df()"
   ],
   "id": "366fed47fd1f0688",
   "outputs": [],
   "execution_count": null
  },
  {
   "metadata": {},
   "cell_type": "code",
   "source": "df_select",
   "id": "73dc2e86a6d07d12",
   "outputs": [],
   "execution_count": null
  },
  {
   "metadata": {},
   "cell_type": "markdown",
   "source": "The values do not look like the hexadecimal H3 Cell Id we have seen.",
   "id": "19defd7c137d45ec"
  },
  {
   "metadata": {},
   "cell_type": "code",
   "source": [
    "print(f\" Type(df_select)  : {type(df_select)}\")\n",
    "print(f\" Shape(df_select) : {df_select.shape}\")\n",
    "print(df_select.dtypes)"
   ],
   "id": "f5e9c7ef3435e17a",
   "outputs": [],
   "execution_count": null
  },
  {
   "metadata": {},
   "cell_type": "markdown",
   "source": [
    "The data type of h_cell_id is int64.\n",
    "<br>Let's encode these to hexadecimal"
   ],
   "id": "e6032b7956a93e4c"
  },
  {
   "metadata": {},
   "cell_type": "code",
   "source": [
    "df_select['h3_cell_id_hex'] = df_select['h3_cell_id'].apply(lambda x: hex(x))\n",
    "df_select"
   ],
   "id": "debdc9443914f086",
   "outputs": [],
   "execution_count": null
  },
  {
   "metadata": {},
   "cell_type": "markdown",
   "source": "Let's compare side by side with h3_neighors list",
   "id": "91703358edf3ec12"
  },
  {
   "metadata": {},
   "cell_type": "code",
   "source": [
    "df_select['h3_neighbors'] = pd.DataFrame(h3_neighbors)\n",
    "df_select"
   ],
   "id": "cf67eec351c6f5e4",
   "outputs": [],
   "execution_count": null
  },
  {
   "metadata": {},
   "cell_type": "markdown",
   "source": [
    "The values in h3_cell_id column we obtained as a result of SQL query.\n",
    "<br> What is stored in h3_cell_id is uint64 of hexadecimal H3_Cell_Id"
   ],
   "id": "bede4b621fb65be1"
  },
  {
   "metadata": {},
   "cell_type": "markdown",
   "source": "",
   "id": "f3377b53f1b85fcc"
  },
  {
   "metadata": {},
   "cell_type": "code",
   "source": [
    "%%time\n",
    "query = f\"\"\"\n",
    "WITH query_h3 AS (\n",
    "  SELECT h3_latlng_to_cell({NNQ_LAT}, {NNQ_LON}, {RESOLUTION}) AS h3\n",
    "),\n",
    "nearby_h3 AS (\n",
    "  SELECT CAST(unnest(h3_grid_disk(h3, 1)) AS BIGINT) AS h3 FROM query_h3\n",
    ")\n",
    "SELECT restaurants.*, nearby_h3.*\n",
    "FROM restaurants\n",
    "JOIN nearby_h3 ON restaurants.h3_cell_id = nearby_h3.h3;\n",
    "\"\"\"\n",
    "df_select = con.sql(query).df()\n",
    "df_select[:10]"
   ],
   "id": "7686bdc3b8a78a5a",
   "outputs": [],
   "execution_count": null
  },
  {
   "metadata": {},
   "cell_type": "markdown",
   "source": "",
   "id": "89de01f0db71fc5"
  },
  {
   "metadata": {},
   "cell_type": "code",
   "source": [
    "%%time\n",
    "query = f\"\"\"\n",
    "EXPLAIN ANALYZE\n",
    "WITH query_h3 AS (\n",
    "  SELECT h3_latlng_to_cell({NNQ_LAT}, {NNQ_LON}, {RESOLUTION}) AS h3\n",
    "),\n",
    "nearby_h3 AS (\n",
    "  SELECT CAST(unnest(h3_grid_disk(h3, 1)) AS BIGINT) AS h3 FROM query_h3\n",
    ")\n",
    "SELECT restaurants.*, nearby_h3.*\n",
    "FROM restaurants\n",
    "JOIN nearby_h3 ON restaurants.h3_cell_id = nearby_h3.h3;\n",
    "\"\"\"\n",
    "query_plan = con.sql(query).fetchall()"
   ],
   "id": "415e67557adcac47",
   "outputs": [],
   "execution_count": null
  },
  {
   "metadata": {},
   "cell_type": "code",
   "source": [
    "analyzed_plan = query_plan[0][1]\n",
    "\n",
    "for line in analyzed_plan.split('\\n'):\n",
    "    print(line)\n",
    "\n",
    "with open('./qa_h3.txt', 'w', encoding=\"utf-8\") as f:\n",
    "    f.writelines(analyzed_plan)\n",
    "    f.close()"
   ],
   "id": "449174682988ca41",
   "outputs": [],
   "execution_count": null
  },
  {
   "metadata": {},
   "cell_type": "markdown",
   "source": [
    "The query planner takes advantage of Index Scan.\n",
    "<br>Output from query plan is\n",
    "<br>\n",
    "![](./md-6.png)"
   ],
   "id": "6f48518b88a103e0"
  },
  {
   "metadata": {},
   "cell_type": "markdown",
   "source": [
    "## Summary\n",
    "This notebook studied the spatial indexing solutions for Nearest Neighbor Query (NNQ).\n",
    " - As expected, spatial index prevents sequential scan.\n",
    " - H3 Cells does not satisfy the containment property between consecuitive resolutions.\n"
   ],
   "id": "6489d1ee08ae362c"
  },
  {
   "metadata": {},
   "cell_type": "markdown",
   "source": "## Appendix",
   "id": "518b3a8270de332f"
  },
  {
   "metadata": {},
   "cell_type": "code",
   "source": "",
   "id": "cbfaf87f1479b5d5",
   "outputs": [],
   "execution_count": null
  }
 ],
 "metadata": {
  "kernelspec": {
   "display_name": "Python 3",
   "language": "python",
   "name": "python3"
  },
  "language_info": {
   "codemirror_mode": {
    "name": "ipython",
    "version": 2
   },
   "file_extension": ".py",
   "mimetype": "text/x-python",
   "name": "python",
   "nbconvert_exporter": "python",
   "pygments_lexer": "ipython2",
   "version": "2.7.6"
  }
 },
 "nbformat": 4,
 "nbformat_minor": 5
}
