{
 "cells": [
  {
   "metadata": {
    "ExecuteTime": {
     "end_time": "2025-09-30T17:08:48.044545Z",
     "start_time": "2025-09-30T17:08:43.016330Z"
    }
   },
   "cell_type": "code",
   "source": "%pip install duckdb",
   "id": "5b12921f3113d245",
   "outputs": [
    {
     "name": "stdout",
     "output_type": "stream",
     "text": [
      "Collecting duckdb\n",
      "  Downloading duckdb-1.4.0-cp313-cp313-win_amd64.whl.metadata (14 kB)\n",
      "Downloading duckdb-1.4.0-cp313-cp313-win_amd64.whl (12.3 MB)\n",
      "   ---------------------------------------- 0.0/12.3 MB ? eta -:--:--\n",
      "   ---- ----------------------------------- 1.3/12.3 MB 18.8 MB/s eta 0:00:01\n",
      "   -------------------------- ------------- 8.1/12.3 MB 28.5 MB/s eta 0:00:01\n",
      "   ---------------------------------------- 12.3/12.3 MB 29.6 MB/s eta 0:00:00\n",
      "Installing collected packages: duckdb\n",
      "Successfully installed duckdb-1.4.0\n",
      "Note: you may need to restart the kernel to use updated packages.\n"
     ]
    },
    {
     "name": "stderr",
     "output_type": "stream",
     "text": [
      "\n",
      "[notice] A new release of pip is available: 25.1.1 -> 25.2\n",
      "[notice] To update, run: python.exe -m pip install --upgrade pip\n"
     ]
    }
   ],
   "execution_count": 2
  },
  {
   "metadata": {
    "collapsed": true,
    "ExecuteTime": {
     "end_time": "2025-09-30T17:09:02.136192Z",
     "start_time": "2025-09-30T17:09:01.995434Z"
    }
   },
   "cell_type": "code",
   "source": "import duckdb",
   "id": "initial_id",
   "outputs": [],
   "execution_count": 3
  }
 ],
 "metadata": {
  "kernelspec": {
   "display_name": "Python 3",
   "language": "python",
   "name": "python3"
  },
  "language_info": {
   "codemirror_mode": {
    "name": "ipython",
    "version": 2
   },
   "file_extension": ".py",
   "mimetype": "text/x-python",
   "name": "python",
   "nbconvert_exporter": "python",
   "pygments_lexer": "ipython2",
   "version": "2.7.6"
  }
 },
 "nbformat": 4,
 "nbformat_minor": 5
}
