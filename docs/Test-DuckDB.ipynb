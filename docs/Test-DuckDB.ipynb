{
 "cells": [
  {
   "metadata": {},
   "cell_type": "markdown",
   "source": "## Spatial Hierarchical Indexing for Nearest Neighbor Query (NNQ)",
   "id": "b6424fbe41632ace"
  },
  {
   "metadata": {},
   "cell_type": "markdown",
   "source": [
    "Objective of this notebook is to explore Uber H3 Index with DuckDB.\n",
    "<br>"
   ],
   "id": "ce091eb0b2a19a77"
  },
  {
   "metadata": {},
   "cell_type": "code",
   "source": [
    "import math\n",
    "\n",
    "from pandas.io.sas.sas_constants import encoding_offset\n",
    "%pip install duckdb\n",
    "%pip install geopandas\n",
    "%pip install tabulate\n",
    "%pip install matplotlib\n",
    "%pip install contextily"
   ],
   "id": "5b12921f3113d245",
   "outputs": [],
   "execution_count": null
  },
  {
   "metadata": {
    "collapsed": true,
    "ExecuteTime": {
     "end_time": "2025-10-02T14:26:15.135588Z",
     "start_time": "2025-10-02T14:26:13.900256Z"
    }
   },
   "cell_type": "code",
   "source": [
    "import duckdb\n",
    "import h3\n",
    "import folium\n",
    "#from shapely.geometry import MultiPolygon, Polygon\n",
    "from IPython.display import display\n",
    "import pandas as pd\n",
    "import json\n",
    "#from prompt_toolkit.formatted_text import to_plain_text"
   ],
   "id": "initial_id",
   "outputs": [],
   "execution_count": 1
  },
  {
   "metadata": {},
   "cell_type": "markdown",
   "source": "Read restaurant locations",
   "id": "f1a872905fd4cbbf"
  },
  {
   "metadata": {
    "ExecuteTime": {
     "end_time": "2025-10-02T14:26:22.766685Z",
     "start_time": "2025-10-02T14:26:18.132207Z"
    }
   },
   "cell_type": "code",
   "source": [
    "filename=\"./restaurants.json\"\n",
    "lines=[]\n",
    "N=5000\n",
    "with open(filename, 'r') as infile:\n",
    "    lines = [line for line in infile][:N]\n",
    "#print(lines)\n",
    "\n",
    "for line in lines:\n",
    "    json_line = json.loads(line)\n",
    "    #print(f\"name: {json_line['name']} , location: {json_line['location']['coordinates']}\")\n",
    "\n",
    "# Define DataFrame\n",
    "df = pd.DataFrame(columns=[\"Name\", \"Lon\", \"Lat\"])\n",
    "\n",
    "# Parse each line and add to DataFrame\n",
    "for line in lines:\n",
    "    json_line = json.loads(line)\n",
    "    df.loc[len(df)]={\"Name\":json_line['name'], \"Lon\":json_line['location']['coordinates'][0], \"Lat\":json_line['location']['coordinates'][1] }\n",
    "\n",
    "#from tabulate import tabulate\n",
    "#print(tabulate(df, headers = 'keys', tablefmt = 'psql'))\n",
    "df.head(10)\n",
    "\n"
   ],
   "id": "185e197b882cb3ab",
   "outputs": [
    {
     "data": {
      "text/plain": [
       "                             Name        Lon        Lat\n",
       "0           Morris Park Bake Shop -73.856077  40.848447\n",
       "1                         Wendy'S -73.961704  40.662942\n",
       "2                 Riviera Caterer -73.982420  40.579505\n",
       "3              Tov Kosher Kitchen -73.860115  40.731174\n",
       "4         Brunos On The Boulevard -73.880383  40.764312\n",
       "5  Dj Reynolds Pub And Restaurant -73.985136  40.767692\n",
       "6              Wilken'S Fine Food -73.906851  40.619903\n",
       "7                 Regina Caterers -74.005289  40.628886\n",
       "8     Taste The Tropics Ice Cream -73.948261  40.640827\n",
       "9                   Kosher Island -74.137729  40.611957"
      ],
      "text/html": [
       "<div>\n",
       "<style scoped>\n",
       "    .dataframe tbody tr th:only-of-type {\n",
       "        vertical-align: middle;\n",
       "    }\n",
       "\n",
       "    .dataframe tbody tr th {\n",
       "        vertical-align: top;\n",
       "    }\n",
       "\n",
       "    .dataframe thead th {\n",
       "        text-align: right;\n",
       "    }\n",
       "</style>\n",
       "<table border=\"1\" class=\"dataframe\">\n",
       "  <thead>\n",
       "    <tr style=\"text-align: right;\">\n",
       "      <th></th>\n",
       "      <th>Name</th>\n",
       "      <th>Lon</th>\n",
       "      <th>Lat</th>\n",
       "    </tr>\n",
       "  </thead>\n",
       "  <tbody>\n",
       "    <tr>\n",
       "      <th>0</th>\n",
       "      <td>Morris Park Bake Shop</td>\n",
       "      <td>-73.856077</td>\n",
       "      <td>40.848447</td>\n",
       "    </tr>\n",
       "    <tr>\n",
       "      <th>1</th>\n",
       "      <td>Wendy'S</td>\n",
       "      <td>-73.961704</td>\n",
       "      <td>40.662942</td>\n",
       "    </tr>\n",
       "    <tr>\n",
       "      <th>2</th>\n",
       "      <td>Riviera Caterer</td>\n",
       "      <td>-73.982420</td>\n",
       "      <td>40.579505</td>\n",
       "    </tr>\n",
       "    <tr>\n",
       "      <th>3</th>\n",
       "      <td>Tov Kosher Kitchen</td>\n",
       "      <td>-73.860115</td>\n",
       "      <td>40.731174</td>\n",
       "    </tr>\n",
       "    <tr>\n",
       "      <th>4</th>\n",
       "      <td>Brunos On The Boulevard</td>\n",
       "      <td>-73.880383</td>\n",
       "      <td>40.764312</td>\n",
       "    </tr>\n",
       "    <tr>\n",
       "      <th>5</th>\n",
       "      <td>Dj Reynolds Pub And Restaurant</td>\n",
       "      <td>-73.985136</td>\n",
       "      <td>40.767692</td>\n",
       "    </tr>\n",
       "    <tr>\n",
       "      <th>6</th>\n",
       "      <td>Wilken'S Fine Food</td>\n",
       "      <td>-73.906851</td>\n",
       "      <td>40.619903</td>\n",
       "    </tr>\n",
       "    <tr>\n",
       "      <th>7</th>\n",
       "      <td>Regina Caterers</td>\n",
       "      <td>-74.005289</td>\n",
       "      <td>40.628886</td>\n",
       "    </tr>\n",
       "    <tr>\n",
       "      <th>8</th>\n",
       "      <td>Taste The Tropics Ice Cream</td>\n",
       "      <td>-73.948261</td>\n",
       "      <td>40.640827</td>\n",
       "    </tr>\n",
       "    <tr>\n",
       "      <th>9</th>\n",
       "      <td>Kosher Island</td>\n",
       "      <td>-74.137729</td>\n",
       "      <td>40.611957</td>\n",
       "    </tr>\n",
       "  </tbody>\n",
       "</table>\n",
       "</div>"
      ]
     },
     "execution_count": 2,
     "metadata": {},
     "output_type": "execute_result"
    }
   ],
   "execution_count": 2
  },
  {
   "metadata": {},
   "cell_type": "markdown",
   "source": "",
   "id": "edbe3305e8b773a1"
  },
  {
   "metadata": {},
   "cell_type": "markdown",
   "source": "Store restaurant data set into CSV file so that we can upload to DuckDB",
   "id": "c76e630bf514ae8c"
  },
  {
   "metadata": {},
   "cell_type": "code",
   "source": "df.to_csv(\"./restaurants.csv\",index=False)",
   "id": "1b01017ebc1322aa",
   "outputs": [],
   "execution_count": null
  },
  {
   "metadata": {},
   "cell_type": "code",
   "source": [
    "from os import listdir\n",
    "from os.path import isfile, join\n",
    "mypath=\"./\"\n",
    "onlyfiles = [f for f in listdir(mypath) if isfile(join(mypath, f)) and f.endswith(\".csv\")]\n",
    "onlyfiles"
   ],
   "id": "33b7b9cee9318d",
   "outputs": [],
   "execution_count": null
  },
  {
   "metadata": {},
   "cell_type": "markdown",
   "source": "",
   "id": "afbbfe1ceca628db"
  },
  {
   "metadata": {},
   "cell_type": "code",
   "source": [
    "def listFilesInWithExtension(target_path, target_ext=\".csv\"):\n",
    "    if target_path:\n",
    "        return [f for f in listdir(target_path) if isfile(join(target_path, f)) and f.endswith(target_ext)]\n",
    "    else:\n",
    "        return None"
   ],
   "id": "3aee9dc9b376adb3",
   "outputs": [],
   "execution_count": null
  },
  {
   "metadata": {},
   "cell_type": "code",
   "source": "duckdb.sql(\"SELECT 'whistling_duck' AS waterfowl, 'whistle' AS call\")",
   "id": "53e2b9ac2075306f",
   "outputs": [],
   "execution_count": null
  },
  {
   "metadata": {},
   "cell_type": "markdown",
   "source": "Let's load restaurants.csv file as a table to food-delivery.db",
   "id": "503b2db9e340733f"
  },
  {
   "metadata": {},
   "cell_type": "code",
   "source": [
    "with duckdb.connect(database=\"food-delivery.db\") as conn:\n",
    "    conn.read_csv(\"./restaurants.csv\").to_table(\"restaurants\")\n"
   ],
   "id": "350e6991f7bfd0e9",
   "outputs": [],
   "execution_count": null
  },
  {
   "metadata": {},
   "cell_type": "markdown",
   "source": "Validate that DuckDB created .db file",
   "id": "c9f7f877218776ac"
  },
  {
   "metadata": {},
   "cell_type": "code",
   "source": "listFilesInWithExtension(\"./\",target_ext=\".db\")",
   "id": "27d85ce44235b7b1",
   "outputs": [],
   "execution_count": null
  },
  {
   "metadata": {},
   "cell_type": "markdown",
   "source": "Validate restaurants table",
   "id": "73969c9a5b18544e"
  },
  {
   "metadata": {},
   "cell_type": "code",
   "source": [
    "answer=None\n",
    "\n",
    "with duckdb.connect(database=\"food-delivery.db\") as conn:\n",
    "    answer=conn.sql(\"SELECT * FROM restaurants\")\n"
   ],
   "id": "1c5bc9dec11b90ec",
   "outputs": [],
   "execution_count": null
  },
  {
   "metadata": {
    "ExecuteTime": {
     "end_time": "2025-10-02T14:27:39.645756Z",
     "start_time": "2025-10-02T14:27:39.491661Z"
    }
   },
   "cell_type": "code",
   "source": [
    "con = duckdb.connect('food-delivery.db')\n",
    "\n",
    "results = con.sql(\"SHOW ALL TABLES\").fetchall()\n",
    "print(type(results))\n",
    "for result in results:\n",
    "    print(result)\n",
    "\n",
    "results = con.sql(\"SELECT Name, Lon, Lat FROM restaurants\").fetchall()\n",
    "print(type(results))\n",
    "for result in results:\n",
    "    print(result)"
   ],
   "id": "e5139c88e0170534",
   "outputs": [
    {
     "name": "stdout",
     "output_type": "stream",
     "text": [
      "<class 'list'>\n",
      "('food-delivery', 'main', 'restaurants', ['Name', 'Lon', 'Lat', 'geom', 'h3_cell_id'], ['VARCHAR', 'DOUBLE', 'DOUBLE', 'GEOMETRY', 'BIGINT'], False)\n",
      "<class 'list'>\n",
      "('Morris Park Bake Shop', -73.856077, 40.848447)\n",
      "(\"Wendy'S\", -73.961704, 40.662942)\n",
      "('Riviera Caterer', -73.98241999999999, 40.579505)\n",
      "('Tov Kosher Kitchen', -73.8601152, 40.7311739)\n",
      "('Brunos On The Boulevard', -73.8803827, 40.7643124)\n",
      "('Dj Reynolds Pub And Restaurant', -73.98513559999999, 40.7676919)\n",
      "(\"Wilken'S Fine Food\", -73.9068506, 40.6199034)\n",
      "('Regina Caterers', -74.00528899999999, 40.628886)\n",
      "('Taste The Tropics Ice Cream', -73.9482609, 40.6408271)\n",
      "('Kosher Island', -74.1377286, 40.6119572)\n",
      "('Wild Asia', -73.8786113, 40.8502883)\n",
      "('C & C Catering Service', -73.9973325, 40.61174889999999)\n",
      "('1 East 66Th Street Kitchen', -73.96926909999999, 40.7685235)\n",
      "('May May Kitchen', -73.871194, 40.6730975)\n",
      "('Seuda Foods', -73.9653967, 40.6064339)\n",
      "('Carvel Ice Cream', -73.97822040000001, 40.6435254)\n",
      "('Carvel Ice Cream', -73.7032601, 40.7386417)\n",
      "('Nordic Delicacies', -74.0259567, 40.6353674)\n",
      "('The Movable Feast', -73.9829239, 40.6580753)\n",
      "(\"Sal'S Deli\", -73.839297, 40.78147)\n",
      "('Glorious Food', -73.95171, 40.767461)\n",
      "(\"Bully'S Deli\", -73.9925306, 40.7309346)\n",
      "(\"Harriet'S Kitchen\", -73.976112, 40.786714)\n",
      "(\"Steve Chu'S Deli & Grocery\", -73.94024739999999, 40.7623288)\n",
      "('P & S Deli Grocery', -73.96805719999999, 40.7925587)\n",
      "('Angelika Film Center', -73.996984, 40.72589)\n",
      "('White Castle', -73.9634876, 40.6940001)\n",
      "('Ho Mei Restaurant', -73.8642349, 40.75356)\n",
      "('The Country Cafe', -74.0085357, 40.70620539999999)\n",
      "(\"Shashemene Int'L Restaura\", -73.9246028, 40.6522396)\n",
      "('Downtown Deli', -74.00920839999999, 40.7132925)\n",
      "('Carvel Ice Cream', -73.84856870000002, 40.8903781)\n",
      "(\"Dunkin' Donuts\", -73.991495, 40.692273)\n",
      "(\"Olive'S\", -73.9998042, 40.7251256)\n",
      "('Happy Garden', -73.8893654, 40.81376179999999)\n",
      "('Cafe Metro', -73.990494, 40.7569545)\n",
      "(\"Tony'S Deli\", -73.902463, 40.694924)\n",
      "('Lexler Deli', -73.97534999999999, 40.7516269)\n",
      "('Bagels N Buns', -74.1459332, 40.6103714)\n",
      "('Hot Bagels', -73.8740217, 40.7135015)\n",
      "('Snack Time Grill', -73.8309503, 40.7001121)\n",
      "(\"Domino'S Pizza\", -73.9791458, 40.744328)\n",
      "(\"Lorenzo & Maria'S\", -73.95685019999999, 40.7753401)\n",
      "('Berkely', -73.975393, 40.757365)\n",
      "(\"Sonny'S Heros\", -73.9075537, 40.6438684)\n",
      "('Carvel Ice Cream', -74.0796436, 40.59878339999999)\n",
      "('Golden Pavillion', -73.92701509999999, 40.6620192)\n",
      "(\"Domino'S Pizza\", -73.9806854, 40.7778589)\n",
      "('Kosher Bagel Hole', -73.9615132, 40.6253268)\n",
      "('Spoon Bread Catering', -73.96084119999999, 40.8014307)\n",
      "('Terminal Cafe/Yankee Clipper', -84.2040813, 9.9986585)\n",
      "('Mejlander & Mulgannon', -74.0228449, 40.6281815)\n",
      "('Plaza Bagels & Deli', -74.1178949, 40.5734906)\n",
      "('Texas Rotisserie', -74.0061936, 40.7092038)\n",
      "('Philadelhia Grille Express', -74.03400479999999, 40.6127077)\n",
      "('Peter Luger Steakhouse', -73.96252129999999, 40.7098035)\n",
      "('Palm Restaurant', -73.9712, 40.751703)\n",
      "('Happy Garden', -73.8941893, 40.8634684)\n",
      "('21 Club', -73.9774394, 40.7604522)\n",
      "('Manhem Club', -73.81363999999999, 40.82941100000001)\n",
      "('B & M Hot Bagel & Grocery', -74.15235919999999, 40.5563756)\n",
      "('Isle Of Capri Resturant', -73.966032, 40.762832)\n",
      "('Old Town Bar & Restaurant', -73.9891878, 40.7375638)\n",
      "('Polish National Home', -73.94839189999999, 40.7224876)\n",
      "('Metropolitan Club', -73.97166039999999, 40.764832)\n",
      "('Seville Restaurant', -74.00310999999999, 40.7348888)\n",
      "('Criminal Court Bldg Cafeteria', -74.0010484, 40.71599000000001)\n",
      "('Gottscheer Hall', -73.9056678, 40.7066898)\n",
      "('Nyac Main Dining Room', -73.9788694, 40.7665961)\n",
      "('7B Bar', -73.98146, 40.7250067)\n",
      "('Ben-Best Deli & Restaurant', -73.86137149999999, 40.7293762)\n",
      "('Cafe Atelier (Art Students League)', -73.9805679, 40.7659436)\n",
      "(\"Donohue'S Steak House\", -73.965531, 40.765431)\n",
      "(\"Junior'S\", -73.9818918, 40.6901211)\n",
      "('Tout Va Bien', -73.98621899999999, 40.763406)\n",
      "('Great Kills Yacht Club', -74.138263, 40.546681)\n",
      "('Marchis Restaurant', -73.9775552, 40.7432016)\n",
      "('Towne Cafe', -73.95443709999999, 40.5877993)\n",
      "('New Park Pizzeria & Restaurant', -73.840437, 40.6627235)\n",
      "('Serendipity 3', -73.96485799999999, 40.761899)\n",
      "('Douglaston Club', -73.7522366, 40.7766941)\n",
      "(\"Rizzo'S Fine Pizza\", -73.9151096, 40.763377)\n",
      "('Melody Lanes', -74.002944, 40.652779)\n",
      "('The New Starling Athletic Club Of The Bronx', -73.84971759999999, 40.8304811)\n",
      "('White Horse Tavern', -74.00619499999999, 40.735663)\n",
      "('Crystal Room', -74.0707363, 40.59321569999999)\n",
      "(\"Labetti'S Post # 2159\", -74.07444319999999, 40.6096914)\n",
      "('Shell Lanes', -73.9727638, 40.588853)\n",
      "(\"Mcsorley'S Old Ale House\", -73.9896713, 40.7287978)\n",
      "('Forlinis Restaurant', -73.99950489999999, 40.7169224)\n",
      "('South Shore Swimming Club', -74.2274942, 40.5071996)\n",
      "('Corner Bistro', -74.0037823, 40.7380122)\n",
      "('Nostrand Donut Shop', -73.94933739999999, 40.6509823)\n",
      "('La Grenouille', -73.97557069999999, 40.7596796)\n",
      "(\"Dorrian'S Red Hand Restaurant\", -73.952449, 40.776325)\n",
      "('Como Pizza', -73.9395182, 40.8422945)\n",
      "('Angelo Of Mulberry St.', -73.9973041, 40.7188698)\n",
      "(\"Panchito'S\", -74.001043, 40.729795)\n",
      "('New Corner', -74.0166091, 40.6284767)\n",
      "('Old Homestead', -74.004758, 40.741207)\n",
      "('Dining Room', -48.9424, -16.3550032)\n",
      "('The Princeton Club', -73.98126069999999, 40.7547107)\n",
      "('Le Perigord', -73.9646207, 40.7550069)\n",
      "(\"Joe & Pat'S Pizzeria\", -74.1220973, 40.6129407)\n",
      "(\"Reynold'S Bar\", -73.9365108, 40.8497077)\n",
      "('Keats Restaurant', -73.97063700000001, 40.751495)\n",
      "('Spain Restaurant & Bar', -73.9979214, 40.7371344)\n",
      "('Palace Cafe', -73.9446421, 40.7253944)\n",
      "('Yankee Tavern', -73.92506, 40.8275556)\n",
      "('Donut Pub', -73.99987229999999, 40.7386361)\n",
      "(\"Moran'S Chelsea\", -74.0056649, 40.7452371)\n",
      "('V & T Restaurant', -73.96392089999999, 40.8033908)\n",
      "('Reben Luncheonette', -73.9590059, 40.7090147)\n",
      "('King Yum Restaurant', -73.7867565, 40.7271312)\n",
      "('J&V Famous Pizza', -73.9896898, 40.6199526)\n",
      "(\"Jahn'S Restaurant\", -73.8850023, 40.7494272)\n",
      "('La Parisienne Diner', -73.9799932, 40.7660886)\n",
      "('Joe Allen Restaurant', -73.989131, 40.760039)\n",
      "(\"Joyce'S Tavern\", -74.16536339999999, 40.5450793)\n",
      "(\"Arturo'S\", -74.0003315, 40.7274874)\n",
      "('Barbetta Restaurant', -73.988948, 40.760337)\n",
      "(\"Gargiulo'S Restaurant\", -73.982241, 40.576366)\n",
      "('Il Vagabondo Restaurant', -73.96117869999999, 40.7619226)\n",
      "('Parkside Restaurant', -73.856132, 40.743841)\n",
      "(\"Lavelle'S Admiral'S Club\", -73.91427200000001, 40.7569379)\n",
      "(\"Neary'S Pub\", -73.963506, 40.758273)\n",
      "('Mcdwyers Pub', -73.87786539999999, 40.8724377)\n",
      "('Mee Sum Coffee Shop', -73.9983, 40.715051)\n",
      "(\"Nancy'S Fire Side\", -73.70902579999999, 40.7276012)\n",
      "('Hop Kee Restaurant', -73.9990337, 40.7143954)\n",
      "('Nancy Whiskey Pub', -74.0049219, 40.720699)\n",
      "('Blarney Bar', -73.808593, 40.702028)\n",
      "('Margherita Pizza', -73.78999089999999, 40.7118632)\n",
      "(\"Healy'S Pub\", -73.8299395, 40.5812137)\n",
      "('Fifth Avenue Bingo', -73.98586209999999, 40.67017250000001)\n",
      "(\"Denino'S Pizzeria Tavern\", -74.1402105, 40.6301893)\n",
      "(\"Michael'S Restaurant\", -73.942849, 40.6076256)\n",
      "('New York Pizza Suprema', -73.99532099999999, 40.750205)\n",
      "('Nanni Restaurant', -73.9736776, 40.7535755)\n",
      "(\"Lenihan'S Saloon\", -73.82770529999999, 40.6944628)\n",
      "('Emilio Iii Bar', -73.8682701, 40.745683)\n",
      "('Killarney Rose', -74.0086833, 40.7052024)\n",
      "('Don Peppe', -73.8216767, 40.6689548)\n",
      "('Blarney Castle', -73.9250442, 40.5595462)\n",
      "('Three Star Restaurant', -73.955074, 40.599217)\n",
      "('Blarney Rock', -73.98926, 40.7509054)\n",
      "(\"Desmond'S Tavern\", -73.98306099999999, 40.7441419)\n",
      "('Naomi Kosher Pizza', -73.8204154, 40.7242443)\n",
      "('Roll-N-Roaster', -73.9396213, 40.5841703)\n",
      "('Tio Pepe', -74.0016583, 40.7319679)\n",
      "('Brennan & Carr', -73.9420751, 40.6002442)\n",
      "('The Punch Bowl', -73.9002615, 40.885186)\n",
      "('Jardin De China Rest', -73.8700163, 40.7504734)\n",
      "('Irish Cottage', -73.8236419, 40.7261682)\n",
      "('Blarney Stone', -74.0137007, 40.7062029)\n",
      "('Shimons Kosher Pizza', -73.8221418, 40.7272376)\n",
      "('The Riviera Cafe', -74.0027865, 40.7340505)\n",
      "(\"Fascati'S Pizzeria\", -73.9927131, 40.6984887)\n",
      "(\"Baby Bo'S Burritos\", -73.97598099999999, 40.745132)\n",
      "('Shun Lee Palace Restaurant', -73.9690789, 40.7594184)\n",
      "(\"Li Greci'S Staaten Restaurant\", -74.11223799999999, 40.629819)\n",
      "('Tamaqua', -73.9300062, 40.5943553)\n",
      "('Munchtime', -73.9168424, 40.8401362)\n",
      "('Cara Mia', -73.74292179999999, 40.7305714)\n",
      "('Ihop', -73.8194559, 40.8899176)\n",
      "(\"Maloney'S Bar\", -73.809167, 40.705421)\n",
      "('Richmond County Country Club', -74.10465599999999, 40.58834)\n",
      "('La Fusta Restaurant', -73.8845166, 40.744772)\n",
      "(\"Patsy'S Italian Restaurant\", -73.9827418, 40.7655827)\n",
      "(\"Lulu'S Coffee Shop\", -73.8513114, 40.8316981)\n",
      "(\"Dangerfield'S Night Club\", -73.960573, 40.760982)\n",
      "('El Charro Espanol', -74.00065800000002, 40.735114)\n",
      "(\"Finnegan'S Wake\", -73.9556394, 40.768679)\n",
      "('Da Vinci Pizza', -73.9907801, 40.6188665)\n",
      "(\"Mitchell'S Restaurant\", -73.9681178, 40.678776)\n",
      "('Mexico Lindo Restaurant', -73.979839, 40.739796)\n",
      "('Marina Delray', -73.815175, 40.8137649)\n",
      "('Twins Pub', -73.99682299999999, 40.753182)\n",
      "('New Floridian Diner', -73.9270926, 40.6142428)\n",
      "('Narrows Coffee Shop', -74.03345, 40.612598)\n",
      "('Broome Street Bar', -74.0029643, 40.7231081)\n",
      "(\"O'Hanlon'S Pub\", -73.9121201, 40.7749286)\n",
      "('Charlies Sports Bar', -73.90364869999999, 40.74133339999999)\n",
      "('Jg Melon Restaurant', -73.9593019, 40.77105400000001)\n",
      "(\"Jack'S Pizza & Pasta\", -73.7775242, 40.778475)\n",
      "('Emerald Pub', -74.0084936, 40.7258072)\n",
      "('Tap Room', -73.9788694, 40.7665961)\n",
      "('Cocktail Room (Nyac)', -73.9788694, 40.7665961)\n",
      "('Flame Restaurant Coffee House', -73.98557920000002, 40.7686093)\n",
      "('Jackson Hole', -73.9629729, 40.7638694)\n",
      "('Zum Stammtisch', -73.8811834, 40.7017759)\n",
      "(\"John'S Restaurant\", -73.985535, 40.730605)\n",
      "('Grassroot Tavern', -73.988991, 40.728848)\n",
      "(\"Buddy'S Wonder Bar\", -74.1350211, 40.6369042)\n",
      "('The Assembly Bar', -73.876876, 40.703885)\n",
      "('Mr Broadway Kosher Restaurant', -73.9870818, 40.7523004)\n",
      "('Piccola Venezia', -73.911784, 40.764766)\n",
      "(\"Ni-Ni'S Cafe\", -74.1003379, 40.5655379)\n",
      "('Capitol Restaurant', -73.9215284, 40.8678204)\n",
      "('Malaga Restaurant', -73.9550129, 40.768019)\n",
      "('La Bonne Soupe Bistro', -73.977035, 40.762307)\n",
      "('Mimis Restaurant & Bar', -73.9672945, 40.7561212)\n",
      "(\"Lenny'S Clam Bar\", -73.83856999999999, 40.655669)\n",
      "('Griffis Faculty Club', -73.9542568, 40.7641379)\n",
      "('Little Brown Jug', -73.82629709999999, 40.700598)\n",
      "('Dani Pizza And Restaurant', -73.8305269, 40.7089494)\n",
      "(\"Gray'S Papaya\", -73.98185529999999, 40.7782266)\n",
      "(\"Mcdonald'S\", -73.95802549999999, 40.6487475)\n",
      "('El Greco Diner', -73.95006049999999, 40.5838274)\n",
      "('One If By Land Two If By Sea', -74.00259299999999, 40.7324849)\n",
      "(\"Mcdonald'S\", -73.8618426, 40.6797488)\n",
      "('Fiorellos', -73.9819129, 40.77151449999999)\n",
      "('Lb Spumoni Gardens', -73.9812843, 40.5947365)\n",
      "('Amore Pizzeria & Restaurant', -73.8344778, 40.7692995)\n",
      "(\"The Lark'S Nest\", -73.86697, 40.89794699999999)\n",
      "('Terrace Cafe', -73.8786113, 40.8502883)\n",
      "('African Terrace', -73.8786113, 40.8502883)\n",
      "('Cool Zone', -73.8786113, 40.8502883)\n",
      "('African Market (Baboon Cafe)', -73.8786113, 40.8502883)\n",
      "('Beaver Pond', -73.8786113, 40.8502883)\n",
      "('Roadhouse Restaurant', -74.1005771, 40.6134163)\n",
      "('Ford Foundation Cafeteria', -73.971128, 40.749869)\n",
      "('Elephant & Castle', -74.00066699999999, 40.736224)\n",
      "('Oyster Bar', -73.97705599999999, 40.752998)\n",
      "('Cherry Tavern', -73.98431219999999, 40.7258174)\n",
      "('Red Flame Diner', -73.9827221, 40.7561037)\n",
      "('Colonnade Diner', -74.099018, 40.58116500000001)\n",
      "(\"Brady'S Bar\", -73.9537859, 40.775493)\n",
      "('Mill Basin Kosher Deli', -73.9181846, 40.6157107)\n",
      "('Maggies Place', -73.977114, 40.756295)\n",
      "('Da Silvano Restaurant', -74.0062401, 40.7397546)\n",
      "('Benjamin', -73.9765607, 40.7443236)\n",
      "(\"Jimmy'S Corner\", -73.984838, 40.756594)\n",
      "(\"Denny'S Pub\", -73.9789394, 40.6429349)\n",
      "('Maries Crisis Cafe', -74.00340299999999, 40.733235)\n",
      "('Boots & Saddle Bar', -74.00341019999999, 40.7335084)\n",
      "('New Parkway Restaurant', -74.0078144, 40.6202393)\n",
      "(\"Sammy'S Steakhouse\", 153.1628795, -28.0168595)\n",
      "('Cafe Riazor', -74.000399, 40.740848)\n",
      "('The Brook', -73.9714599, 40.759647)\n",
      "('Il Cortile Restaurant', -73.998254, 40.7179289)\n",
      "('Raouls', -74.002139, 40.7261357)\n",
      "('Frost Restaurant', -73.94347599999999, 40.718386)\n",
      "('Hatsuhana Restaurant', -73.97691499999999, 40.757028)\n",
      "('La Mangeoire', -73.9668354, 40.7568328)\n",
      "(\"Valentino'S Pizza\", -73.814835, 40.7288261)\n",
      "('Viand Coffee Shop', -73.970169, 40.764834)\n",
      "('Palm Too', -73.970668, 40.751453)\n",
      "(\"Steve'S Coffee Shop\", -91.5971285, 41.6823902)\n",
      "('Blue Bay Restaurant', -73.9100082, 40.8863835)\n",
      "('Nada-Sushi', -73.9717, 40.756457)\n",
      "('The Hytes Bar', -73.942599, 40.67096)\n",
      "(\"P.J.' S\", -73.7796156, 40.7298006)\n",
      "(\"Reif'S Tavern\", -73.9486257, 40.7813724)\n",
      "(\"Jody'S Club\", -74.1018239, 40.630788)\n",
      "('Whitestone Lanes', -73.8335566, 40.7703224)\n",
      "(\"John'S Pizzeria\", -73.8818014, 40.7347681)\n",
      "('Seashore Restaurant', -73.790804, 40.8541848)\n",
      "('Marbella Restaurant', -73.76078199999999, 40.761876)\n",
      "('Caffe Reggio', -74.00041689999999, 40.7302678)\n",
      "('Cafe Un Deux Trois', -73.984126, 40.7567949)\n",
      "(\"Armando'S Pizza\", -73.88228649999999, 40.6481972)\n",
      "('Dan Tempura', -73.9818416, 40.7760336)\n",
      "('Knickerbocker Bar & Grill', -73.994428, 40.7320132)\n",
      "('Pergola Des Artistes', -73.9873049, 40.7592843)\n",
      "(\"Mcdonald'S\", -73.9808063, 40.6895078)\n",
      "('El Pote Espanol', -73.9735762, 40.74754)\n",
      "('Cafe Capri', -73.94523509999999, 40.7177182)\n",
      "('The River Cafe', -73.99472279999999, 40.703195)\n",
      "('White Horse Tavern', -74.012376, 40.703721)\n",
      "('Bronx Grill', -73.85534559999999, 40.8426433)\n",
      "('Mudville Saloon', -74.00893959999999, 40.7151413)\n",
      "('White Castle', -73.9321666, 40.6632351)\n",
      "(\"Johnny'S Reef Restaurant\", -73.7826735, 40.8377713)\n",
      "('White Castle', -72.7329266, 41.3099228)\n",
      "('White Castle', -73.92126499999999, 40.743009)\n",
      "('White Castle', -73.993031, 40.6417669)\n",
      "(\"Ferdinando'S Restaurant\", -74.00184349999999, 40.684236)\n",
      "(\"Mcdonald'S\", -73.8451846, 40.7200906)\n",
      "('Viand Cafe', -73.9623333, 40.7757194)\n",
      "('Nectar Coffee Shop', -73.9624221, 40.77620840000001)\n",
      "('The Cupping Room', -74.0030657, 40.7230087)\n",
      "(\"Mcdonald'S\", -73.9308722, 40.656262)\n",
      "(\"Pete'S Tavern\", -73.9866918, 40.7364597)\n",
      "(\"Gino'S Pizzeria\", -73.7566136, 40.7483444)\n",
      "('Villa Mosconi Restaurant', -74.00200099999999, 40.7285929)\n",
      "(\"Jim Brady'S Restaurant\", -74.0075542, 40.7077614)\n",
      "(\"P & K'S Grill\", -73.9035553, 40.878342)\n",
      "(\"Mcdonald'S\", -73.9030535, 40.8812538)\n",
      "('Reme Restaurant', -73.9395471, 40.8420198)\n",
      "('The New Amity Restaurant', -73.9598324, 40.7798381)\n",
      "('Volare Restaurant', -74.00041259999999, 40.7315763)\n",
      "('Sparks Steak House', -73.97212999999999, 40.7528838)\n",
      "('The Dart Inn', -73.807954, 40.715159)\n",
      "(\"Bamonte'S Restaurant\", -73.951199, 40.7166026)\n",
      "(\"Mcdonald'S\", -73.9996841, 40.7543101)\n",
      "('Pizza Town', -73.8456653, 40.7823455)\n",
      "(\"John Mulligan'S Fireside Pub\", -73.86720489999999, 40.8977501)\n",
      "('Burger King', -73.759249, 40.761574)\n",
      "('Ear Inn', -74.0094737, 40.7258405)\n",
      "('Burger King', -73.89707140000002, 40.7543896)\n",
      "('Burger King', -73.8206678, 40.7647441)\n",
      "('Mughlai Restaurant', -73.977597, 40.779593)\n",
      "('Greenpoint Tavern', -73.9581492, 40.7177363)\n",
      "(\"Mcdonald'S\", -74.1680654, 40.5595469)\n",
      "(\"Tony'S Pizzeria\", -73.922642, 40.701015)\n",
      "(\"Rossini'S\", -73.9788758, 40.7491708)\n",
      "(\"Pat'S Stationary\", -73.90725640000001, 40.7601082)\n",
      "(\"Three Guy'S Restaurant\", -73.96408199999999, 40.7741339)\n",
      "('Cucina Vivolo', -73.9574128, 40.7701235)\n",
      "('The Players Club', -73.986685, 40.73756400000001)\n",
      "('Cafe Espanol', -74.0007509, 40.7287609)\n",
      "('Tjk Cafe & Restaurant', -73.7310899, 40.7603325)\n",
      "('Smith & Wollensky', -73.9704988, 40.7552269)\n",
      "(\"Mcdonald'S\", -73.802319, 40.780748)\n",
      "('Olive Tree Cafe & Comedy Cellar', -74.00057799999999, 40.730204)\n",
      "('Perkins Family Restaurant & Bakery', -74.146976, 40.625178)\n",
      "('Burger King', -73.70073909999999, 40.73895539999999)\n",
      "('Burger King', -73.9195106, 40.6527642)\n",
      "('Tokubei 86', -73.951172, 40.7773139)\n",
      "('Manducatis', -73.9491317, 40.7445755)\n",
      "('Divers Cove', -73.792701, 40.7702099)\n",
      "('Sizzler', -73.85223080000002, 40.7109144)\n",
      "('Mama Lucia', -73.96123879999999, 40.635193)\n",
      "('Mariella Pizza', -73.98621539999999, 40.7350907)\n",
      "('Coliseum Bar Restaurant', -73.9832993, 40.76754440000001)\n",
      "(\"Vinny'S Pizza\", -73.79014660000001, 40.769692)\n",
      "('Kosher Delight', -73.9633849, 40.625169)\n",
      "('West Bank Cafe', -73.99283419999999, 40.75885830000001)\n",
      "('The Four Seasons', -73.972235, 40.758066)\n",
      "('La Baraka Restaurant', -73.734425, 40.7723579)\n",
      "('Dairy Luncheonette', -73.984858, 40.631394)\n",
      "(\"Zafi'S Luncheonette\", -73.9828058, 40.7150766)\n",
      "('La Palina Restaurant', -73.9788552, 40.6109657)\n",
      "(\"Schaffer'S Tavern\", -74.1321, 40.61266000000001)\n",
      "(\"Ty'S\", -74.00529, 40.73302899999999)\n",
      "(\"Aunt Bella'S Rest Of Little Neck\", -73.7363139, 40.767005)\n",
      "('Mariner Inn', -73.9321411, 40.6094715)\n",
      "('Exclusive Catering', -74.1235473, 40.6215341)\n",
      "('North Shore Diner', -73.78421000000002, 40.7577566)\n",
      "('Green House Cafe', -74.028273, 40.62951959999999)\n",
      "(\"Mcdonald'S\", -73.82339809999999, 40.8276846)\n",
      "('Water Front Crab House', -73.958372, 40.7420277)\n",
      "('La Ripaille Restaurant', -74.0060152, 40.7372653)\n",
      "('Marina Cafe', -74.1408495, 40.5441055)\n",
      "('Don Filippo Restaurant', -73.958885, 40.7745559)\n",
      "('Burger King', -73.8664386, 40.7319364)\n",
      "('Dazies Restaurant', -73.9245566, 40.7441786)\n",
      "('Triestes Restaurant', -73.89310739999999, 40.7545576)\n",
      "('Omonia Cafe', -73.924072, 40.76108900000001)\n",
      "(\"Murals On 54/Randolphs'S\", -73.9782725, 40.7624022)\n",
      "('Veterans Of Foreign Wars Post #107 Canteen', -73.931262, 40.598023)\n",
      "('Caruso Pizza #2', -73.990556, 40.749722)\n",
      "('Tropical House Baking Co.', -73.933605, 40.669476)\n",
      "('Burger King', -73.780574, 40.6679415)\n",
      "('Clinton Restaurant', -73.8128627, 40.7931101)\n",
      "('Shabu-Shabu 70 Restaurant', -73.958529, 40.766908)\n",
      "('Yankee Jz Pizza', -73.87575, 40.8294396)\n",
      "(\"Chen'S Chinese\", -74.0986428, 40.5942955)\n",
      "('The Greek Corner', -73.993539, 40.7474898)\n",
      "('Racquet & Tennis Club', -73.97328379999999, 40.7588047)\n",
      "('Casa Pepe', -74.031688, 40.6374532)\n",
      "('Astro Restaurant', -73.97831029999999, 40.7632329)\n",
      "('Golden Dove Diner', -74.1690735, 40.5589805)\n",
      "('Caffe Dante', -74.0018619, 40.7288849)\n",
      "('Korner Pizzeria', -73.9777137, 40.6433389)\n",
      "(\"Henry'S End\", -73.992182, 40.699702)\n",
      "('Souen Restaurant', -74.0062401, 40.7397546)\n",
      "('Villa Berulia', -73.98053949999999, 40.7469315)\n",
      "(\"Victor'S Cafe\", -73.9840766, 40.7628868)\n",
      "('Petes Pizzeria & Restaurant', -74.0282415, 40.6309663)\n",
      "('Keens Steakhouse', -73.98646339999999, 40.7507174)\n",
      "('Bar 515', -73.97752600000001, 40.745973)\n",
      "('Ready Penny Inn', -73.8924962, 40.7485672)\n",
      "('Il Mulino', -73.99914799999999, 40.729735)\n",
      "('Felidia Restaurant', -73.9651212, 40.7603438)\n",
      "(\"Mcdonald'S\", -73.9216671, 40.6447189)\n",
      "('The Malt House', -73.9993545, 40.7286288)\n",
      "('Shun Lee', -73.9812519, 40.7728753)\n",
      "('Ihop', -73.90401159999999, 40.8803571)\n",
      "('Bridgeview Diner', -74.0318242, 40.62062239999999)\n",
      "(\"Burke'S Pub\", -73.894071, 40.726984)\n",
      "('Hill Tap Tavern', -73.884337, 40.733269)\n",
      "('Pongsri Thai Restaurant', -73.9865289, 40.7606981)\n",
      "('Primavera Pizza & Pasta', -73.967288, 40.757018)\n",
      "(\"Tony'S Pier Restaurant\", -73.78309349999999, 40.8374725)\n",
      "(\"Elio'S\", -73.95285799999999, 40.77684199999999)\n",
      "('Quality Cafe & Restaurant', -73.832183, 40.84710099999999)\n",
      "('Victoria Pizza', -73.9254891, 40.59284479999999)\n",
      "('Molly Wee Pub', -73.9949622, 40.7496446)\n",
      "('La Mediterranee Restaurant', -73.96864699999999, 40.755183)\n",
      "('Kasteli Ii', -73.995662, 40.748717)\n",
      "('El Caribe', -73.91535139999999, 40.6087346)\n",
      "('Omen Japanese Cuisine', -74.0019729, 40.7260047)\n",
      "(\"Mcdonald'S\", -73.8122829, 40.727543)\n",
      "(\"Mcdonald'S\", -73.9917897, 40.6913932)\n",
      "('Bar Vetro', -73.96607999999999, 40.7602774)\n",
      "(\"Rosie O'Grady Restaurant\", -73.982506, 40.762621)\n",
      "('Europa Go-Go Dancing', -73.807086, 40.6988)\n",
      "('Casa Bella', -73.9982079, 40.7180815)\n",
      "('Raccoon Lodge', -74.0095812, 40.71463749999999)\n",
      "('Chez Napolean', -73.9883256, 40.76344890000001)\n",
      "(\"Turkey'S Nest Tavern\", -73.9550857, 40.72063869999999)\n",
      "('Sabrosura Restaurant', -73.8507489, 40.832069)\n",
      "('La Villa De Pizza & Restaurant', -73.8520417, 40.6666793)\n",
      "('Ozone Pizzeria', -73.8426307, 40.6808917)\n",
      "('Ponticello Restaurant', -73.913591, 40.756706)\n",
      "('Agra Restaurant', -73.96643449999999, 40.7641697)\n",
      "(\"Lindy'S\", -73.9813814, 40.76306150000001)\n",
      "(\"Arturo'S\", -73.947847, 40.775478)\n",
      "('Paris Blues', -73.9500845, 40.8064061)\n",
      "(\"Gene'S Resturant\", -73.9977952, 40.7353195)\n",
      "('Maria Ristorante', -73.9367236, 40.5842786)\n",
      "('Cozy Soup & Burger', -73.993406, 40.730003)\n",
      "(\"Neron'S Pizza\", -73.74878939999999, 40.7271425)\n",
      "('Villa Fiorita', -73.9977997, 40.6118897)\n",
      "('Vegas Diner', -74.0065917, 40.609992)\n",
      "('Moms Luncheonette', -73.840374, 40.683319)\n",
      "('Candle Bar', -73.9801846, 40.7801316)\n",
      "('Tevere 84', -73.9558969, 40.778154)\n",
      "('Haagen-Dazs', -73.990556, 40.749722)\n",
      "('Fontana Famous Pizza & Gyro', -73.782866, 40.757529)\n",
      "(\"Charlie'S Mom Chinese Restaurant\", -92.73084399999999, 41.7461462)\n",
      "(\"Lusardi'S Restaurant\", -73.955387, 40.772368)\n",
      "(\"King'S Arms Restaurant\", -74.1069208, 40.6302784)\n",
      "('Portofino', -73.8397963, 40.7191179)\n",
      "('Blue Note Jazz', -74.00064259999999, 40.7309096)\n",
      "('The Water Club', -73.9724015, 40.7403386)\n",
      "('Marco Polo Ristorante', -73.9957111, 40.6821943)\n",
      "('Manhattan Monster', -74.0023353, 40.7333573)\n",
      "('American Museum Of Natural History Food Court', -73.97911239999999, 40.7834791)\n",
      "('War Memorial Ice Skating Rink', -84.1899005, 39.7642657)\n",
      "('Chez Jaqueline', -74.001763, 40.7282465)\n",
      "('Tripoli Restaurant', -73.9946329, 40.690043)\n",
      "('Pj Bernstein Deli & Restaurant', -73.9612178, 40.7684788)\n",
      "(\"Pj Carney'S\", -73.980002, 40.7659216)\n",
      "('Tomoe Sushi', -74.0001023, 40.7276736)\n",
      "(\"Water'S Edge Club\", -74.3731727, 40.4404759)\n",
      "('Amsterdam Restaurant & Tapas Lounge', -73.9592644, 40.8088612)\n",
      "(\"Jp'S Waterside Restaurant\", -73.79064389999999, 40.8575687)\n",
      "('Rogers Irish Tavern', -73.83732549999999, 40.57984829999999)\n",
      "('John & Joe Pizzeria & Restaurant', -73.8657838, 40.8544744)\n",
      "(\"Mcdonald'S\", -73.8803351, 40.7017284)\n",
      "('Utopia Restaurant', -73.9811382, 40.7788729)\n",
      "('Sunset Pizzeria', -74.2078085, 40.5427718)\n",
      "('Napoli Pizza', -73.8047246, 40.7328495)\n",
      "('Jackson Hole', -73.9774801, 40.7461444)\n",
      "('Vesuvio Restaurant & Pizza', -74.027017, 40.632575)\n",
      "('Western Bakery', -73.7416329, 40.6767449)\n",
      "('Johns Cafe & Resturant', -73.971606, 40.751148)\n",
      "('Karavas Place', -74.0014102, 40.7318195)\n",
      "('Cafe Luxembourg', -73.983169, 40.7774031)\n",
      "('Windjammers Bar', -73.9070012, 40.7090773)\n",
      "(\"Dunkin' Donuts/Baskin' Robbins\", -73.8153553, 40.7394901)\n",
      "('Broadway Restaurant', -73.9689746, 40.7979687)\n",
      "('Cuchifrito', -73.94100100000001, 40.798046)\n",
      "('Narita Japanese Restaurant', -73.8454959, 40.7207511)\n",
      "('Red Rose', -73.9940325, 40.681185)\n",
      "(\"Mary Ann'S\", -74.00141959999999, 40.7408836)\n",
      "(\"Tony'S Pizza\", -73.89687649999999, 40.8166811)\n",
      "(\"Port O' Calls\", -73.84938439999999, 40.688197)\n",
      "('Fiorentino Ristorante', -73.97256639999999, 40.59727549999999)\n",
      "('Il Cantinori Restauraunt', -73.9932049, 40.7321769)\n",
      "('Andrews Coffee Shop', -73.9896961, 40.7516989)\n",
      "(\"Mike'S Pub\", -73.8514393, 40.693942)\n",
      "('The Clubhouse', -73.90092960000001, 40.7137698)\n",
      "('Kang Suh Korean Restaurant', -73.9879627, 40.7478473)\n",
      "('Fame Diner', -73.8935099, 40.7272902)\n",
      "('Knights Of Baron Dekalb', -73.93825489999999, 40.5834295)\n",
      "('Union Hall', -74.1092654, 40.6379272)\n",
      "('Kosher Hut Of Brooklyn', -73.965305, 40.6064189)\n",
      "('Terra Blues', -73.9992986, 40.7283881)\n",
      "(\"Caesar'S Palace\", -73.97579000000002, 40.786074)\n",
      "('Flamingo', -73.8806546, 40.7479695)\n",
      "(\"Monte'S\", -74.001094, 40.729583)\n",
      "('Gotham Bar & Grill', -73.9938232, 40.7340887)\n",
      "('London Lennies', -73.8676483, 40.72214200000001)\n",
      "(\"Dunkin' Donuts\", -83.8842292, 30.6928463)\n",
      "(\"Delmonico'S Kitchen\", -73.9901605, 40.7526176)\n",
      "(\"Mcaleer'S Pub\", -73.977372, 40.783934)\n",
      "('Hasaki Restaurant', -73.9888412, 40.7296752)\n",
      "('Mezzaluna', -73.9592566, 40.7711518)\n",
      "('Cooper Town Diner', -73.980274, 40.73489379999999)\n",
      "('Restuarant Nippon', -73.9703093, 40.7575104)\n",
      "('Aqueduct North', -73.8675389, 40.8977829)\n",
      "('Imperial Coffee House', -74.0082408, 40.7148452)\n",
      "(\"Mcdonald'S\", -73.98527039999999, 40.7589099)\n",
      "('E.A.T. Cafe', -73.9616659, 40.777365)\n",
      "('Yankee Clipper', -73.8865891, 40.7723001)\n",
      "('Cuchifritos', -73.8982405, 40.8616283)\n",
      "('Rex Manor', -74.00290509999999, 40.6312541)\n",
      "('Club 101', -73.97775159999999, 40.7510553)\n",
      "('Riverdale Diner', -73.901496, 40.885102)\n",
      "('Carlos Pizza', -73.87812749999999, 40.7126376)\n",
      "('The Bitter End', -73.9991763, 40.728369)\n",
      "('Arriba Arriba', -73.98819809999999, 40.7641429)\n",
      "('Geido Restaurant', -73.9726244, 40.6779037)\n",
      "('Barney Greengrass', -73.974367, 40.788002)\n",
      "('Petrossian Restauraunt', -73.97919759999999, 40.76604930000001)\n",
      "('Annam Braham Restaurant', -73.80112059999999, 40.7128278)\n"
     ]
    }
   ],
   "execution_count": 3
  },
  {
   "metadata": {},
   "cell_type": "markdown",
   "source": [
    "Let's add new geom column to restaurants table.\n",
    "<br> ST_Transform()\n",
    "<br> ST_Point()\n",
    "\n"
   ],
   "id": "a07a240de4f54538"
  },
  {
   "metadata": {},
   "cell_type": "markdown",
   "source": [
    "Installs and Loads spatial\n",
    "<br>Adds new geom column to restaurants table."
   ],
   "id": "18cd378ae5e4a709"
  },
  {
   "metadata": {},
   "cell_type": "code",
   "source": [
    "%%time\n",
    "con = duckdb.connect('food-delivery.db')\n",
    "query = \"\"\"\n",
    "INSTALL spatial; LOAD spatial;\n",
    "ALTER TABLE restaurants ADD COLUMN geom GEOMETRY;\n",
    "\"\"\"\n",
    "con.sql(query)"
   ],
   "id": "6d5f057d6e2ccc47",
   "outputs": [],
   "execution_count": null
  },
  {
   "metadata": {},
   "cell_type": "markdown",
   "source": "Update geom column values from lat and lon columns by using ST_Point.\n",
   "id": "f56a2fdf73e3faf0"
  },
  {
   "metadata": {},
   "cell_type": "code",
   "source": [
    "%%time\n",
    "con = duckdb.connect('food-delivery.db')\n",
    "query = \"\"\"\n",
    "UPDATE restaurants\n",
    "    SET geom = ST_Point(lat, lon);\n",
    "\"\"\"\n",
    "con.sql(query)"
   ],
   "id": "68b09a2ee31543f7",
   "outputs": [],
   "execution_count": null
  },
  {
   "metadata": {},
   "cell_type": "markdown",
   "source": "Let's retrieve the name and location of restaurants",
   "id": "7dab3eae7f8f203d"
  },
  {
   "metadata": {
    "ExecuteTime": {
     "end_time": "2025-10-02T14:28:30.760950Z",
     "start_time": "2025-10-02T14:28:30.751028Z"
    }
   },
   "cell_type": "code",
   "source": [
    "%%time\n",
    "con = duckdb.connect('food-delivery.db')\n",
    "query = f\"\"\"\n",
    "SELECT name, Lon, Lat, geom FROM restaurants;\n",
    "\"\"\"\n",
    "df_select = con.sql(query).df()"
   ],
   "id": "6a0071dd493c3cac",
   "outputs": [
    {
     "name": "stdout",
     "output_type": "stream",
     "text": [
      "CPU times: total: 31.2 ms\n",
      "Wall time: 4.9 ms\n"
     ]
    }
   ],
   "execution_count": 5
  },
  {
   "metadata": {},
   "cell_type": "markdown",
   "source": "Let's display 10 rows",
   "id": "4fbf7b4aae3447ac"
  },
  {
   "metadata": {
    "ExecuteTime": {
     "end_time": "2025-10-02T14:28:33.978080Z",
     "start_time": "2025-10-02T14:28:33.961456Z"
    }
   },
   "cell_type": "code",
   "source": "df_select[:10]",
   "id": "68d53529b4813bf8",
   "outputs": [
    {
     "data": {
      "text/plain": [
       "                             Name        Lon        Lat  \\\n",
       "0           Morris Park Bake Shop -73.856077  40.848447   \n",
       "1                         Wendy'S -73.961704  40.662942   \n",
       "2                 Riviera Caterer -73.982420  40.579505   \n",
       "3              Tov Kosher Kitchen -73.860115  40.731174   \n",
       "4         Brunos On The Boulevard -73.880383  40.764312   \n",
       "5  Dj Reynolds Pub And Restaurant -73.985136  40.767692   \n",
       "6              Wilken'S Fine Food -73.906851  40.619903   \n",
       "7                 Regina Caterers -74.005289  40.628886   \n",
       "8     Taste The Tropics Ice Cream -73.948261  40.640827   \n",
       "9                   Kosher Island -74.137729  40.611957   \n",
       "\n",
       "                                                geom  \n",
       "0  [0, 0, 0, 0, 0, 0, 0, 0, 0, 0, 0, 0, 1, 0, 0, ...  \n",
       "1  [0, 0, 0, 0, 0, 0, 0, 0, 0, 0, 0, 0, 1, 0, 0, ...  \n",
       "2  [0, 0, 0, 0, 0, 0, 0, 0, 0, 0, 0, 0, 1, 0, 0, ...  \n",
       "3  [0, 0, 0, 0, 0, 0, 0, 0, 0, 0, 0, 0, 1, 0, 0, ...  \n",
       "4  [0, 0, 0, 0, 0, 0, 0, 0, 0, 0, 0, 0, 1, 0, 0, ...  \n",
       "5  [0, 0, 0, 0, 0, 0, 0, 0, 0, 0, 0, 0, 1, 0, 0, ...  \n",
       "6  [0, 0, 0, 0, 0, 0, 0, 0, 0, 0, 0, 0, 1, 0, 0, ...  \n",
       "7  [0, 0, 0, 0, 0, 0, 0, 0, 0, 0, 0, 0, 1, 0, 0, ...  \n",
       "8  [0, 0, 0, 0, 0, 0, 0, 0, 0, 0, 0, 0, 1, 0, 0, ...  \n",
       "9  [0, 0, 0, 0, 0, 0, 0, 0, 0, 0, 0, 0, 1, 0, 0, ...  "
      ],
      "text/html": [
       "<div>\n",
       "<style scoped>\n",
       "    .dataframe tbody tr th:only-of-type {\n",
       "        vertical-align: middle;\n",
       "    }\n",
       "\n",
       "    .dataframe tbody tr th {\n",
       "        vertical-align: top;\n",
       "    }\n",
       "\n",
       "    .dataframe thead th {\n",
       "        text-align: right;\n",
       "    }\n",
       "</style>\n",
       "<table border=\"1\" class=\"dataframe\">\n",
       "  <thead>\n",
       "    <tr style=\"text-align: right;\">\n",
       "      <th></th>\n",
       "      <th>Name</th>\n",
       "      <th>Lon</th>\n",
       "      <th>Lat</th>\n",
       "      <th>geom</th>\n",
       "    </tr>\n",
       "  </thead>\n",
       "  <tbody>\n",
       "    <tr>\n",
       "      <th>0</th>\n",
       "      <td>Morris Park Bake Shop</td>\n",
       "      <td>-73.856077</td>\n",
       "      <td>40.848447</td>\n",
       "      <td>[0, 0, 0, 0, 0, 0, 0, 0, 0, 0, 0, 0, 1, 0, 0, ...</td>\n",
       "    </tr>\n",
       "    <tr>\n",
       "      <th>1</th>\n",
       "      <td>Wendy'S</td>\n",
       "      <td>-73.961704</td>\n",
       "      <td>40.662942</td>\n",
       "      <td>[0, 0, 0, 0, 0, 0, 0, 0, 0, 0, 0, 0, 1, 0, 0, ...</td>\n",
       "    </tr>\n",
       "    <tr>\n",
       "      <th>2</th>\n",
       "      <td>Riviera Caterer</td>\n",
       "      <td>-73.982420</td>\n",
       "      <td>40.579505</td>\n",
       "      <td>[0, 0, 0, 0, 0, 0, 0, 0, 0, 0, 0, 0, 1, 0, 0, ...</td>\n",
       "    </tr>\n",
       "    <tr>\n",
       "      <th>3</th>\n",
       "      <td>Tov Kosher Kitchen</td>\n",
       "      <td>-73.860115</td>\n",
       "      <td>40.731174</td>\n",
       "      <td>[0, 0, 0, 0, 0, 0, 0, 0, 0, 0, 0, 0, 1, 0, 0, ...</td>\n",
       "    </tr>\n",
       "    <tr>\n",
       "      <th>4</th>\n",
       "      <td>Brunos On The Boulevard</td>\n",
       "      <td>-73.880383</td>\n",
       "      <td>40.764312</td>\n",
       "      <td>[0, 0, 0, 0, 0, 0, 0, 0, 0, 0, 0, 0, 1, 0, 0, ...</td>\n",
       "    </tr>\n",
       "    <tr>\n",
       "      <th>5</th>\n",
       "      <td>Dj Reynolds Pub And Restaurant</td>\n",
       "      <td>-73.985136</td>\n",
       "      <td>40.767692</td>\n",
       "      <td>[0, 0, 0, 0, 0, 0, 0, 0, 0, 0, 0, 0, 1, 0, 0, ...</td>\n",
       "    </tr>\n",
       "    <tr>\n",
       "      <th>6</th>\n",
       "      <td>Wilken'S Fine Food</td>\n",
       "      <td>-73.906851</td>\n",
       "      <td>40.619903</td>\n",
       "      <td>[0, 0, 0, 0, 0, 0, 0, 0, 0, 0, 0, 0, 1, 0, 0, ...</td>\n",
       "    </tr>\n",
       "    <tr>\n",
       "      <th>7</th>\n",
       "      <td>Regina Caterers</td>\n",
       "      <td>-74.005289</td>\n",
       "      <td>40.628886</td>\n",
       "      <td>[0, 0, 0, 0, 0, 0, 0, 0, 0, 0, 0, 0, 1, 0, 0, ...</td>\n",
       "    </tr>\n",
       "    <tr>\n",
       "      <th>8</th>\n",
       "      <td>Taste The Tropics Ice Cream</td>\n",
       "      <td>-73.948261</td>\n",
       "      <td>40.640827</td>\n",
       "      <td>[0, 0, 0, 0, 0, 0, 0, 0, 0, 0, 0, 0, 1, 0, 0, ...</td>\n",
       "    </tr>\n",
       "    <tr>\n",
       "      <th>9</th>\n",
       "      <td>Kosher Island</td>\n",
       "      <td>-74.137729</td>\n",
       "      <td>40.611957</td>\n",
       "      <td>[0, 0, 0, 0, 0, 0, 0, 0, 0, 0, 0, 0, 1, 0, 0, ...</td>\n",
       "    </tr>\n",
       "  </tbody>\n",
       "</table>\n",
       "</div>"
      ]
     },
     "execution_count": 6,
     "metadata": {},
     "output_type": "execute_result"
    }
   ],
   "execution_count": 6
  },
  {
   "metadata": {},
   "cell_type": "markdown",
   "source": [
    "The following functions are helpers for visualization\n",
    "<br>vis_add_circle() adds a circle [center:(lat,lon), radius:r] to folium.Map\n",
    "<br>visualize_poi() adds point of interests to folium.Map\n",
    "<br>"
   ],
   "id": "8ccebaae65b4fc26"
  },
  {
   "metadata": {
    "ExecuteTime": {
     "end_time": "2025-10-02T14:28:43.488370Z",
     "start_time": "2025-10-02T14:28:43.480397Z"
    }
   },
   "cell_type": "code",
   "source": [
    "def vis_add_circle(mymap, lat, lon, r,color=\"cornflowerblue\"):\n",
    "    circle = folium.CircleMarker(\n",
    "                location=[lat, lon],\n",
    "                radius=r,\n",
    "                color=color,\n",
    "                stroke=False,\n",
    "                fill=True,\n",
    "                fill_opacity=0.6,\n",
    "                opacity=1,\n",
    "                popup=\"{} pixels\".format(r),\n",
    "                tooltip=\"I am NNQ\",\n",
    "    )\n",
    "    mymap.add_child(circle)\n",
    "\n",
    "\n",
    "def visualize_poi(df_selected, nnq_lon=None, nnq_lat=None, radius=10, color=\"red\"):\n",
    "    \"\"\"\n",
    "    Visualize  by using folium map\n",
    "\n",
    "    :param df_selected:\n",
    "    :param nnq_lon:\n",
    "    :param nnq_lat:\n",
    "    :param radius:\n",
    "    :param color:\n",
    "    :return:\n",
    "    \"\"\"\n",
    "\n",
    "    fm_map = folium.Map(location=[sum(df_selected.Lat)/len(df_selected.Lat), sum(df_selected.Lon)/len(df_selected.Lon)], zoom_start=10, tiles='Cartodb Positron')\n",
    "    if nnq_lat and nnq_lon:\n",
    "        vis_add_circle(fm_map, nnq_lat, nnq_lon, radius, color=\"red\")\n",
    "    #my_PolyLine=folium.PolyLine(locations=polyline,weight=8,color=color)\n",
    "    #m.add_child(my_PolyLine)\n",
    "    for index, row in df.iterrows():\n",
    "        r=2\n",
    "        circle = folium.CircleMarker(\n",
    "                location=[row['Lat'], row['Lon']],\n",
    "                radius=r,\n",
    "                color=\"cornflowerblue\",\n",
    "                stroke=False,\n",
    "                fill=True,\n",
    "                fill_opacity=0.6,\n",
    "                opacity=1,\n",
    "                popup=\"{} pixels\".format(r),\n",
    "                tooltip=row['Name'],\n",
    "            )\n",
    "        fm_map.add_child(circle)\n",
    "\n",
    "    return m\n"
   ],
   "id": "bd1ccc1d0cddab19",
   "outputs": [],
   "execution_count": 7
  },
  {
   "metadata": {},
   "cell_type": "markdown",
   "source": "Let's see the locations on a map",
   "id": "b4a6118757b62fc4"
  },
  {
   "metadata": {},
   "cell_type": "code",
   "source": [
    "m = visualize_poi(df_select,None,None)\n",
    "display(m)"
   ],
   "id": "3406f465a21967f2",
   "outputs": [],
   "execution_count": null
  },
  {
   "metadata": {},
   "cell_type": "markdown",
   "source": [
    "If it does not display the map, here it is.\n",
    "![](./md-1.png)"
   ],
   "id": "18d950b37eafcddd"
  },
  {
   "metadata": {},
   "cell_type": "markdown",
   "source": [
    "## NNQ Query\n",
    "<br> Let's define a NNQ with center location and distance (radius)"
   ],
   "id": "dc18f99e95f788f9"
  },
  {
   "metadata": {
    "ExecuteTime": {
     "end_time": "2025-10-02T14:31:42.438206Z",
     "start_time": "2025-10-02T14:31:42.433884Z"
    }
   },
   "cell_type": "code",
   "source": [
    "NNQ_LON=-73.8601152\n",
    "NNQ_LAT= 40.7311739\n",
    "NNQ_RADIUS = 160\n"
   ],
   "id": "581f7cf35508c849",
   "outputs": [],
   "execution_count": 16
  },
  {
   "metadata": {},
   "cell_type": "markdown",
   "source": "LLet's see the NNQ on the map with restaurants",
   "id": "657d149870d3065f"
  },
  {
   "metadata": {},
   "cell_type": "code",
   "source": [
    "m = visualize_poi(df_select, NNQ_LON, NNQ_LAT, NNQ_RADIUS*0.005)\n",
    "display(m)"
   ],
   "id": "45dbef8532963f34",
   "outputs": [],
   "execution_count": null
  },
  {
   "metadata": {},
   "cell_type": "markdown",
   "source": [
    "The circle in red denotes the range of query.\n",
    "<br>If it does not display the map, here it is.\n",
    "![](./md-2.png)"
   ],
   "id": "4fe65448385a2dc1"
  },
  {
   "metadata": {},
   "cell_type": "markdown",
   "source": [
    "Let's find the distance between query center and each restaurant.\n",
    "<br>This query has to scan the table."
   ],
   "id": "9da79a541ce17b03"
  },
  {
   "metadata": {
    "ExecuteTime": {
     "end_time": "2025-10-02T14:29:27.880117Z",
     "start_time": "2025-10-02T14:29:27.870691Z"
    }
   },
   "cell_type": "code",
   "source": [
    "%%time\n",
    "con = duckdb.connect('food-delivery.db')\n",
    "query = f\"\"\"\n",
    "SELECT name\n",
    "    , Lon\n",
    "    , Lat\n",
    "    , ST_Distance(geom, ST_Point({NNQ_LON}, {NNQ_LAT})) AS dist2NNQ\n",
    "FROM restaurants\n",
    "\"\"\"\n",
    "df_select = con.sql(query).df()"
   ],
   "id": "8d4a9a119d6a95a5",
   "outputs": [
    {
     "name": "stdout",
     "output_type": "stream",
     "text": [
      "CPU times: total: 0 ns\n",
      "Wall time: 4.43 ms\n"
     ]
    }
   ],
   "execution_count": 10
  },
  {
   "metadata": {},
   "cell_type": "markdown",
   "source": "Let's sort these and display",
   "id": "eb12da0f4ffa83bc"
  },
  {
   "metadata": {
    "ExecuteTime": {
     "end_time": "2025-10-02T14:29:41.027802Z",
     "start_time": "2025-10-02T14:29:41.008329Z"
    }
   },
   "cell_type": "code",
   "source": [
    "df_select.sort_values(by='dist2NNQ', ascending=True, inplace=True)\n",
    "df_select[:12]"
   ],
   "id": "8174971faa0e932f",
   "outputs": [
    {
     "data": {
      "text/plain": [
       "                             Name         Lon        Lat    dist2NNQ\n",
       "100                   Dining Room  -48.942400 -16.355003  106.527873\n",
       "237            Sammy'S Steakhouse  153.162880 -28.016859  121.418666\n",
       "50   Terminal Cafe/Yankee Clipper  -84.204081   9.998658  150.469638\n",
       "274                  White Castle  -72.732927  41.309923  161.673250\n",
       "133                   Healy'S Pub  -73.829939  40.581214  161.929202\n",
       "440           Rogers Irish Tavern  -73.837325  40.579848  161.933463\n",
       "448                Western Bakery  -73.741633  40.676745  161.934295\n",
       "128             Nancy'S Fire Side  -73.709026  40.727601  161.947226\n",
       "317                   Burger King  -73.700739  40.738955  161.949405\n",
       "16               Carvel Ice Cream  -73.703260  40.738642  161.950964\n",
       "354                   Burger King  -73.780574  40.667941  161.955599\n",
       "163                      Cara Mia  -73.742922  40.730571  161.973282"
      ],
      "text/html": [
       "<div>\n",
       "<style scoped>\n",
       "    .dataframe tbody tr th:only-of-type {\n",
       "        vertical-align: middle;\n",
       "    }\n",
       "\n",
       "    .dataframe tbody tr th {\n",
       "        vertical-align: top;\n",
       "    }\n",
       "\n",
       "    .dataframe thead th {\n",
       "        text-align: right;\n",
       "    }\n",
       "</style>\n",
       "<table border=\"1\" class=\"dataframe\">\n",
       "  <thead>\n",
       "    <tr style=\"text-align: right;\">\n",
       "      <th></th>\n",
       "      <th>Name</th>\n",
       "      <th>Lon</th>\n",
       "      <th>Lat</th>\n",
       "      <th>dist2NNQ</th>\n",
       "    </tr>\n",
       "  </thead>\n",
       "  <tbody>\n",
       "    <tr>\n",
       "      <th>100</th>\n",
       "      <td>Dining Room</td>\n",
       "      <td>-48.942400</td>\n",
       "      <td>-16.355003</td>\n",
       "      <td>106.527873</td>\n",
       "    </tr>\n",
       "    <tr>\n",
       "      <th>237</th>\n",
       "      <td>Sammy'S Steakhouse</td>\n",
       "      <td>153.162880</td>\n",
       "      <td>-28.016859</td>\n",
       "      <td>121.418666</td>\n",
       "    </tr>\n",
       "    <tr>\n",
       "      <th>50</th>\n",
       "      <td>Terminal Cafe/Yankee Clipper</td>\n",
       "      <td>-84.204081</td>\n",
       "      <td>9.998658</td>\n",
       "      <td>150.469638</td>\n",
       "    </tr>\n",
       "    <tr>\n",
       "      <th>274</th>\n",
       "      <td>White Castle</td>\n",
       "      <td>-72.732927</td>\n",
       "      <td>41.309923</td>\n",
       "      <td>161.673250</td>\n",
       "    </tr>\n",
       "    <tr>\n",
       "      <th>133</th>\n",
       "      <td>Healy'S Pub</td>\n",
       "      <td>-73.829939</td>\n",
       "      <td>40.581214</td>\n",
       "      <td>161.929202</td>\n",
       "    </tr>\n",
       "    <tr>\n",
       "      <th>440</th>\n",
       "      <td>Rogers Irish Tavern</td>\n",
       "      <td>-73.837325</td>\n",
       "      <td>40.579848</td>\n",
       "      <td>161.933463</td>\n",
       "    </tr>\n",
       "    <tr>\n",
       "      <th>448</th>\n",
       "      <td>Western Bakery</td>\n",
       "      <td>-73.741633</td>\n",
       "      <td>40.676745</td>\n",
       "      <td>161.934295</td>\n",
       "    </tr>\n",
       "    <tr>\n",
       "      <th>128</th>\n",
       "      <td>Nancy'S Fire Side</td>\n",
       "      <td>-73.709026</td>\n",
       "      <td>40.727601</td>\n",
       "      <td>161.947226</td>\n",
       "    </tr>\n",
       "    <tr>\n",
       "      <th>317</th>\n",
       "      <td>Burger King</td>\n",
       "      <td>-73.700739</td>\n",
       "      <td>40.738955</td>\n",
       "      <td>161.949405</td>\n",
       "    </tr>\n",
       "    <tr>\n",
       "      <th>16</th>\n",
       "      <td>Carvel Ice Cream</td>\n",
       "      <td>-73.703260</td>\n",
       "      <td>40.738642</td>\n",
       "      <td>161.950964</td>\n",
       "    </tr>\n",
       "    <tr>\n",
       "      <th>354</th>\n",
       "      <td>Burger King</td>\n",
       "      <td>-73.780574</td>\n",
       "      <td>40.667941</td>\n",
       "      <td>161.955599</td>\n",
       "    </tr>\n",
       "    <tr>\n",
       "      <th>163</th>\n",
       "      <td>Cara Mia</td>\n",
       "      <td>-73.742922</td>\n",
       "      <td>40.730571</td>\n",
       "      <td>161.973282</td>\n",
       "    </tr>\n",
       "  </tbody>\n",
       "</table>\n",
       "</div>"
      ]
     },
     "execution_count": 11,
     "metadata": {},
     "output_type": "execute_result"
    }
   ],
   "execution_count": 11
  },
  {
   "metadata": {},
   "cell_type": "markdown",
   "source": [
    "Let's find restaurant locations without any index.\n",
    "<br>It uses ST_DWithin() spatial function to select the locations within the radius."
   ],
   "id": "2a05ea37e431c84c"
  },
  {
   "metadata": {
    "ExecuteTime": {
     "end_time": "2025-10-02T14:34:15.832881Z",
     "start_time": "2025-10-02T14:34:15.824239Z"
    }
   },
   "cell_type": "code",
   "source": [
    "%%time\n",
    "con = duckdb.connect('food-delivery.db')\n",
    "query = f\"\"\"\n",
    "SELECT name\n",
    "    , Lon\n",
    "    , Lat\n",
    "    , ST_Distance(geom, ST_Point({NNQ_LON}, {NNQ_LAT})) AS dist2NNQ\n",
    "FROM restaurants\n",
    "WHERE ST_DWithin(geom, ST_Point({NNQ_LON}, {NNQ_LAT}), {NNQ_RADIUS});\n",
    "\"\"\"\n",
    "df_select = con.sql(query).df()"
   ],
   "id": "941f1b4c7a349ca7",
   "outputs": [
    {
     "name": "stdout",
     "output_type": "stream",
     "text": [
      "CPU times: total: 0 ns\n",
      "Wall time: 3.84 ms\n"
     ]
    }
   ],
   "execution_count": 22
  },
  {
   "metadata": {
    "ExecuteTime": {
     "end_time": "2025-10-02T14:34:17.475169Z",
     "start_time": "2025-10-02T14:34:17.461949Z"
    }
   },
   "cell_type": "code",
   "source": [
    "df_select.sort_values(by='dist2NNQ', ascending=True, inplace=True)\n",
    "df_select"
   ],
   "id": "d29fc704be4b5a1d",
   "outputs": [
    {
     "data": {
      "text/plain": [
       "                           Name         Lon        Lat    dist2NNQ\n",
       "1                   Dining Room  -48.942400 -16.355003  106.527873\n",
       "2            Sammy'S Steakhouse  153.162880 -28.016859  121.418666\n",
       "0  Terminal Cafe/Yankee Clipper  -84.204081   9.998658  150.469638"
      ],
      "text/html": [
       "<div>\n",
       "<style scoped>\n",
       "    .dataframe tbody tr th:only-of-type {\n",
       "        vertical-align: middle;\n",
       "    }\n",
       "\n",
       "    .dataframe tbody tr th {\n",
       "        vertical-align: top;\n",
       "    }\n",
       "\n",
       "    .dataframe thead th {\n",
       "        text-align: right;\n",
       "    }\n",
       "</style>\n",
       "<table border=\"1\" class=\"dataframe\">\n",
       "  <thead>\n",
       "    <tr style=\"text-align: right;\">\n",
       "      <th></th>\n",
       "      <th>Name</th>\n",
       "      <th>Lon</th>\n",
       "      <th>Lat</th>\n",
       "      <th>dist2NNQ</th>\n",
       "    </tr>\n",
       "  </thead>\n",
       "  <tbody>\n",
       "    <tr>\n",
       "      <th>1</th>\n",
       "      <td>Dining Room</td>\n",
       "      <td>-48.942400</td>\n",
       "      <td>-16.355003</td>\n",
       "      <td>106.527873</td>\n",
       "    </tr>\n",
       "    <tr>\n",
       "      <th>2</th>\n",
       "      <td>Sammy'S Steakhouse</td>\n",
       "      <td>153.162880</td>\n",
       "      <td>-28.016859</td>\n",
       "      <td>121.418666</td>\n",
       "    </tr>\n",
       "    <tr>\n",
       "      <th>0</th>\n",
       "      <td>Terminal Cafe/Yankee Clipper</td>\n",
       "      <td>-84.204081</td>\n",
       "      <td>9.998658</td>\n",
       "      <td>150.469638</td>\n",
       "    </tr>\n",
       "  </tbody>\n",
       "</table>\n",
       "</div>"
      ]
     },
     "execution_count": 23,
     "metadata": {},
     "output_type": "execute_result"
    }
   ],
   "execution_count": 23
  },
  {
   "metadata": {},
   "cell_type": "code",
   "source": [
    "m = visualize_poi(df_select, NNQ_LON, NNQ_LAT, NNQ_RADIUS*0.005)\n",
    "display(m)"
   ],
   "id": "2705b52cb076be13",
   "outputs": [],
   "execution_count": null
  },
  {
   "metadata": {},
   "cell_type": "markdown",
   "source": [
    "<br>If it does not display the map, here it is.\n",
    "![](./md-3.png)"
   ],
   "id": "c841522e5ffe8496"
  },
  {
   "metadata": {},
   "cell_type": "markdown",
   "source": [
    "## No Index\n",
    "Let's analyze the query plan to verify type of table scan.\n",
    "<br>\n",
    "\\TODO Revise\n",
    "\n",
    "| Spatial Function in predicate | Spatial Index Exist? | Query Plan |\n",
    "|-------------------------------|----------------------|------------|\n",
    "| ST_DWithin                    | No                   | type: Sequential scan|\n",
    "| ST_DWithin                    | Yes                  | type: Sequential scan|\n",
    "| ST_Within                     | No                   | type: Sequential scan|\n",
    "| ST_Within                     | Yes                  | type: Index scan|\n"
   ],
   "id": "eefae5e943f13c33"
  },
  {
   "metadata": {},
   "cell_type": "code",
   "source": [
    "%%time\n",
    "con = duckdb.connect('food-delivery.db')\n",
    "query = f\"\"\"\n",
    "EXPLAIN ANALYZE\n",
    "SELECT name, Lon, Lat FROM restaurants\n",
    "WHERE ST_DWithin(geom, ST_Point({NNQ_LON}, {NNQ_LAT}), {NNQ_RADIUS}*1.4734);\n",
    "\"\"\"\n",
    "query_plan = con.sql(query).fetchall()"
   ],
   "id": "93eefdd08ac862be",
   "outputs": [],
   "execution_count": null
  },
  {
   "metadata": {},
   "cell_type": "code",
   "source": [
    "analyzed_plan = query_plan[0][1]\n",
    "\n",
    "for line in analyzed_plan.split('\\n'):\n",
    "    print(line)\n",
    "\n",
    "with open('./qa_st_dwithin.txt', 'w', encoding=\"utf-8\") as f:\n",
    "    f.writelines(analyzed_plan)\n"
   ],
   "id": "e4dd11e4a93e7b85",
   "outputs": [],
   "execution_count": null
  },
  {
   "metadata": {},
   "cell_type": "markdown",
   "source": [
    "As the query plan shows, it scans the table sequentially (Type: Sequential Scan). The time complexity is O(N) where N is the number of restaurants in the table.\n",
    "<br> It is suitable for sharding and applying scatter-gather query. In that case the time complexity will be O(N/S) (following Amhdal's Law). Gatherer/broker needs to apply multi-way merge sort before returning the final query result.\n",
    "<br> Here is the output image.<br>\n",
    "![](md-4.png)"
   ],
   "id": "393bc769c449b624",
   "attachments": {
    "03f163bc-cef6-403a-9305-d4e1474df590.png": {
     "image/png": "[encoded data removed]"
    }
   }
  },
  {
   "metadata": {},
   "cell_type": "markdown",
   "source": "",
   "id": "12cc3211a94f5351"
  },
  {
   "metadata": {
    "ExecuteTime": {
     "end_time": "2025-10-02T14:40:26.969561Z",
     "start_time": "2025-10-02T14:40:26.965588Z"
    }
   },
   "cell_type": "code",
   "source": [
    "def analyzed_plan_display_write(analyzed_plan: str,output_file_name: str, encoding=\"utf-8\"):\n",
    "    \"\"\" Displys and Writes analysis of query plan \"\"\"\n",
    "    if analyzed_plan:\n",
    "        for line in analyzed_plan.split('\\n'):\n",
    "            print(line)\n",
    "\n",
    "        if output_file_name:\n",
    "            with open(output_file_name, 'w', encoding=encoding) as f:\n",
    "                f.writelines(analyzed_plan)"
   ],
   "id": "a079c0bae20e9d15",
   "outputs": [],
   "execution_count": 26
  },
  {
   "metadata": {},
   "cell_type": "markdown",
   "source": [
    "## R-Tree Index\n",
    "Let's use R-Tree index on geom column."
   ],
   "id": "b3e2c5a0fb23955f"
  },
  {
   "metadata": {
    "ExecuteTime": {
     "end_time": "2025-10-02T14:42:13.930226Z",
     "start_time": "2025-10-02T14:42:13.919504Z"
    }
   },
   "cell_type": "code",
   "source": [
    "%%time\n",
    "query = \"CREATE INDEX spatial_index_rtree ON restaurants USING RTREE (geom);\"\n",
    "con.sql(query)\n"
   ],
   "id": "37994488cd5d14c9",
   "outputs": [
    {
     "name": "stdout",
     "output_type": "stream",
     "text": [
      "CPU times: total: 0 ns\n",
      "Wall time: 5.33 ms\n"
     ]
    }
   ],
   "execution_count": 27
  },
  {
   "metadata": {
    "ExecuteTime": {
     "end_time": "2025-10-02T14:59:39.911105Z",
     "start_time": "2025-10-02T14:59:39.907639Z"
    }
   },
   "cell_type": "code",
   "source": [
    "# \\TODO Fix mapping to spherical coordinate system\n",
    "MNNQ_RADIUS = (NNQ_RADIUS*1.4734)*0.7075"
   ],
   "id": "2b0128d785f4c22f",
   "outputs": [],
   "execution_count": 45
  },
  {
   "metadata": {},
   "cell_type": "markdown",
   "source": [
    "Let's define a bounding box around the (center, radius) so that it can be used in the query to utilize R-Tree index.\n",
    "<br> GEOMETRY ST_MakeEnvelope (min_x DOUBLE, min_y DOUBLE, max_x DOUBLE, max_y DOUBLE)\n",
    "<br> \\TODO ST_MaximumInscribedCircle"
   ],
   "id": "461b477d25bfc77c"
  },
  {
   "metadata": {},
   "cell_type": "code",
   "source": [
    "%%time\n",
    "query = f\"SELECT ST_MakeEnvelope({NNQ_LON}-{MNNQ_RADIUS}, {NNQ_LAT}-{MNNQ_RADIUS},{NNQ_LON}+{MNNQ_RADIUS}, {NNQ_LAT}+{MNNQ_RADIUS}) AS envelope;\"\n",
    "dfr = con.sql(query).df()\n",
    "dfr"
   ],
   "id": "bbba4fb531bcc07d",
   "outputs": [],
   "execution_count": null
  },
  {
   "metadata": {},
   "cell_type": "markdown",
   "source": [
    "Query engine will consider R-Tree index if the predicates (conditions in WHERE clause) have one of the following spatial operations<br>\n",
    " - ST_Equals\n",
    " - ST_Intersects\n",
    " - ST_Touches\n",
    " - ST_Crosses\n",
    " - ST_Within\n",
    " - ST_Contains\n",
    " - ST_Overlaps\n",
    " - ST_Covers\n",
    " - ST_CoveredBy\n",
    " - ST_ContainsProperly\n"
   ],
   "id": "fbed4a291439386a"
  },
  {
   "metadata": {},
   "cell_type": "markdown",
   "source": [
    "This implementation is based on ST_Within() function\n",
    "<br>\n",
    "<br>BOOLEAN ST_Within (geom1 POINT_2D, geom2 POLYGON_2D)\n",
    "<br>BOOLEAN ST_Within (geom1 GEOMETRY, geom2 GEOMETRY)\n",
    "<br>\n",
    "<br> reference: https://duckdb.org/docs/stable/core_extensions/spatial/functions#st_within"
   ],
   "id": "b200644a0ba1afc2"
  },
  {
   "metadata": {
    "ExecuteTime": {
     "end_time": "2025-10-02T15:12:31.008529Z",
     "start_time": "2025-10-02T15:12:31.004127Z"
    }
   },
   "cell_type": "code",
   "source": [
    "import math\n",
    "# Rectangle will contain the circle\n",
    "MNNQ_RADIUS = math.sqrt(2 * (NNQ_RADIUS * NNQ_RADIUS)) / 1.975\n",
    "print(\"%16.12f => %16.12f\" % (NNQ_RADIUS, MNNQ_RADIUS))"
   ],
   "id": "a6cff8a731ad959a",
   "outputs": [
    {
     "name": "stdout",
     "output_type": "stream",
     "text": [
      "160.000000000000 => 114.569199989719\n"
     ]
    }
   ],
   "execution_count": 102
  },
  {
   "metadata": {
    "ExecuteTime": {
     "end_time": "2025-10-02T15:12:34.875810Z",
     "start_time": "2025-10-02T15:12:34.866264Z"
    }
   },
   "cell_type": "code",
   "source": [
    "%%time\n",
    "con = duckdb.connect('food-delivery.db')\n",
    "query = f\"\"\"\n",
    "SET VARIABLE envelope = ST_MakeEnvelope({NNQ_LON}-{MNNQ_RADIUS}, {NNQ_LAT}-{MNNQ_RADIUS},{NNQ_LON}+{MNNQ_RADIUS}, {NNQ_LAT}+{MNNQ_RADIUS});\n",
    "SELECT name\n",
    "    , Lon\n",
    "    , Lat\n",
    "    , ST_Distance(geom, ST_Point({NNQ_LON}, {NNQ_LAT})) AS dist2NNQ\n",
    "FROM restaurants\n",
    "WHERE ST_Within(geom,getvariable('envelope'));\n",
    "\"\"\"\n",
    "df_select = con.sql(query).df()"
   ],
   "id": "5b5c093d0f9ff27a",
   "outputs": [
    {
     "name": "stdout",
     "output_type": "stream",
     "text": [
      "CPU times: total: 0 ns\n",
      "Wall time: 3.99 ms\n"
     ]
    }
   ],
   "execution_count": 103
  },
  {
   "metadata": {
    "ExecuteTime": {
     "end_time": "2025-10-02T15:00:44.355903Z",
     "start_time": "2025-10-02T15:00:44.351738Z"
    }
   },
   "cell_type": "code",
   "source": [
    "def NNQ_print(NNQ_LON: float, NNQ_LAT: float, RADIUS: float):\n",
    "    #\"latitude\": ,  \"longitude\": , \"altitude\": ,\n",
    "    print(f\"'NNQ':  'center': 'longitude': {NNQ_LON:f}, 'latitude': {NNQ_LAT:f} , 'radius': {RADIUS:f} \")\n"
   ],
   "id": "41851a8002543ee5",
   "outputs": [],
   "execution_count": 54
  },
  {
   "metadata": {
    "ExecuteTime": {
     "end_time": "2025-10-02T15:12:38.020149Z",
     "start_time": "2025-10-02T15:12:38.003983Z"
    }
   },
   "cell_type": "code",
   "source": [
    "NNQ_print(NNQ_LON, NNQ_LAT, NNQ_RADIUS)\n",
    "df_select.sort_values(by='dist2NNQ', ascending=True, inplace=True)\n",
    "df_select"
   ],
   "id": "7b7cf0af7ee3cbbd",
   "outputs": [
    {
     "name": "stdout",
     "output_type": "stream",
     "text": [
      "'NNQ':  'center': 'longitude': -73.860115, 'latitude': 40.731174 , 'radius': 160.000000 \n"
     ]
    },
    {
     "data": {
      "text/plain": [
       "                         Name         Lon        Lat    dist2NNQ\n",
       "1                 Dining Room  -48.942400 -16.355003  106.527873\n",
       "9          Sammy'S Steakhouse  153.162880 -28.016859  121.418666\n",
       "3                 Healy'S Pub  -73.829939  40.581214  161.929202\n",
       "12        Rogers Irish Tavern  -73.837325  40.579848  161.933463\n",
       "13             Western Bakery  -73.741633  40.676745  161.934295\n",
       "10                Burger King  -73.780574  40.667941  161.955599\n",
       "5                   Don Peppe  -73.821677  40.668955  161.985380\n",
       "11       Europa Go-Go Dancing  -73.807086  40.698800  161.996167\n",
       "2                 Blarney Bar  -73.808593  40.702028  161.999515\n",
       "6               Maloney'S Bar  -73.809167  40.705421  162.002320\n",
       "4            Lenihan'S Saloon  -73.827705  40.694463  162.007679\n",
       "7            Little Brown Jug  -73.826297  40.700598  162.011022\n",
       "0            Snack Time Grill  -73.830950  40.700112  162.013968\n",
       "8   Dani Pizza And Restaurant  -73.830527  40.708949  162.019918"
      ],
      "text/html": [
       "<div>\n",
       "<style scoped>\n",
       "    .dataframe tbody tr th:only-of-type {\n",
       "        vertical-align: middle;\n",
       "    }\n",
       "\n",
       "    .dataframe tbody tr th {\n",
       "        vertical-align: top;\n",
       "    }\n",
       "\n",
       "    .dataframe thead th {\n",
       "        text-align: right;\n",
       "    }\n",
       "</style>\n",
       "<table border=\"1\" class=\"dataframe\">\n",
       "  <thead>\n",
       "    <tr style=\"text-align: right;\">\n",
       "      <th></th>\n",
       "      <th>Name</th>\n",
       "      <th>Lon</th>\n",
       "      <th>Lat</th>\n",
       "      <th>dist2NNQ</th>\n",
       "    </tr>\n",
       "  </thead>\n",
       "  <tbody>\n",
       "    <tr>\n",
       "      <th>1</th>\n",
       "      <td>Dining Room</td>\n",
       "      <td>-48.942400</td>\n",
       "      <td>-16.355003</td>\n",
       "      <td>106.527873</td>\n",
       "    </tr>\n",
       "    <tr>\n",
       "      <th>9</th>\n",
       "      <td>Sammy'S Steakhouse</td>\n",
       "      <td>153.162880</td>\n",
       "      <td>-28.016859</td>\n",
       "      <td>121.418666</td>\n",
       "    </tr>\n",
       "    <tr>\n",
       "      <th>3</th>\n",
       "      <td>Healy'S Pub</td>\n",
       "      <td>-73.829939</td>\n",
       "      <td>40.581214</td>\n",
       "      <td>161.929202</td>\n",
       "    </tr>\n",
       "    <tr>\n",
       "      <th>12</th>\n",
       "      <td>Rogers Irish Tavern</td>\n",
       "      <td>-73.837325</td>\n",
       "      <td>40.579848</td>\n",
       "      <td>161.933463</td>\n",
       "    </tr>\n",
       "    <tr>\n",
       "      <th>13</th>\n",
       "      <td>Western Bakery</td>\n",
       "      <td>-73.741633</td>\n",
       "      <td>40.676745</td>\n",
       "      <td>161.934295</td>\n",
       "    </tr>\n",
       "    <tr>\n",
       "      <th>10</th>\n",
       "      <td>Burger King</td>\n",
       "      <td>-73.780574</td>\n",
       "      <td>40.667941</td>\n",
       "      <td>161.955599</td>\n",
       "    </tr>\n",
       "    <tr>\n",
       "      <th>5</th>\n",
       "      <td>Don Peppe</td>\n",
       "      <td>-73.821677</td>\n",
       "      <td>40.668955</td>\n",
       "      <td>161.985380</td>\n",
       "    </tr>\n",
       "    <tr>\n",
       "      <th>11</th>\n",
       "      <td>Europa Go-Go Dancing</td>\n",
       "      <td>-73.807086</td>\n",
       "      <td>40.698800</td>\n",
       "      <td>161.996167</td>\n",
       "    </tr>\n",
       "    <tr>\n",
       "      <th>2</th>\n",
       "      <td>Blarney Bar</td>\n",
       "      <td>-73.808593</td>\n",
       "      <td>40.702028</td>\n",
       "      <td>161.999515</td>\n",
       "    </tr>\n",
       "    <tr>\n",
       "      <th>6</th>\n",
       "      <td>Maloney'S Bar</td>\n",
       "      <td>-73.809167</td>\n",
       "      <td>40.705421</td>\n",
       "      <td>162.002320</td>\n",
       "    </tr>\n",
       "    <tr>\n",
       "      <th>4</th>\n",
       "      <td>Lenihan'S Saloon</td>\n",
       "      <td>-73.827705</td>\n",
       "      <td>40.694463</td>\n",
       "      <td>162.007679</td>\n",
       "    </tr>\n",
       "    <tr>\n",
       "      <th>7</th>\n",
       "      <td>Little Brown Jug</td>\n",
       "      <td>-73.826297</td>\n",
       "      <td>40.700598</td>\n",
       "      <td>162.011022</td>\n",
       "    </tr>\n",
       "    <tr>\n",
       "      <th>0</th>\n",
       "      <td>Snack Time Grill</td>\n",
       "      <td>-73.830950</td>\n",
       "      <td>40.700112</td>\n",
       "      <td>162.013968</td>\n",
       "    </tr>\n",
       "    <tr>\n",
       "      <th>8</th>\n",
       "      <td>Dani Pizza And Restaurant</td>\n",
       "      <td>-73.830527</td>\n",
       "      <td>40.708949</td>\n",
       "      <td>162.019918</td>\n",
       "    </tr>\n",
       "  </tbody>\n",
       "</table>\n",
       "</div>"
      ]
     },
     "execution_count": 104,
     "metadata": {},
     "output_type": "execute_result"
    }
   ],
   "execution_count": 104
  },
  {
   "metadata": {},
   "cell_type": "markdown",
   "source": "Let's analyze the query plan",
   "id": "de9d7a7f55ded109"
  },
  {
   "metadata": {
    "ExecuteTime": {
     "end_time": "2025-10-02T15:17:24.163253Z",
     "start_time": "2025-10-02T15:17:24.151512Z"
    }
   },
   "cell_type": "code",
   "source": [
    "%%time\n",
    "con = duckdb.connect('food-delivery.db')\n",
    "query = f\"\"\"\n",
    "SET VARIABLE envelope = ST_MakeEnvelope({NNQ_LON}-{MNNQ_RADIUS}, {NNQ_LAT}-{MNNQ_RADIUS},{NNQ_LON}+{MNNQ_RADIUS}, {NNQ_LAT}+{MNNQ_RADIUS});\n",
    "\n",
    "EXPLAIN ANALYZE\n",
    "SELECT name, Lon, Lat\n",
    "FROM restaurants\n",
    "WHERE ST_Within(geom, getvariable('envelope'));\n",
    "--WHERE ST_Contains(getvariable('envelope'),geom);\n",
    "\"\"\"\n",
    "query_plan = con.sql(query).fetchall()"
   ],
   "id": "7617c0eb5297b63c",
   "outputs": [
    {
     "name": "stdout",
     "output_type": "stream",
     "text": [
      "CPU times: total: 0 ns\n",
      "Wall time: 5.15 ms\n"
     ]
    }
   ],
   "execution_count": 108
  },
  {
   "metadata": {
    "ExecuteTime": {
     "end_time": "2025-10-02T15:17:26.235265Z",
     "start_time": "2025-10-02T15:17:26.227865Z"
    }
   },
   "cell_type": "code",
   "source": [
    "\n",
    "analyzed_plan_display_write(query_plan[0][1],'./qa_st_within_rtree.txt')"
   ],
   "id": "67ccfffe0fcc6f67",
   "outputs": [
    {
     "name": "stdout",
     "output_type": "stream",
     "text": [
      "┌─────────────────────────────────────┐\n",
      "│┌───────────────────────────────────┐│\n",
      "││    Query Profiling Information    ││\n",
      "│└───────────────────────────────────┘│\n",
      "└─────────────────────────────────────┘\n",
      "  EXPLAIN ANALYZE SELECT name, Lon, Lat FROM restaurants WHERE ST_Within(geom, getvariable('envelope')); --WHERE ST_Contains(getvariable('envelope'),geom); \n",
      "┌────────────────────────────────────────────────┐\n",
      "│┌──────────────────────────────────────────────┐│\n",
      "││              Total Time: 0.0016s             ││\n",
      "│└──────────────────────────────────────────────┘│\n",
      "└────────────────────────────────────────────────┘\n",
      "┌───────────────────────────┐\n",
      "│           QUERY           │\n",
      "└─────────────┬─────────────┘\n",
      "┌─────────────┴─────────────┐\n",
      "│      EXPLAIN_ANALYZE      │\n",
      "│    ────────────────────   │\n",
      "│           0 rows          │\n",
      "│          (0.00s)          │\n",
      "└─────────────┬─────────────┘\n",
      "┌─────────────┴─────────────┐\n",
      "│         PROJECTION        │\n",
      "│    ────────────────────   │\n",
      "│            Name           │\n",
      "│            Lon            │\n",
      "│            Lat            │\n",
      "│                           │\n",
      "│          14 rows          │\n",
      "│          (0.00s)          │\n",
      "└─────────────┬─────────────┘\n",
      "┌─────────────┴─────────────┐\n",
      "│           FILTER          │\n",
      "│    ────────────────────   │\n",
      "│  ST_Within(#0, '\\x02\\x04  │\n",
      "│  \\x00\\x00\\x00\\x00\\x00\\x00 │\n",
      "│ \\xE8m<\\xC3\\x12\\xAD\\x93\\xC2│\n",
      "│  \\x1B\\xD6\\x22B\\xE6L\\x1BC  │\n",
      "│  \\x02\\x00\\x00\\x00\\x01\\x00 │\n",
      "│  \\x00\\x00\\x05\\x00\\x00\\x00 │\n",
      "│ \\x00\\x00\\x00\\x00\\xA0p5\\xF3│\n",
      "│ \\xBC\\x8Dg\\xC0s\\x22.8\\xA2uR│\n",
      "│  \\xC0\\xA0p5\\xF3\\xBC\\x8Dg  │\n",
      "│  \\xC0O\\x1D\\xB4\\xA9\\x9Cic@ │\n",
      "│ \\xA0\\xF7VJ\\xC3ZD@O\\x1D\\xB4│\n",
      "│   \\xA9\\x9Cic@\\xA0\\xF7VJ   │\n",
      "│  \\xC3ZD@s\\x22.8\\xA2uR\\xC0 │\n",
      "│  \\xA0p5\\xF3\\xBC\\x8Dg\\xC0s │\n",
      "│     \\x22.8\\xA2uR\\xC0':    │\n",
      "│         :GEOMETRY)        │\n",
      "│                           │\n",
      "│          14 rows          │\n",
      "│          (0.00s)          │\n",
      "└─────────────┬─────────────┘\n",
      "┌─────────────┴─────────────┐\n",
      "│         TABLE_SCAN        │\n",
      "│    ────────────────────   │\n",
      "│     Table: restaurants    │\n",
      "│                           │\n",
      "│           Index:          │\n",
      "│    spatial_index_rtree    │\n",
      "│                           │\n",
      "│        Projections:       │\n",
      "│            geom           │\n",
      "│            Name           │\n",
      "│            Lon            │\n",
      "│            Lat            │\n",
      "│                           │\n",
      "│          14 rows          │\n",
      "│          (0.00s)          │\n",
      "└───────────────────────────┘\n",
      "\n"
     ]
    }
   ],
   "execution_count": 109
  },
  {
   "metadata": {},
   "cell_type": "markdown",
   "source": [
    "Now, it uses Index: spatial_index_rtree when scanning the table.\n",
    "<br> here is part of analysis<br>\n",
    "![](md-5.png)"
   ],
   "id": "d9948aa90d36561a"
  },
  {
   "metadata": {
    "ExecuteTime": {
     "end_time": "2025-10-02T15:15:50.266271Z",
     "start_time": "2025-10-02T15:15:50.256564Z"
    }
   },
   "cell_type": "code",
   "source": [
    "%%time\n",
    "con = duckdb.connect('food-delivery.db')\n",
    "query = f\"\"\"\n",
    "SELECT name, Lon, Lat, ST_Distance(geom, ST_Point({NNQ_LON}, {NNQ_LAT})) AS dist2NNQ\n",
    "FROM restaurants\n",
    "WHERE ST_DWithin(geom, ST_Point({NNQ_LON}, {NNQ_LAT}), {MNNQ_RADIUS});\n",
    "\"\"\"\n",
    "df_select = con.sql(query).df()"
   ],
   "id": "73267ce611d96405",
   "outputs": [
    {
     "name": "stdout",
     "output_type": "stream",
     "text": [
      "CPU times: total: 0 ns\n",
      "Wall time: 3.76 ms\n"
     ]
    }
   ],
   "execution_count": 107
  },
  {
   "metadata": {},
   "cell_type": "code",
   "source": "df_select",
   "id": "1cee7a562484afe",
   "outputs": [],
   "execution_count": null
  },
  {
   "metadata": {
    "ExecuteTime": {
     "end_time": "2025-10-02T15:17:43.207751Z",
     "start_time": "2025-10-02T15:17:43.197566Z"
    }
   },
   "cell_type": "code",
   "source": [
    "%%time\n",
    "con = duckdb.connect('food-delivery.db')\n",
    "query = f\"\"\"\n",
    "EXPLAIN ANALYZE\n",
    "SELECT name, Lon, Lat FROM restaurants\n",
    "WHERE ST_DWithin(geom, ST_Point({NNQ_LON}, {NNQ_LAT}), {MNNQ_RADIUS});\n",
    "\"\"\"\n",
    "query_plan = con.sql(query).fetchall()"
   ],
   "id": "80458a7d1addfa9b",
   "outputs": [
    {
     "name": "stdout",
     "output_type": "stream",
     "text": [
      "CPU times: total: 0 ns\n",
      "Wall time: 4.39 ms\n"
     ]
    }
   ],
   "execution_count": 110
  },
  {
   "metadata": {
    "ExecuteTime": {
     "end_time": "2025-10-02T15:17:46.458422Z",
     "start_time": "2025-10-02T15:17:46.451659Z"
    }
   },
   "cell_type": "code",
   "source": "analyzed_plan_display_write(query_plan[0][1],'./qa_st_dwithin_rtree.txt')\n",
   "id": "2f79af7ee033095f",
   "outputs": [
    {
     "name": "stdout",
     "output_type": "stream",
     "text": [
      "┌─────────────────────────────────────┐\n",
      "│┌───────────────────────────────────┐│\n",
      "││    Query Profiling Information    ││\n",
      "│└───────────────────────────────────┘│\n",
      "└─────────────────────────────────────┘\n",
      " EXPLAIN ANALYZE SELECT name, Lon, Lat FROM restaurants WHERE ST_DWithin(geom, ST_Point(-73.8601152, 40.7311739), 114.5691999897191); \n",
      "┌────────────────────────────────────────────────┐\n",
      "│┌──────────────────────────────────────────────┐│\n",
      "││              Total Time: 0.0015s             ││\n",
      "│└──────────────────────────────────────────────┘│\n",
      "└────────────────────────────────────────────────┘\n",
      "┌───────────────────────────┐\n",
      "│           QUERY           │\n",
      "└─────────────┬─────────────┘\n",
      "┌─────────────┴─────────────┐\n",
      "│      EXPLAIN_ANALYZE      │\n",
      "│    ────────────────────   │\n",
      "│           0 rows          │\n",
      "│          (0.00s)          │\n",
      "└─────────────┬─────────────┘\n",
      "┌─────────────┴─────────────┐\n",
      "│         TABLE_SCAN        │\n",
      "│    ────────────────────   │\n",
      "│     Table: restaurants    │\n",
      "│   Type: Sequential Scan   │\n",
      "│                           │\n",
      "│        Projections:       │\n",
      "│            Name           │\n",
      "│            Lon            │\n",
      "│            Lat            │\n",
      "│                           │\n",
      "│          Filters:         │\n",
      "│ ST_DWithin(geom, '\\x00\\x00│\n",
      "│  \\x00\\x00\\x00\\x00\\x00\\x00 │\n",
      "│  \\x00\\x00\\x00\\x00\\x01\\x00 │\n",
      "│   \\x00\\x00\\xB8\\xB2\\x9F    │\n",
      "│ \\x0CwR\\xC0*\\x18:\\x1B\\x97]D│\n",
      "│       @'::GEOMETRY)       │\n",
      "│                           │\n",
      "│           1 row           │\n",
      "│          (0.00s)          │\n",
      "└───────────────────────────┘\n",
      "\n"
     ]
    }
   ],
   "execution_count": 111
  },
  {
   "metadata": {},
   "cell_type": "markdown",
   "source": "Because ST_DWithin() function does not exploit R-Tree index, query falls back to sequential scan.",
   "id": "5338ab1b9bfa3e1a"
  },
  {
   "metadata": {},
   "cell_type": "markdown",
   "source": "## H3 Index\n",
   "id": "261b2f4685f42077"
  },
  {
   "metadata": {},
   "cell_type": "markdown",
   "source": "Let's drop the R-Tree index on geom column.",
   "id": "b4ad46c46ed7959a"
  },
  {
   "metadata": {
    "ExecuteTime": {
     "end_time": "2025-10-02T15:18:16.782126Z",
     "start_time": "2025-10-02T15:18:16.774345Z"
    }
   },
   "cell_type": "code",
   "source": [
    "con = duckdb.connect('food-delivery.db')\n",
    "query = \"\"\"\n",
    "DROP INDEX IF EXISTS spatial_index_rtree;\"\"\"\n",
    "con.sql(query)"
   ],
   "id": "fa48478291b27797",
   "outputs": [],
   "execution_count": 112
  },
  {
   "metadata": {},
   "cell_type": "markdown",
   "source": "Let's install h3",
   "id": "99747e0366572ead"
  },
  {
   "metadata": {
    "ExecuteTime": {
     "end_time": "2025-10-02T15:18:19.698069Z",
     "start_time": "2025-10-02T15:18:19.062753Z"
    }
   },
   "cell_type": "code",
   "source": [
    "query = \"\"\"\n",
    "INSTALL h3 FROM community; LOAD h3;\"\"\"\n",
    "con.sql(query)"
   ],
   "id": "501fe81c54add2ea",
   "outputs": [],
   "execution_count": 113
  },
  {
   "metadata": {},
   "cell_type": "markdown",
   "source": [
    "Let's add a column to restaurants table to store H3 Cell Identifier..\n",
    "<br>\n",
    "<br>h3_latlng_to_cell(Lat, Lon, RESOLUTION): Returns the H3 Cell Identifier of location(Lat,Lon) at given RESOLUTION level"
   ],
   "id": "3aaee6105444f526"
  },
  {
   "metadata": {},
   "cell_type": "code",
   "source": [
    "%%time\n",
    "RESOLUTION=7\n",
    "query = f\"\"\"\n",
    "ALTER TABLE restaurants ADD COLUMN IF NOT EXISTS h3_cell_id BIGINT;\n",
    "UPDATE restaurants\n",
    "  SET h3_cell_id = h3_latlng_to_cell(Lat, Lon, {RESOLUTION});\n",
    "CREATE INDEX spatial_index_h3 ON restaurants (h3_cell_id)\"\"\"\n",
    "con.sql(query)"
   ],
   "id": "af2a40963ec98952",
   "outputs": [],
   "execution_count": null
  },
  {
   "metadata": {},
   "cell_type": "markdown",
   "source": "Let's see how H3 Cells are organized",
   "id": "cf7fd88897b26406"
  },
  {
   "metadata": {},
   "cell_type": "code",
   "source": [
    "RESOLUTION = 7\n",
    "NNQ_RADIUS = 10000\n",
    "\n",
    "h3_cell = h3.latlng_to_cell(NNQ_LAT, NNQ_LON, RESOLUTION)\n",
    "print(f\" LAT:{NNQ_LAT} LON:{NNQ_LON} resolution:{RESOLUTION} -> {h3_cell}\")\n",
    "\n",
    "h3_neighbors = h3.grid_disk(h3_cell, 1)  # Center + 1st ring\n",
    "print(type(h3_neighbors))\n",
    "h3_neighbors"
   ],
   "id": "6a9b8693104b0a58",
   "outputs": [],
   "execution_count": null
  },
  {
   "metadata": {},
   "cell_type": "markdown",
   "source": [
    "h3.grid_disk(h3_cell, 1) returns the first layer of H3 Cells surrounding the h3_cell.\n",
    "<br>Let's validate that it will produce the same when used in SQL"
   ],
   "id": "6ee3e9b044a0140e"
  },
  {
   "metadata": {},
   "cell_type": "code",
   "source": [
    "%%time\n",
    "query = f\"\"\"\n",
    "WITH query_h3 AS (\n",
    "  SELECT h3_latlng_to_cell({NNQ_LAT}, {NNQ_LON}, {RESOLUTION}) AS h3\n",
    "),\n",
    "nearby_h3 AS (\n",
    "  SELECT CAST(unnest(h3_grid_disk(h3, 1)) AS BIGINT) AS h3_cell_id\n",
    "  FROM query_h3\n",
    ")\n",
    "SELECT * FROM nearby_h3;\n",
    "\"\"\"\n",
    "df_select = con.sql(query).df()"
   ],
   "id": "366fed47fd1f0688",
   "outputs": [],
   "execution_count": null
  },
  {
   "metadata": {},
   "cell_type": "code",
   "source": "df_select",
   "id": "73dc2e86a6d07d12",
   "outputs": [],
   "execution_count": null
  },
  {
   "metadata": {},
   "cell_type": "markdown",
   "source": "The values do not look like the hexadecimal H3 Cell Id we have seen.",
   "id": "19defd7c137d45ec"
  },
  {
   "metadata": {},
   "cell_type": "code",
   "source": [
    "print(f\" Type(df_select)  : {type(df_select)}\")\n",
    "print(f\" Shape(df_select) : {df_select.shape}\")\n",
    "print(df_select.dtypes)"
   ],
   "id": "f5e9c7ef3435e17a",
   "outputs": [],
   "execution_count": null
  },
  {
   "metadata": {},
   "cell_type": "markdown",
   "source": [
    "The data type of h_cell_id is int64.\n",
    "<br>Let's encode these to hexadecimal"
   ],
   "id": "e6032b7956a93e4c"
  },
  {
   "metadata": {},
   "cell_type": "code",
   "source": [
    "df_select['h3_cell_id_hex'] = df_select['h3_cell_id'].apply(lambda x: hex(x))\n",
    "df_select"
   ],
   "id": "debdc9443914f086",
   "outputs": [],
   "execution_count": null
  },
  {
   "metadata": {},
   "cell_type": "markdown",
   "source": "Let's compare side by side with h3_neighors list",
   "id": "91703358edf3ec12"
  },
  {
   "metadata": {},
   "cell_type": "code",
   "source": [
    "df_select['h3_neighbors'] = pd.DataFrame(h3_neighbors)\n",
    "df_select"
   ],
   "id": "cf67eec351c6f5e4",
   "outputs": [],
   "execution_count": null
  },
  {
   "metadata": {},
   "cell_type": "markdown",
   "source": [
    "The values in h3_cell_id column we obtained as a result of SQL query.\n",
    "<br> What is stored in h3_cell_id is uint64 of hexadecimal H3_Cell_Id"
   ],
   "id": "bede4b621fb65be1"
  },
  {
   "metadata": {},
   "cell_type": "code",
   "source": [
    "%%time\n",
    "query = f\"\"\"\n",
    "WITH query_h3 AS (\n",
    "  SELECT h3_latlng_to_cell({NNQ_LAT}, {NNQ_LON}, {RESOLUTION}) AS h3\n",
    "),\n",
    "nearby_h3 AS (\n",
    "  SELECT CAST(unnest(h3_grid_disk(h3, 1)) AS BIGINT) AS h3 FROM query_h3\n",
    ")\n",
    "SELECT restaurants.*, nearby_h3.*\n",
    "FROM restaurants\n",
    "JOIN nearby_h3 ON restaurants.h3_cell_id = nearby_h3.h3;\n",
    "\"\"\"\n",
    "df_select = con.sql(query).df()\n",
    "df_select[:10]"
   ],
   "id": "7686bdc3b8a78a5a",
   "outputs": [],
   "execution_count": null
  },
  {
   "metadata": {},
   "cell_type": "markdown",
   "source": "Let's analyze",
   "id": "89de01f0db71fc5"
  },
  {
   "metadata": {},
   "cell_type": "code",
   "source": [
    "%%time\n",
    "query = f\"\"\"\n",
    "EXPLAIN ANALYZE\n",
    "WITH query_h3 AS (\n",
    "  SELECT h3_latlng_to_cell({NNQ_LAT}, {NNQ_LON}, {RESOLUTION}) AS h3\n",
    "),\n",
    "nearby_h3 AS (\n",
    "  SELECT CAST(unnest(h3_grid_disk(h3, 1)) AS BIGINT) AS h3 FROM query_h3\n",
    ")\n",
    "SELECT restaurants.*, nearby_h3.*\n",
    "FROM restaurants\n",
    "JOIN nearby_h3 ON restaurants.h3_cell_id = nearby_h3.h3;\n",
    "\"\"\"\n",
    "query_plan = con.sql(query).fetchall()"
   ],
   "id": "415e67557adcac47",
   "outputs": [],
   "execution_count": null
  },
  {
   "metadata": {},
   "cell_type": "code",
   "source": "analyzed_plan_display_write(query_plan[0][1],'./qa_h3.txt')\n",
   "id": "449174682988ca41",
   "outputs": [],
   "execution_count": null
  },
  {
   "metadata": {},
   "cell_type": "markdown",
   "source": [
    "The query planner takes advantage of Index Scan.\n",
    "<br>Output from query plan is\n",
    "<br>\n",
    "![](./md-6.png)"
   ],
   "id": "6f48518b88a103e0"
  },
  {
   "metadata": {},
   "cell_type": "markdown",
   "source": [
    "## Summary\n",
    "This notebook studied the spatial indexing solutions for Nearest Neighbor Query (NNQ).\n",
    " - As expected, spatial index prevents sequential scan as long as query predicate contains the spatial operations that will consider the spatial index in the query plan.\n",
    " - H3 Cells does not satisfy the containment property for instance all child nodes in R-Tree are contained by Minimum Bounding Box (MBB) of their parent.\n",
    "<br>\n",
    "<p>\n",
    "The reason we try to incorporate spatial indexes is to reduce search time comlexity from O(N) to O(log N) where N is the number of items (e.g., restaurants). It helps us to scale systems, reduce p90/p95 latency, and increase throughput as long as the expected workload is favorable.\n",
    "</p>"
   ],
   "id": "6489d1ee08ae362c"
  }
 ],
 "metadata": {
  "kernelspec": {
   "display_name": "Python 3",
   "language": "python",
   "name": "python3"
  },
  "language_info": {
   "codemirror_mode": {
    "name": "ipython",
    "version": 2
   },
   "file_extension": ".py",
   "mimetype": "text/x-python",
   "name": "python",
   "nbconvert_exporter": "python",
   "pygments_lexer": "ipython2",
   "version": "2.7.6"
  }
 },
 "nbformat": 4,
 "nbformat_minor": 5
}
