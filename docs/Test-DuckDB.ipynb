{
 "cells": [
  {
   "metadata": {},
   "cell_type": "markdown",
   "source": "## Spatial Hierarchical Indexing for Nearest Neighbor Query (NNQ)",
   "id": "b6424fbe41632ace"
  },
  {
   "metadata": {},
   "cell_type": "markdown",
   "source": [
    "Objective of this notebook is to explore Uber H3 Index with DuckDB.\n",
    "<br>"
   ],
   "id": "ce091eb0b2a19a77"
  },
  {
   "metadata": {},
   "cell_type": "code",
   "source": [
    "\n",
    "%pip install duckdb\n",
    "%pip install geopandas\n",
    "%pip install tabulate\n",
    "%pip install matplotlib\n",
    "%pip install contextily"
   ],
   "id": "5b12921f3113d245",
   "outputs": [],
   "execution_count": null
  },
  {
   "metadata": {
    "collapsed": true
   },
   "cell_type": "code",
   "source": [
    "import duckdb\n",
    "import h3\n",
    "import folium\n",
    "from shapely.geometry import MultiPolygon, Polygon\n",
    "from IPython.display import display\n",
    "import pandas as pd\n",
    "import json\n",
    "from prompt_toolkit.formatted_text import to_plain_text"
   ],
   "id": "initial_id",
   "outputs": [],
   "execution_count": null
  },
  {
   "metadata": {},
   "cell_type": "markdown",
   "source": "Read restaurant locations",
   "id": "f1a872905fd4cbbf"
  },
  {
   "metadata": {},
   "cell_type": "code",
   "source": [
    "filename=\"./restaurants.json\"\n",
    "lines=[]\n",
    "N=5000\n",
    "with open(filename, 'r') as infile:\n",
    "    lines = [line for line in infile][:N]\n",
    "#print(lines)\n",
    "\n",
    "for line in lines:\n",
    "    json_line = json.loads(line)\n",
    "    #print(f\"name: {json_line['name']} , location: {json_line['location']['coordinates']}\")\n",
    "\n",
    "# Define DataFrame\n",
    "df = pd.DataFrame(columns=[\"Name\", \"Lon\", \"Lat\"])\n",
    "\n",
    "# Parse each line and add to DataFrame\n",
    "for line in lines:\n",
    "    json_line = json.loads(line)\n",
    "    df.loc[len(df)]={\"Name\":json_line['name'], \"Lon\":json_line['location']['coordinates'][0], \"Lat\":json_line['location']['coordinates'][1] }\n",
    "\n",
    "from tabulate import tabulate\n",
    "#print(tabulate(df, headers = 'keys', tablefmt = 'psql'))\n",
    "df.head(10)\n",
    "\n"
   ],
   "id": "185e197b882cb3ab",
   "outputs": [],
   "execution_count": null
  },
  {
   "metadata": {},
   "cell_type": "markdown",
   "source": "",
   "id": "edbe3305e8b773a1"
  },
  {
   "metadata": {},
   "cell_type": "markdown",
   "source": "Store restaurant data set into CSV file so that we can upload to DuckDB",
   "id": "c76e630bf514ae8c"
  },
  {
   "metadata": {},
   "cell_type": "code",
   "source": "df.to_csv(\"./restaurants.csv\",index=False)",
   "id": "1b01017ebc1322aa",
   "outputs": [],
   "execution_count": null
  },
  {
   "metadata": {},
   "cell_type": "code",
   "source": [
    "from os import listdir\n",
    "from os.path import isfile, join\n",
    "mypath=\"./\"\n",
    "onlyfiles = [f for f in listdir(mypath) if isfile(join(mypath, f)) and f.endswith(\".csv\")]\n",
    "onlyfiles"
   ],
   "id": "33b7b9cee9318d",
   "outputs": [],
   "execution_count": null
  },
  {
   "metadata": {},
   "cell_type": "markdown",
   "source": "",
   "id": "afbbfe1ceca628db"
  },
  {
   "metadata": {},
   "cell_type": "code",
   "source": [
    "def listFilesInWithExtension(target_path, target_ext=\".csv\"):\n",
    "    if target_path:\n",
    "        return [f for f in listdir(target_path) if isfile(join(target_path, f)) and f.endswith(target_ext)]\n",
    "    else:\n",
    "        return None"
   ],
   "id": "3aee9dc9b376adb3",
   "outputs": [],
   "execution_count": null
  },
  {
   "metadata": {},
   "cell_type": "code",
   "source": "duckdb.sql(\"SELECT 'whistling_duck' AS waterfowl, 'whistle' AS call\")",
   "id": "53e2b9ac2075306f",
   "outputs": [],
   "execution_count": null
  },
  {
   "metadata": {},
   "cell_type": "markdown",
   "source": "Let's load restaurants.csv file as a table to food-delivery.db",
   "id": "503b2db9e340733f"
  },
  {
   "metadata": {},
   "cell_type": "code",
   "source": [
    "with duckdb.connect(database=\"food-delivery.db\") as conn:\n",
    "    conn.read_csv(\"./restaurants.csv\").to_table(\"restaurants\")\n",
    "    conn.close()\n"
   ],
   "id": "350e6991f7bfd0e9",
   "outputs": [],
   "execution_count": null
  },
  {
   "metadata": {},
   "cell_type": "markdown",
   "source": "Validate that DuckDB created .db file",
   "id": "c9f7f877218776ac"
  },
  {
   "metadata": {},
   "cell_type": "code",
   "source": "listFilesInWithExtension(\"./\",target_ext=\".db\")",
   "id": "27d85ce44235b7b1",
   "outputs": [],
   "execution_count": null
  },
  {
   "metadata": {},
   "cell_type": "markdown",
   "source": "Validate restaurants table",
   "id": "73969c9a5b18544e"
  },
  {
   "metadata": {},
   "cell_type": "code",
   "source": [
    "answer=None\n",
    "\n",
    "with duckdb.connect(database=\"food-delivery.db\") as conn:\n",
    "    answer=conn.sql(\"SELECT * FROM restaurants\")\n",
    "    answer\n",
    "    conn.close()\n"
   ],
   "id": "1c5bc9dec11b90ec",
   "outputs": [],
   "execution_count": null
  },
  {
   "metadata": {},
   "cell_type": "code",
   "source": [
    "con = duckdb.connect('food-delivery.db')\n",
    "\n",
    "results = con.sql(\"SHOW ALL TABLES\").fetchall()\n",
    "print(type(results))\n",
    "for result in results:\n",
    "    print(result)\n",
    "\n",
    "results = con.sql(\"SELECT Name, Lon, Lat FROM restaurants\").fetchall()\n",
    "print(type(results))\n",
    "for result in results:\n",
    "    print(result)"
   ],
   "id": "e5139c88e0170534",
   "outputs": [],
   "execution_count": null
  },
  {
   "metadata": {},
   "cell_type": "markdown",
   "source": [
    "Let's add new geom column to restaurants table.\n",
    "<br> ST_Transform()\n",
    "<br> ST_Point()\n",
    "\n"
   ],
   "id": "a07a240de4f54538"
  },
  {
   "metadata": {},
   "cell_type": "code",
   "source": [
    "%%time\n",
    "query = \"\"\"\n",
    "INSTALL spatial; LOAD spatial;\n",
    "ALTER TABLE restaurants ADD COLUMN geom GEOMETRY;\n",
    "UPDATE restaurants\n",
    "    SET geom = ST_Transform(ST_Point(lat, lon), 'EPSG:4326', 'EPSG:2154');\n",
    "\"\"\"\n",
    "tbl_restaurants.sql(query)"
   ],
   "id": "c12095defc052a5d",
   "outputs": [],
   "execution_count": null
  },
  {
   "metadata": {},
   "cell_type": "markdown",
   "source": [
    "Installs and Loads spatial\n",
    "<br>Adds new geom column to restaurants table."
   ],
   "id": "18cd378ae5e4a709"
  },
  {
   "metadata": {},
   "cell_type": "code",
   "source": [
    "%%time\n",
    "con = duckdb.connect('food-delivery.db')\n",
    "query = \"\"\"\n",
    "INSTALL spatial; LOAD spatial;\n",
    "ALTER TABLE restaurants ADD COLUMN geom GEOMETRY;\n",
    "\"\"\"\n",
    "con.sql(query)"
   ],
   "id": "6d5f057d6e2ccc47",
   "outputs": [],
   "execution_count": null
  },
  {
   "metadata": {},
   "cell_type": "markdown",
   "source": "Update geom column values from lat and lon columns by using ST_Point.\n",
   "id": "f56a2fdf73e3faf0"
  },
  {
   "metadata": {},
   "cell_type": "code",
   "source": [
    "%%time\n",
    "con = duckdb.connect('food-delivery.db')\n",
    "query = \"\"\"\n",
    "UPDATE restaurants\n",
    "    SET geom = ST_Point(lat, lon);\n",
    "\"\"\"\n",
    "con.sql(query)"
   ],
   "id": "68b09a2ee31543f7",
   "outputs": [],
   "execution_count": null
  },
  {
   "metadata": {},
   "cell_type": "markdown",
   "source": "Let's retrieve the name and location of restaurants",
   "id": "7dab3eae7f8f203d"
  },
  {
   "metadata": {},
   "cell_type": "code",
   "source": [
    "%%time\n",
    "con = duckdb.connect('food-delivery.db')\n",
    "query = f\"\"\"\n",
    "SELECT name, Lon, Lat, geom FROM restaurants;\n",
    "\"\"\"\n",
    "df_select = con.sql(query).df()"
   ],
   "id": "6a0071dd493c3cac",
   "outputs": [],
   "execution_count": null
  },
  {
   "metadata": {},
   "cell_type": "markdown",
   "source": "Let's display 10 rows",
   "id": "4fbf7b4aae3447ac"
  },
  {
   "metadata": {},
   "cell_type": "code",
   "source": "df_select[:10]",
   "id": "68d53529b4813bf8",
   "outputs": [],
   "execution_count": null
  },
  {
   "metadata": {},
   "cell_type": "markdown",
   "source": [
    "The following functions are helpers for visualization\n",
    "<br>vis_add_circle() adds a circle [center:(lat,lon), radius:r] to folium.Map\n",
    "<br>visualize_poi() adds point of interests to folium.Map\n",
    "<br>"
   ],
   "id": "8ccebaae65b4fc26"
  },
  {
   "metadata": {},
   "cell_type": "code",
   "source": [
    "def vis_add_circle(m, lat, lon, r,color=\"cornflowerblue\"):\n",
    "    circle = folium.CircleMarker(\n",
    "                location=[lat, lon],\n",
    "                radius=r,\n",
    "                color=color,\n",
    "                stroke=False,\n",
    "                fill=True,\n",
    "                fill_opacity=0.6,\n",
    "                opacity=1,\n",
    "                popup=\"{} pixels\".format(r),\n",
    "                tooltip=\"I am NNQ\",\n",
    "    )\n",
    "    m.add_child(circle)\n",
    "\n",
    "\n",
    "def visualize_poi(df_selected, nnq_lon=None, nnq_lat=None, radius=10, color=\"red\"):\n",
    "    \"\"\"\n",
    "        Visualize a polygon by using folium\n",
    "    :param polyline:\n",
    "    :param color:\n",
    "    :return:\n",
    "    \"\"\"\n",
    "\n",
    "    m = folium.Map(location=[sum(df_selected.Lat)/len(df_selected.Lat), sum(df_selected.Lon)/len(df_selected.Lon)], zoom_start=10, tiles='Cartodb Positron')\n",
    "    if nnq_lat and nnq_lon:\n",
    "        vis_add_circle(m, nnq_lat, nnq_lon, radius, color=\"red\")\n",
    "    #my_PolyLine=folium.PolyLine(locations=polyline,weight=8,color=color)\n",
    "    #m.add_child(my_PolyLine)\n",
    "    for index, row in df.iterrows():\n",
    "        r=2\n",
    "        circle = folium.CircleMarker(\n",
    "                location=[row['Lat'], row['Lon']],\n",
    "                radius=r,\n",
    "                color=\"cornflowerblue\",\n",
    "                stroke=False,\n",
    "                fill=True,\n",
    "                fill_opacity=0.6,\n",
    "                opacity=1,\n",
    "                popup=\"{} pixels\".format(r),\n",
    "                tooltip=row['Name'],\n",
    "            )\n",
    "        m.add_child(circle)\n",
    "\n",
    "    return m\n"
   ],
   "id": "bd1ccc1d0cddab19",
   "outputs": [],
   "execution_count": null
  },
  {
   "metadata": {},
   "cell_type": "markdown",
   "source": "Let's see the locations on a map",
   "id": "b4a6118757b62fc4"
  },
  {
   "metadata": {},
   "cell_type": "code",
   "source": [
    "m = visualize_poi(df_select,None,None)\n",
    "display(m)"
   ],
   "id": "3406f465a21967f2",
   "outputs": [],
   "execution_count": null
  },
  {
   "metadata": {},
   "cell_type": "markdown",
   "source": [
    "If it does not display the map, here it is.\n",
    "![](./md-1.png)"
   ],
   "id": "18d950b37eafcddd"
  },
  {
   "metadata": {},
   "cell_type": "markdown",
   "source": [
    "## NNQ Query\n",
    "<br> Let's define a NNQ with center location and distance (radius)"
   ],
   "id": "dc18f99e95f788f9"
  },
  {
   "metadata": {},
   "cell_type": "code",
   "source": [
    "NNQ_LON=-73.8601152\n",
    "NNQ_LAT= 40.7311739\n",
    "NNQ_RADIUS = 110\n"
   ],
   "id": "581f7cf35508c849",
   "outputs": [],
   "execution_count": null
  },
  {
   "metadata": {},
   "cell_type": "markdown",
   "source": "LLet's see the NNQ on the map with restaurants",
   "id": "657d149870d3065f"
  },
  {
   "metadata": {},
   "cell_type": "code",
   "source": [
    "m = visualize_poi(df_select, NNQ_LON, NNQ_LAT, NNQ_RADIUS*0.005)\n",
    "display(m)"
   ],
   "id": "45dbef8532963f34",
   "outputs": [],
   "execution_count": null
  },
  {
   "metadata": {},
   "cell_type": "markdown",
   "source": "The circle in red denotes the range of query.",
   "id": "4fe65448385a2dc1"
  },
  {
   "metadata": {},
   "cell_type": "markdown",
   "source": "Let's find restaurant locations without any index.",
   "id": "9da79a541ce17b03"
  },
  {
   "metadata": {},
   "cell_type": "code",
   "source": [
    "%%time\n",
    "con = duckdb.connect('food-delivery.db')\n",
    "query = f\"\"\"\n",
    "SELECT name\n",
    "    , Lon\n",
    "    , Lat\n",
    "    , ST_Distance(geom, ST_Point({NNQ_LON}, {NNQ_LAT})) AS dist2NNQ\n",
    "FROM restaurants\n",
    "\"\"\"\n",
    "df_select = con.sql(query).df()"
   ],
   "id": "8d4a9a119d6a95a5",
   "outputs": [],
   "execution_count": null
  },
  {
   "metadata": {},
   "cell_type": "code",
   "source": [
    "df_select.sort_values(by='dist2NNQ', ascending=True, inplace=True)\n",
    "df_select"
   ],
   "id": "8174971faa0e932f",
   "outputs": [],
   "execution_count": null
  },
  {
   "metadata": {},
   "cell_type": "code",
   "source": [
    "%%time\n",
    "con = duckdb.connect('food-delivery.db')\n",
    "query = f\"\"\"\n",
    "SELECT name, Lon, Lat FROM restaurants\n",
    "WHERE ST_DWithin(geom, ST_Point({NNQ_LON}, {NNQ_LAT}), {NNQ_RADIUS}*1.4734);\n",
    "\"\"\"\n",
    "df_select = con.sql(query).df()"
   ],
   "id": "941f1b4c7a349ca7",
   "outputs": [],
   "execution_count": null
  },
  {
   "metadata": {},
   "cell_type": "code",
   "source": "df_select",
   "id": "d29fc704be4b5a1d",
   "outputs": [],
   "execution_count": null
  },
  {
   "metadata": {},
   "cell_type": "code",
   "source": [
    "m = visualize_poi(df_select, NNQ_LON, NNQ_LAT, NNQ_RADIUS)\n",
    "display(m)"
   ],
   "id": "2705b52cb076be13",
   "outputs": [],
   "execution_count": null
  },
  {
   "metadata": {},
   "cell_type": "markdown",
   "source": [
    "## No Index\n",
    "Let's analyze the query plan to verify table scan"
   ],
   "id": "eefae5e943f13c33"
  },
  {
   "metadata": {},
   "cell_type": "code",
   "source": [
    "%%time\n",
    "con = duckdb.connect('food-delivery.db')\n",
    "query = f\"\"\"\n",
    "EXPLAIN ANALYZE\n",
    "SELECT name, Lon, Lat FROM restaurants\n",
    "WHERE ST_DWithin(geom, ST_Point({NNQ_LON}, {NNQ_LAT}), {NNQ_RADIUS}*1.4734);\n",
    "\"\"\"\n",
    "query_plan = con.sql(query).fetchall()"
   ],
   "id": "93eefdd08ac862be",
   "outputs": [],
   "execution_count": null
  },
  {
   "metadata": {},
   "cell_type": "code",
   "source": [
    "analyzed_plan = query_plan[0][1]\n",
    "analyzed_plan\n",
    "\n",
    "for line in analyzed_plan.split('\\n'):\n",
    "    print(line)\n",
    "\n",
    "with open('./qa_st_dwithin.txt', 'w', encoding=\"utf-8\") as f:\n",
    "    f.writelines(analyzed_plan)\n",
    "    f.close()\n"
   ],
   "id": "e4dd11e4a93e7b85",
   "outputs": [],
   "execution_count": null
  },
  {
   "metadata": {},
   "cell_type": "markdown",
   "source": [
    "As the query plan shows, it scans the table sequentially (Type: Sequential Scan). The time complexity is O(N) where N is the number of restaurants in the table.\n",
    "<br> It is suitable for sharding and applying scatter-gather query. In that case the time complexity will be O(N/S) (following Amhdal's Law). Gatherer/broker needs to apply multi-way merge sort before returning the final query result."
   ],
   "id": "393bc769c449b624"
  },
  {
   "metadata": {},
   "cell_type": "markdown",
   "source": [
    "## R-Tree Index\n",
    "Let's use R-Tree index on geom column."
   ],
   "id": "b3e2c5a0fb23955f"
  },
  {
   "metadata": {},
   "cell_type": "code",
   "source": [
    "%%time\n",
    "query = \"CREATE INDEX spatial_index ON restaurants USING RTREE (geom);\"\n",
    "con.sql(query)\n"
   ],
   "id": "37994488cd5d14c9",
   "outputs": [],
   "execution_count": null
  },
  {
   "metadata": {},
   "cell_type": "code",
   "source": [
    "# \\TODO Fix mapping to spherical coordinate system\n",
    "MNNQ_RADIUS = (NNQ_RADIUS*1.4734)*0.7075"
   ],
   "id": "2b0128d785f4c22f",
   "outputs": [],
   "execution_count": null
  },
  {
   "metadata": {},
   "cell_type": "markdown",
   "source": [
    "Let's define a bounding box around the (center, radius) so that it can be used in the query to utilize R-Tree index.\n",
    "<br> GEOMETRY ST_MakeEnvelope (min_x DOUBLE, min_y DOUBLE, max_x DOUBLE, max_y DOUBLE)\n",
    "<br> \\TODO ST_MaximumInscribedCircle"
   ],
   "id": "461b477d25bfc77c"
  },
  {
   "metadata": {},
   "cell_type": "code",
   "source": [
    "%%time\n",
    "query = f\"SELECT ST_MakeEnvelope({NNQ_LON}-{MNNQ_RADIUS}, {NNQ_LAT}-{MNNQ_RADIUS},{NNQ_LON}+{MNNQ_RADIUS}, {NNQ_LAT}+{MNNQ_RADIUS}) AS envelope;\"\n",
    "dfr = con.sql(query).df()\n",
    "dfr"
   ],
   "id": "bbba4fb531bcc07d",
   "outputs": [],
   "execution_count": null
  },
  {
   "metadata": {},
   "cell_type": "markdown",
   "source": [
    "Query engine will consider R-Tree index if the predicates (conditions in WHERE clause) have one of the following spatial operations<br>\n",
    " - ST_Equals\n",
    " - ST_Intersects\n",
    " - ST_Touches\n",
    " - ST_Crosses\n",
    " - ST_Within\n",
    " - ST_Contains\n",
    " - ST_Overlaps\n",
    " - ST_Covers\n",
    " - ST_CoveredBy\n",
    " - ST_ContainsProperly\n"
   ],
   "id": "fbed4a291439386a"
  },
  {
   "metadata": {},
   "cell_type": "markdown",
   "source": [
    "This implementation is based on ST_Within() function\n",
    "<br>\n",
    "<br>BOOLEAN ST_Within (geom1 POINT_2D, geom2 POLYGON_2D)\n",
    "<br>BOOLEAN ST_Within (geom1 GEOMETRY, geom2 GEOMETRY)\n",
    "<br>\n",
    "<br> reference: https://duckdb.org/docs/stable/core_extensions/spatial/functions#st_within"
   ],
   "id": "b200644a0ba1afc2"
  },
  {
   "metadata": {},
   "cell_type": "code",
   "source": [
    "%%time\n",
    "con = duckdb.connect('food-delivery.db')\n",
    "query = f\"\"\"\n",
    "SET VARIABLE envelope = ST_MakeEnvelope({NNQ_LON}-{MNNQ_RADIUS}, {NNQ_LAT}-{MNNQ_RADIUS},{NNQ_LON}+{MNNQ_RADIUS}, {NNQ_LAT}+{MNNQ_RADIUS});\n",
    "SELECT name, Lon, Lat\n",
    "FROM restaurants\n",
    "WHERE ST_Within(geom,getvariable('envelope'));\n",
    "\"\"\"\n",
    "df_select = con.sql(query).df()"
   ],
   "id": "55cdda21622ab6e4",
   "outputs": [],
   "execution_count": null
  },
  {
   "metadata": {},
   "cell_type": "code",
   "source": "df_select",
   "id": "7b7cf0af7ee3cbbd",
   "outputs": [],
   "execution_count": null
  },
  {
   "metadata": {},
   "cell_type": "code",
   "source": [
    "%%time\n",
    "con = duckdb.connect('food-delivery.db')\n",
    "query = f\"\"\"\n",
    "SET VARIABLE envelope = ST_MakeEnvelope({NNQ_LON}-{MNNQ_RADIUS}, {NNQ_LAT}-{MNNQ_RADIUS},{NNQ_LON}+{MNNQ_RADIUS}, {NNQ_LAT}+{MNNQ_RADIUS});\n",
    "\n",
    "EXPLAIN ANALYZE\n",
    "SELECT name, Lon, Lat\n",
    "FROM restaurants\n",
    "--WHERE ST_Within(geom, getvariable('envelope'));\n",
    "WHERE ST_Contains(getvariable('envelope'),geom);\n",
    "\"\"\"\n",
    "query_plan = con.sql(query).fetchall()"
   ],
   "id": "7617c0eb5297b63c",
   "outputs": [],
   "execution_count": null
  },
  {
   "metadata": {},
   "cell_type": "code",
   "source": [
    "analyzed_plan = query_plan[0][1]\n",
    "analyzed_plan\n",
    "\n",
    "for line in analyzed_plan.split('\\n'):\n",
    "    print(line)\n",
    "\n",
    "with open('./qa_st_dwithin_rtree.txt', 'w', encoding=\"utf-8\") as f:\n",
    "    f.writelines(analyzed_plan)\n",
    "    f.close()"
   ],
   "id": "67ccfffe0fcc6f67",
   "outputs": [],
   "execution_count": null
  },
  {
   "metadata": {},
   "cell_type": "markdown",
   "source": "Now, it uses Index: spatial_index when scanning the table.",
   "id": "d9948aa90d36561a"
  },
  {
   "metadata": {},
   "cell_type": "code",
   "source": [
    "%%time\n",
    "con = duckdb.connect('food-delivery.db')\n",
    "query = f\"\"\"\n",
    "SELECT name, Lon, Lat FROM restaurants\n",
    "WHERE ST_DWithin(geom, ST_Point({NNQ_LON}, {NNQ_LAT}), {NNQ_RADIUS}*1.4734);\n",
    "\"\"\"\n",
    "df_select = con.sql(query).df()"
   ],
   "id": "73267ce611d96405",
   "outputs": [],
   "execution_count": null
  },
  {
   "metadata": {},
   "cell_type": "code",
   "source": "df_select",
   "id": "1cee7a562484afe",
   "outputs": [],
   "execution_count": null
  },
  {
   "metadata": {},
   "cell_type": "code",
   "source": [
    "%%time\n",
    "con = duckdb.connect('food-delivery.db')\n",
    "query = f\"\"\"\n",
    "EXPLAIN ANALYZE\n",
    "SELECT name, Lon, Lat FROM restaurants\n",
    "WHERE ST_DWithin(geom, ST_Point({NNQ_LON}, {NNQ_LAT}), {NNQ_RADIUS}*1.4734);\n",
    "\"\"\"\n",
    "query_plan = con.sql(query).fetchall()"
   ],
   "id": "80458a7d1addfa9b",
   "outputs": [],
   "execution_count": null
  },
  {
   "metadata": {},
   "cell_type": "code",
   "source": [
    "analyzed_plan = query_plan[0][1]\n",
    "analyzed_plan\n",
    "\n",
    "for line in analyzed_plan.split('\\n'):\n",
    "    print(line)\n",
    "\n",
    "with open('./qa_st_dwithin_rtree.txt', 'w', encoding=\"utf-8\") as f:\n",
    "    f.writelines(analyzed_plan)\n",
    "    f.close()"
   ],
   "id": "2f79af7ee033095f",
   "outputs": [],
   "execution_count": null
  },
  {
   "metadata": {},
   "cell_type": "markdown",
   "source": "## H3 Index\n",
   "id": "261b2f4685f42077"
  },
  {
   "metadata": {},
   "cell_type": "markdown",
   "source": "Let's drop the R-Tree index on geom column.",
   "id": "b4ad46c46ed7959a"
  },
  {
   "metadata": {},
   "cell_type": "code",
   "source": [
    "con = duckdb.connect('food-delivery.db')\n",
    "query = \"\"\"\n",
    "DROP INDEX IF EXISTS spatial_index;\"\"\"\n",
    "con.sql(query)"
   ],
   "id": "fa48478291b27797",
   "outputs": [],
   "execution_count": null
  },
  {
   "metadata": {},
   "cell_type": "markdown",
   "source": "Let's install h3",
   "id": "99747e0366572ead"
  },
  {
   "metadata": {},
   "cell_type": "code",
   "source": [
    "query = \"\"\"\n",
    "INSTALL h3 FROM community; LOAD h3;\"\"\"\n",
    "con.sql(query)"
   ],
   "id": "501fe81c54add2ea",
   "outputs": [],
   "execution_count": null
  },
  {
   "metadata": {},
   "cell_type": "markdown",
   "source": [
    "Let's add a column to restaurants table to store H3 Cell Identifier..\n",
    "<br>\n",
    "<br>h3_latlng_to_cell(Lat, Lon, RESOLUTION): Returns the H3 Cell Identifier of location(Lat,Lon) at given RESOLUTION level"
   ],
   "id": "3aaee6105444f526"
  },
  {
   "metadata": {},
   "cell_type": "code",
   "source": [
    "%%time\n",
    "RESOLUTION=7\n",
    "query = f\"\"\"\n",
    "ALTER TABLE restaurants ADD COLUMN IF NOT EXISTS h3_cell_id BIGINT;\n",
    "UPDATE restaurants\n",
    "  SET h3_cell_id = h3_latlng_to_cell(Lat, Lon, {RESOLUTION});\n",
    "CREATE INDEX h3_index ON restaurants (h3_cell_id)\"\"\"\n",
    "con.sql(query)"
   ],
   "id": "af2a40963ec98952",
   "outputs": [],
   "execution_count": null
  },
  {
   "metadata": {},
   "cell_type": "markdown",
   "source": "Let's see how H3 Cells are organized",
   "id": "cf7fd88897b26406"
  },
  {
   "metadata": {},
   "cell_type": "code",
   "source": [
    "RESOLUTION = 7\n",
    "NNQ_RADIUS = 10000\n",
    "\n",
    "h3_cell = h3.latlng_to_cell(NNQ_LAT, NNQ_LON, RESOLUTION)\n",
    "print(f\" LAT:{NNQ_LAT} LON:{NNQ_LON} resolution:{RESOLUTION} -> {h3_cell}\")\n",
    "\n",
    "h3_neighbors = h3.grid_disk(h3_cell, 1)  # Center + 1st ring\n",
    "print(type(h3_neighbors))\n",
    "h3_neighbors"
   ],
   "id": "6a9b8693104b0a58",
   "outputs": [],
   "execution_count": null
  },
  {
   "metadata": {},
   "cell_type": "markdown",
   "source": "",
   "id": "6ee3e9b044a0140e"
  },
  {
   "metadata": {},
   "cell_type": "code",
   "source": [
    "%%time\n",
    "query = f\"\"\"\n",
    "WITH query_h3 AS (\n",
    "  SELECT h3_latlng_to_cell({NNQ_LAT}, {NNQ_LON}, {RESOLUTION}) AS h3\n",
    "),\n",
    "nearby_h3 AS (\n",
    "  SELECT CAST(unnest(h3_grid_disk(h3, 1)) AS BIGINT) AS h3_cell_id\n",
    "  FROM query_h3\n",
    ")\n",
    "SELECT * FROM nearby_h3;\n",
    "\"\"\"\n",
    "df_select = con.sql(query).df()"
   ],
   "id": "366fed47fd1f0688",
   "outputs": [],
   "execution_count": null
  },
  {
   "metadata": {},
   "cell_type": "code",
   "source": "df_select",
   "id": "73dc2e86a6d07d12",
   "outputs": [],
   "execution_count": null
  },
  {
   "metadata": {},
   "cell_type": "code",
   "source": [
    "print(f\" Type(df_select)  : {type(df_select)}\")\n",
    "print(f\" Shape(df_select) : {df_select.shape}\")\n",
    "print(df_select.dtypes)"
   ],
   "id": "f5e9c7ef3435e17a",
   "outputs": [],
   "execution_count": null
  },
  {
   "metadata": {},
   "cell_type": "code",
   "source": [
    "df_select['h3_cell_id_hex'] = df_select['h3_cell_id'].apply(lambda x: hex(x))\n",
    "df_select"
   ],
   "id": "debdc9443914f086",
   "outputs": [],
   "execution_count": null
  },
  {
   "metadata": {},
   "cell_type": "code",
   "source": [
    "df_select['h3_neighbors'] = pd.DataFrame(h3_neighbors)\n",
    "df_select"
   ],
   "id": "cf67eec351c6f5e4",
   "outputs": [],
   "execution_count": null
  },
  {
   "metadata": {},
   "cell_type": "markdown",
   "source": [
    "The values in h3_cell_id column we obtained as a result of SQL query.\n",
    "<br> What is stored in h3_cell_id is uint64 of hexadecimal H3_Cell_Id"
   ],
   "id": "bede4b621fb65be1"
  },
  {
   "metadata": {},
   "cell_type": "markdown",
   "source": "",
   "id": "f3377b53f1b85fcc"
  },
  {
   "metadata": {},
   "cell_type": "markdown",
   "source": [
    "## Summary\n",
    "This notebook studied the spatial indexing solutions for Nearest Neighbor Query (NNQ).\n"
   ],
   "id": "6489d1ee08ae362c"
  },
  {
   "metadata": {},
   "cell_type": "markdown",
   "source": "## Appendix",
   "id": "518b3a8270de332f"
  },
  {
   "metadata": {},
   "cell_type": "code",
   "source": [
    "df_comp = pd.concat([df_select, pd.DataFrame(h3_neighbors)],axis=1)\n",
    "df_comp"
   ],
   "id": "72e713ead45ee82",
   "outputs": [],
   "execution_count": null
  },
  {
   "metadata": {},
   "cell_type": "code",
   "source": [
    "df_select_hex = df_select['h3'].apply(lambda x: hex(x))\n",
    "df_select_hex"
   ],
   "id": "2843c932d6d65eb2",
   "outputs": [],
   "execution_count": null
  },
  {
   "metadata": {},
   "cell_type": "code",
   "source": [
    "df_select_hex = pd.DataFrame(data=df_select_hex,columns=['h3_hex'])\n",
    "df_select_hex"
   ],
   "id": "f044e028727a6a2b",
   "outputs": [],
   "execution_count": null
  },
  {
   "metadata": {},
   "cell_type": "code",
   "source": [
    "df_select.iloc[0,0]\n",
    "print(f\"{df_select.iloc[0,0]}=>{hex(df_select.iloc[0,0])}\")"
   ],
   "id": "9edc28aa83d883f3",
   "outputs": [],
   "execution_count": null
  },
  {
   "metadata": {},
   "cell_type": "code",
   "source": "hex(608725924342398975)",
   "id": "77738d79fdc328dc",
   "outputs": [],
   "execution_count": null
  },
  {
   "metadata": {},
   "cell_type": "code",
   "source": "",
   "id": "cbfaf87f1479b5d5",
   "outputs": [],
   "execution_count": null
  },
  {
   "metadata": {},
   "cell_type": "code",
   "source": "",
   "id": "cb9ce81a5c7c1a52",
   "outputs": [],
   "execution_count": null
  },
  {
   "metadata": {},
   "cell_type": "code",
   "source": [
    "from pyproj import Transformer\n",
    "\n",
    "transformer = Transformer.from_crs(\"EPSG:4326\", \"EPSG:2154\", always_xy=True)\n",
    "x_2154, y_2154 = transformer.transform(NNQ_LON, NNQ_LAT)"
   ],
   "id": "d3153cb32644335b",
   "outputs": [],
   "execution_count": null
  },
  {
   "metadata": {},
   "cell_type": "code",
   "source": "",
   "id": "2bd036d4c8b6b22c",
   "outputs": [],
   "execution_count": null
  },
  {
   "metadata": {},
   "cell_type": "code",
   "source": [
    "%%time\n",
    "con = duckdb.connect('food-delivery.db')\n",
    "query = f\"\"\"\n",
    "SELECT name, Lon, Lat FROM restaurants\n",
    "--WHERE ST_DWithin(geom, ST_Point({x_2154}, {y_2154}), {NNQ_RADIUS});\n",
    "WHERE ST_DWithin(geom, ST_Point({x_2154}, {y_2154}), {NNQ_RADIUS});\n",
    "\"\"\"\n",
    "df_select = con.sql(query).df()"
   ],
   "id": "51d656451bab211c",
   "outputs": [],
   "execution_count": null
  },
  {
   "metadata": {},
   "cell_type": "code",
   "source": "duckdb.sql(\"SELECT * FROM restaurants\")",
   "id": "4a4b53bfa372fc9b",
   "outputs": [],
   "execution_count": null
  },
  {
   "metadata": {},
   "cell_type": "code",
   "source": "tbl_restaurants = duckdb.read_csv(\"./restaurants.csv\")",
   "id": "7cdb698a5437e64",
   "outputs": [],
   "execution_count": null
  },
  {
   "metadata": {},
   "cell_type": "code",
   "source": "duckdb.sql(\"SELECT * FROM restaurants\")",
   "id": "6b9f637e43f5db46",
   "outputs": [],
   "execution_count": null
  },
  {
   "metadata": {},
   "cell_type": "code",
   "source": [
    "tbl_restaurants = duckdb.read_csv(\"./restaurants.csv\")\n",
    "\n",
    "answer=tbl_restaurants.select(\"*\")\n",
    "answer"
   ],
   "id": "bae498a6364d3113",
   "outputs": [],
   "execution_count": null
  },
  {
   "metadata": {},
   "cell_type": "code",
   "source": [
    "%%time\n",
    "answer=tbl_restaurants.select(\"*\").filter(\"Name LIKE 'B%'\")\n",
    "answer"
   ],
   "id": "fb3834a761e3ff37",
   "outputs": [],
   "execution_count": null
  },
  {
   "metadata": {},
   "cell_type": "code",
   "source": [
    "%%time\n",
    "con = duckdb.connect('food-delivery.db')\n",
    "query = \"\"\"\n",
    "INSTALL spatial; LOAD spatial;\n",
    "ALTER TABLE restaurants ADD COLUMN geom GEOMETRY;\n",
    "UPDATE restaurants SET geom = ST_Transform(\n",
    "  ST_Point(Lat, Lon), 'EPSG:4326', 'EPSG:2154'\n",
    ");\"\"\"\n",
    "qresults=con.sql(query)\n",
    "qresults"
   ],
   "id": "1536efc25182b88e",
   "outputs": [],
   "execution_count": null
  },
  {
   "metadata": {},
   "cell_type": "code",
   "source": "df_select",
   "id": "3b1705a24c9214bc",
   "outputs": [],
   "execution_count": null
  },
  {
   "metadata": {},
   "cell_type": "code",
   "source": [
    "import contextily as cx\n",
    "import xyzservices.providers as xyz\n",
    "import geopandas as gpd\n",
    "from shapely.geometry import Point, Polygon\n",
    "import matplotlib.pyplot as plt\n",
    "\n",
    "gdf_select_1 = gpd.GeoDataFrame(\n",
    "        df_select[\"Name\"],\n",
    "        geometry=gpd.points_from_xy(df_select.Lon, df_select.Lat),\n",
    "        crs=\"EPSG:4326\",\n",
    "    )\n",
    "gdf_select_1 = gdf_select_1.to_crs(\"EPSG:2154\")\n",
    "ax = gdf_select_1.plot(markersize=2, alpha=0.7, figsize=(6, 6))\n",
    "point = Point(x_2154, y_2154)\n",
    "buffer = point.buffer(NNQ_RADIUS)\n",
    "buffer_gdf = gpd.GeoDataFrame(geometry=[buffer], crs=\"EPSG:2154\")\n",
    "ax = buffer_gdf.plot(ax=ax, alpha=0.2)\n",
    "\n",
    "try:\n",
    "    #\n",
    "    cx.add_basemap(\n",
    "        ax,\n",
    "        source=xyz.CartoDB.VoyagerNoLabels,\n",
    "        crs=gdf_select_1.crs.to_string(),\n",
    "        alpha=0.8,\n",
    "    )\n",
    "except:\n",
    "    pass\n",
    "_ = plt.axis(\"on\")"
   ],
   "id": "6ca15912a6521416",
   "outputs": [],
   "execution_count": null
  },
  {
   "metadata": {},
   "cell_type": "code",
   "source": [
    "m = visualize_poi(df_select,NNQ_LON,NNQ_LAT)\n",
    "display(m)"
   ],
   "id": "82c7c78b052d19da",
   "outputs": [],
   "execution_count": null
  },
  {
   "metadata": {},
   "cell_type": "code",
   "source": [
    "%%time\n",
    "query = \"CREATE INDEX spatial_index ON restaurants USING RTREE (geom);\"\n",
    "con.sql(query)\n",
    "answer = con.sql(\"SHOW ALL TABLES\").fetchall()\n",
    "answer"
   ],
   "id": "9c3b549cfa730e04",
   "outputs": [],
   "execution_count": null
  },
  {
   "metadata": {},
   "cell_type": "code",
   "source": [
    "query_str=\"\"\"\n",
    "    SELECT TABLE_CATALOG, TABLE_SCHEMA, TABLE_NAME, TABLE_TYPE\n",
    "    FROM INFORMATION_SCHEMA.TABLES\n",
    "    WHERE TABLE_NAME = 'restaurants'\n",
    "    \"\"\"\n",
    "answer=con.sql(query_str).df()\n",
    "answer"
   ],
   "id": "27d91aaa6f82140a",
   "outputs": [],
   "execution_count": null
  },
  {
   "metadata": {},
   "cell_type": "code",
   "source": [
    "query_str=\"\"\"\n",
    "    SELECT TABLE_CATALOG, TABLE_NAME\n",
    "        , COLUMN_NAME, DATA_TYPE, IS_NULLABLE, column_default\n",
    "    FROM INFORMATION_SCHEMA.COLUMNS\n",
    "    WHERE   TABLE_CATALOG = 'food-delivery'\n",
    "        AND TABLE_NAME = 'restaurants'\n",
    "    \"\"\"\n",
    "answer=con.sql(query_str).df()\n",
    "answer\n"
   ],
   "id": "c2912347abecc9a0",
   "outputs": [],
   "execution_count": null
  },
  {
   "metadata": {},
   "cell_type": "code",
   "source": [
    "%%time\n",
    "query = f\"\"\"\n",
    "SELECT name, Lon, Lat FROM restaurants\n",
    "WHERE ST_DWithin(geom, ST_Point({x_2154}, {y_2154}), {NNQ_RADIUS});\"\"\"\n",
    "df_select = con.sql(query).df()"
   ],
   "id": "b9d6af9a8b3347d",
   "outputs": [],
   "execution_count": null
  },
  {
   "metadata": {},
   "cell_type": "code",
   "source": "df_select",
   "id": "e9ee704d9a781e22",
   "outputs": [],
   "execution_count": null
  },
  {
   "metadata": {},
   "cell_type": "code",
   "source": [
    "query = \"\"\"\n",
    "INSTALL h3 FROM community; LOAD h3;\"\"\"\n",
    "con.sql(query)"
   ],
   "id": "7daccf76a865e20e",
   "outputs": [],
   "execution_count": null
  },
  {
   "metadata": {},
   "cell_type": "code",
   "source": [
    "query = \"\"\"\n",
    "DROP INDEX IF EXISTS spatial_index;\"\"\"\n",
    "con.sql(query)"
   ],
   "id": "146466cc43e755a6",
   "outputs": [],
   "execution_count": null
  },
  {
   "metadata": {},
   "cell_type": "code",
   "source": [
    "%%time\n",
    "RESOLUTION=7\n",
    "query = f\"\"\"\n",
    "ALTER TABLE restaurants ADD COLUMN IF NOT EXISTS h3_cell_id BIGINT;\n",
    "UPDATE restaurants\n",
    "  SET h3_cell_id = h3_latlng_to_cell(Lat, Lon, {RESOLUTION});\n",
    "CREATE INDEX h3_index ON restaurants (h3_cell_id)\"\"\"\n",
    "con.sql(query)"
   ],
   "id": "926dc53267c85253",
   "outputs": [],
   "execution_count": null
  },
  {
   "metadata": {},
   "cell_type": "code",
   "source": [
    "RESOLUTION = 7\n",
    "NNQ_RADIUS = 10000\n",
    "\n",
    "h3_cell = h3.latlng_to_cell(NNQ_LAT, NNQ_LON, RESOLUTION)\n",
    "print(f\" LAT:{NNQ_LAT} LON:{NNQ_LON} resolution:{RESOLUTION} -> {h3_cell}\")\n",
    "\n",
    "h3_neighbors = h3.grid_disk(h3_cell, 1)  # Center + 1st ring\n",
    "print(type(h3_neighbors))\n",
    "h3_neighbors"
   ],
   "id": "9ead874b3c199d91",
   "outputs": [],
   "execution_count": null
  },
  {
   "metadata": {},
   "cell_type": "code",
   "source": [
    "query = f\"\"\"\n",
    "WITH query_h3 AS (\n",
    "  SELECT h3_latlng_to_cell({NNQ_LAT}, {NNQ_LON}, {RESOLUTION}) AS h3\n",
    "),\n",
    "nearby_h3 AS (\n",
    "  SELECT CAST(unnest(h3_grid_disk(h3, 1)) AS BIGINT) AS h3\n",
    "  FROM query_h3\n",
    ")\n",
    "SELECT * FROM nearby_h3;\n",
    "\"\"\"\n",
    "df_select = con.sql(query).df()"
   ],
   "id": "5d86e05390f8dbbf",
   "outputs": [],
   "execution_count": null
  },
  {
   "metadata": {},
   "cell_type": "code",
   "source": [
    "df_comp = pd.concat([df_select, pd.DataFrame(h3_neighbors)],axis=1)\n",
    "df_comp"
   ],
   "id": "b57371074448415c",
   "outputs": [],
   "execution_count": null
  },
  {
   "metadata": {},
   "cell_type": "code",
   "source": [
    "#df = df.apply(lambda x: np.square(x) if x.name == 'd' else x, axis=1)\n",
    "hex_df_select = df_select.apply(lambda x: hex(x) if x.name == 'h3' else x, axis=1)\n",
    "hex_df_select"
   ],
   "id": "1c27a0cccb222040",
   "outputs": [],
   "execution_count": null
  },
  {
   "metadata": {},
   "cell_type": "code",
   "source": [
    "%%time\n",
    "query = f\"\"\"\n",
    "SELECT * FROM restaurants;\n",
    "\"\"\"\n",
    "df_select = con.sql(query).df()"
   ],
   "id": "db356c6853b172dd",
   "outputs": [],
   "execution_count": null
  },
  {
   "metadata": {},
   "cell_type": "code",
   "source": "df_select",
   "id": "279ae1902569f611",
   "outputs": [],
   "execution_count": null
  },
  {
   "metadata": {},
   "cell_type": "code",
   "source": [
    "%%time\n",
    "query = f\"\"\"\n",
    "WITH query_h3 AS (\n",
    "  SELECT h3_latlng_to_cell({NNQ_LAT}, {NNQ_LON}, {RESOLUTION}) AS h3\n",
    "),\n",
    "nearby_h3 AS (\n",
    "  SELECT CAST(unnest(h3_grid_disk(h3, 1)) AS BIGINT) AS h3\n",
    "  FROM query_h3\n",
    ")\n",
    "SELECT * FROM nearby_h3;\n",
    "\"\"\"\n",
    "df_select = con.sql(query).df()"
   ],
   "id": "78e4bd26dd04bcfb",
   "outputs": [],
   "execution_count": null
  },
  {
   "metadata": {},
   "cell_type": "code",
   "source": "df_select",
   "id": "855e9008fb527484",
   "outputs": [],
   "execution_count": null
  },
  {
   "metadata": {},
   "cell_type": "code",
   "source": [
    "%%time\n",
    "query = f\"\"\"\n",
    "WITH query_h3 AS (\n",
    "  SELECT h3_latlng_to_cell({NNQ_LAT}, {NNQ_LON}, {RESOLUTION}) AS h3\n",
    "),\n",
    "nearby_h3 AS (\n",
    "  SELECT CAST(unnest(h3_grid_disk(h3, 1)) AS BIGINT) AS h3 FROM query_h3\n",
    ")\n",
    "SELECT restaurants.*, nearby_h3.*\n",
    "FROM restaurants\n",
    "JOIN nearby_h3 ON restaurants.h3_cell_id = nearby_h3.h3;\n",
    "\"\"\"\n",
    "df_select = con.sql(query).df()\n",
    "df_select"
   ],
   "id": "e104438656253f86",
   "outputs": [],
   "execution_count": null
  },
  {
   "metadata": {},
   "cell_type": "code",
   "source": [
    "%%time\n",
    "query = f\"\"\"\n",
    "WITH query_h3 AS (\n",
    "  SELECT h3_latlng_to_cell({NNQ_LAT}, {NNQ_LON}, {RESOLUTION}) AS h3\n",
    "),\n",
    "nearby_h3 AS (\n",
    "  SELECT CAST(unnest(h3_grid_disk(h3, 1)) AS BIGINT) AS h3 FROM query_h3\n",
    ")\n",
    "SELECT restaurants.*\n",
    "FROM restaurants\n",
    "WHERE ST_Intersects(geom, ST_Buffer(ST_Point({x_2154}, {y_2154}), {NNQ_RADIUS}));\n",
    "\"\"\"\n",
    "df_select = con.sql(query).df()\n",
    "df_select"
   ],
   "id": "f3017ea81c1921d4",
   "outputs": [],
   "execution_count": null
  },
  {
   "metadata": {},
   "cell_type": "code",
   "source": [
    "query = f\"\"\"\n",
    "EXPLAIN ANALYZE\n",
    "WITH query_h3 AS (\n",
    "  SELECT h3_latlng_to_cell({NNQ_LAT}, {NNQ_LON}, {RESOLUTION}) AS h3\n",
    "),\n",
    "nearby_h3 AS (\n",
    "  SELECT CAST(unnest(h3_grid_disk(h3, 1)) AS BIGINT) AS h3 FROM query_h3\n",
    ")\n",
    "SELECT restaurants.*\n",
    "FROM restaurants\n",
    "WHERE ST_Intersects(geom, ST_Buffer(ST_Point({x_2154}, {y_2154}), {NNQ_RADIUS}));\n",
    "\"\"\"\n",
    "df_select = con.sql(query).fetchall()\n",
    "#df_select"
   ],
   "id": "45106854da0ac09b",
   "outputs": [],
   "execution_count": null
  },
  {
   "metadata": {},
   "cell_type": "code",
   "source": [
    "analyzed_plan = df_select[0][1]\n",
    "analyzed_plan\n",
    "\n",
    "for line in analyzed_plan.split('\\n'):\n",
    "    print(line)"
   ],
   "id": "44742016b818716d",
   "outputs": [],
   "execution_count": null
  },
  {
   "metadata": {},
   "cell_type": "code",
   "source": [
    "%%time\n",
    "query = f\"\"\"\n",
    "WITH query_h3 AS (\n",
    "  SELECT h3_latlng_to_cell({NNQ_LAT}, {NNQ_LON}, {RESOLUTION}) AS h3\n",
    "),\n",
    "nearby_h3 AS (\n",
    "  SELECT CAST(unnest(h3_grid_disk(h3, 1)) AS BIGINT) AS h3 FROM query_h3\n",
    ")\n",
    "SELECT restaurants.*\n",
    "FROM restaurants\n",
    "INNER JOIN nearby_h3 ON restaurants.h3_cell_id = nearby_h3.h3\n",
    "WHERE ST_Intersects(geom, ST_Buffer(ST_Point({x_2154}, {y_2154}), {NNQ_RADIUS}));\n",
    "\"\"\"\n",
    "df_select = con.sql(query).df()"
   ],
   "id": "6cee44531feb7bc8",
   "outputs": [],
   "execution_count": null
  },
  {
   "metadata": {},
   "cell_type": "code",
   "source": "df_select",
   "id": "9ff799d079d28053",
   "outputs": [],
   "execution_count": null
  },
  {
   "metadata": {},
   "cell_type": "code",
   "source": [
    "query = f\"\"\"\n",
    "EXPLAIN ANALYZE\n",
    "WITH query_h3 AS (\n",
    "  SELECT h3_latlng_to_cell({NNQ_LAT}, {NNQ_LON}, {RESOLUTION}) AS h3\n",
    "),\n",
    "nearby_h3 AS (\n",
    "  SELECT CAST(unnest(h3_grid_disk(h3, 1)) AS BIGINT) AS h3 FROM query_h3\n",
    ")\n",
    "SELECT restaurants.*\n",
    "FROM restaurants\n",
    "INNER JOIN nearby_h3 ON restaurants.h3_cell_id = nearby_h3.h3\n",
    "WHERE ST_Intersects(geom, ST_Buffer(ST_Point({x_2154}, {y_2154}), {NNQ_RADIUS}));\n",
    "\"\"\"\n",
    "df_select = con.sql(query).fetchall()"
   ],
   "id": "1da4619fab2db950",
   "outputs": [],
   "execution_count": null
  },
  {
   "metadata": {},
   "cell_type": "code",
   "source": [
    "analyzed_plan = df_select[0][1]\n",
    "analyzed_plan\n",
    "\n",
    "for line in analyzed_plan.split('\\n'):\n",
    "    print(line)"
   ],
   "id": "9bb92b61aae3df07",
   "outputs": [],
   "execution_count": null
  },
  {
   "metadata": {},
   "cell_type": "code",
   "source": "",
   "id": "9d3a856164f810bb",
   "outputs": [],
   "execution_count": null
  },
  {
   "metadata": {},
   "cell_type": "code",
   "source": [
    "import json\n",
    "\n",
    "file_name = './restaurants.json'\n",
    "data = None\n",
    "\n",
    "try:\n",
    "    with open(file_name, 'r') as file:\n",
    "        data = json.load(file)\n",
    "except json.JSONDecodeError:\n",
    "    print(f\"Error: Failed to decode JSON from the file {file_name}.\")\n",
    "\n",
    "if data:\n",
    "    print(json.dumps(data, indent=4))"
   ],
   "id": "2eccadf5cc6c5e9",
   "outputs": [],
   "execution_count": null
  }
 ],
 "metadata": {
  "kernelspec": {
   "display_name": "Python 3",
   "language": "python",
   "name": "python3"
  },
  "language_info": {
   "codemirror_mode": {
    "name": "ipython",
    "version": 2
   },
   "file_extension": ".py",
   "mimetype": "text/x-python",
   "name": "python",
   "nbconvert_exporter": "python",
   "pygments_lexer": "ipython2",
   "version": "2.7.6"
  }
 },
 "nbformat": 4,
 "nbformat_minor": 5
}
